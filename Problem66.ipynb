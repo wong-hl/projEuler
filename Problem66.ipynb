{
 "cells": [
  {
   "cell_type": "markdown",
   "metadata": {},
   "source": [
    "<h1> Problem 66 - Diophantine Equation </h1> \n",
    "\n",
    "Consider the quadratic Diophantine equation of the form, \n",
    "\\begin{equation}\n",
    "    x^2 - D y^2 = 1\n",
    "\\end{equation}\n",
    "For example, when $D=13$, the minimal solution in $x$ is $649^2 - 13\\times 180^2 = 1$. It can be assumed that there are no solutions in positive integers when $D$ is square. \n",
    "\n",
    "By finding the minimal solution in $x$ for $D = (2,3, 4, 6,7)$, the following is obtained, \n",
    "\\begin{align*}\n",
    "    3^2 - 2 \\times 2^2 &= 1 \\\\\n",
    "    2^2 - 3 \\times 1^2 &= 1 \\\\\n",
    "    9^2 - 5 \\times 4^2 &= 1 \\\\\n",
    "    5^2 - 6 \\times 2^2 &= 1 \\\\\n",
    "    8^2 - 7 \\times 3^2 &= 1 \n",
    "\\end{align*}\n",
    "Hence, by considering the minimal solution in $x$ for $D \\leq 7$, the largest $x$ is obtained when $D=5$. \n",
    "\n",
    "Find the value of $D \\leq 1000$ in minimal soution of $x$ for which the largest $x$ is obtained. \n",
    "\n",
    "---\n",
    "\n"
   ]
  },
  {
   "cell_type": "markdown",
   "metadata": {},
   "source": [
    "There are two methods to solve this. \n",
    "\n",
    "The first method is the [Brahmagupta method](https://en.wikipedia.org/wiki/Pell%27s_equation) which utilises the identity, \n",
    "\\begin{equation}\n",
    "    (x_1 - Ny_1^2) (x_2^2 - N y_2^2) = (x_1 x_2 + N y_1 y_2)^2 - N (x_1 y_2 + x_2y_1)^2\n",
    "\\end{equation}\n",
    "Therefore, tripes of the form $(x_1, y_1, k_1)$ and $(x_2, y_2, k_2)$ that are solutions of $x^2 - Ny^2 = k$, to generate a new triple \n",
    "\\begin{equation}\n",
    "    (x_1 x_2 + N y_1y_2, x_1y_2 + x_2 y_1, k_1k_2) \n",
    "    % \\quad \\text{and} \\quad (x_1 x_2 - N y_1 y_2, x_1 y_2 - x_2 y_1, k_1k_2)\n",
    "\\end{equation}\n",
    "For any triple $(a,b,k)$ that satisfies $a^2 - Nb^2 = k$, it is composed of the trivial triple $(m, 1, m^2 - N)$ to yield the new triple, \n",
    "\\begin{equation}\n",
    "    (am + Nb, a + bm, k(m^2 -N))\n",
    "\\end{equation}\n",
    "If $a$ and $b$ are relative primes ($\\implies gcd(a,b) = 1$), then \n",
    "\\begin{equation}\n",
    "    \\bigg(\\frac{am + Nb}{k}\\bigg)^2 - N \\bigg(\\frac{a + bm}{k}\\bigg)^2 = \\frac{m^2 - N}{k}\n",
    "\\end{equation}\n",
    "\n",
    "Therefore, by starting with the trivial solution of $a=m$ and $b=1$, the solution can be achieved by solving it iteratirvely and termination when a new $(a, b, k)$ has $k=1$. Two conditions are imposed on how $m$ is selected, \n",
    "1. $\\frac{a+bm}{k} = \\text{integer}$\n",
    "2. $m$ minimises $m^2 - N$\n",
    "Annoyingly, I am unable an efficient method to find $m$. The only method I can think of involves just trying the possible $m$ values. \n",
    "\n",
    "\n",
    "The second method involves the use of continued fractions. The solution corresponds to the $k^{th}$ convergents $\\big(\\frac{p_k}{q_k}\\big)$ of $\\sqrt{n}$, where \n",
    "\\begin{equation}\n",
    "    \\sqrt{n} = [q_0; q_1, q_2, \\ldots ] = [q_0; \\overline{q_1, \\ldots, q_m} ] \n",
    "\\end{equation}\n",
    "where $q_m = 2q_0$ and the terms from $q_1$ to $q_{m-1}$ is a palindrome. I had originally hoped that there would be a deterministic method to find the length of the priodicity without ever computing the continued fraction. However, I was not able to find one. Therfore, I've concluded that the only method to solve this problem is by manually finding the all the solution for Pell's equation with $d \\leq 1000$. \n",
    "\n",
    "The algorithm implemented can be found [here](http://www.kurims.kyoto-u.ac.jp/EMIS/journals/GMN/yahoo_site_admin/assets/docs/1_GMN-8492-V28N2.190180001.pdf). [This](https://kconrad.math.uconn.edu/blurbs/ugradnumthy/pelleqn1.pdf), [this](https://kconrad.math.uconn.edu/blurbs/ugradnumthy/pelleqn2.pdf) and [this](http://web.math.princeton.edu/mathlab/jr02fall/Periodicity/alexajp.pdf) are also useful references. "
   ]
  },
  {
   "cell_type": "code",
   "execution_count": 2,
   "metadata": {},
   "outputs": [],
   "source": [
    "fn is_square(n: u32) -> bool {\n",
    "    let sqrt_n_fractional_part: f64 = f64::from(n).sqrt().fract();\n",
    "    let eps: f64 = 1.0e-7_f64;\n",
    "    \n",
    "    if sqrt_n_fractional_part > -eps && sqrt_n_fractional_part < eps {\n",
    "        true\n",
    "    } else {\n",
    "        false\n",
    "    }\n",
    "}"
   ]
  },
  {
   "cell_type": "code",
   "execution_count": 3,
   "metadata": {},
   "outputs": [],
   "source": [
    "fn update_q(d: u32, c_i_minus1: u32, c_i: u32) -> u32 {\n",
    "    let d_float = f64::from(d);\n",
    "    let c_i_minus_1_float = f64::from(c_i_minus1);\n",
    "    let c_i_float = f64::from(c_i);\n",
    "    \n",
    "    let q = ((d_float - c_i_minus_1_float*c_i_float).sqrt() + d_float.sqrt())/(c_i_float);\n",
    "//     println!(\"{}\", c_i_float);\n",
    "    \n",
    "    q.floor() as u32\n",
    "}"
   ]
  },
  {
   "cell_type": "code",
   "execution_count": 4,
   "metadata": {},
   "outputs": [],
   "source": [
    "fn update_c(d: u32, c_i_minus1: u32, c_i: u32, q_i: u32) -> u32 {\n",
    "    let d_float = f64::from(d);\n",
    "    let q_float = f64::from(q_i);\n",
    "    let c_i_minus_1_float = f64::from(c_i_minus1);\n",
    "    let c_i_float = f64::from(c_i);\n",
    "    \n",
    "    let term_1 = 2.0_f64*q_float*((d_float - c_i_minus_1_float*c_i_float).sqrt());\n",
    "    let term_3 = q_float*q_float*c_i_float;\n",
    "    \n",
    "    (term_1 + c_i_minus_1_float - term_3) as u32\n",
    "}"
   ]
  },
  {
   "cell_type": "code",
   "execution_count": 5,
   "metadata": {},
   "outputs": [],
   "source": [
    "#[derive(Clone, Debug)]\n",
    "struct PellsSolution {\n",
    "    a: u64, \n",
    "    b: u64, \n",
    "    c: u32,\n",
    "    q: Vec<u32>,\n",
    "}\n",
    "\n",
    "impl PellsSolution {\n",
    "    fn new(a: u64, b:u64, c:u32, q: Vec<u32>) -> PellsSolution {\n",
    "        PellsSolution {a,b,c,q}\n",
    "    }\n",
    "    \n",
    "    fn find_next_a(previous_a: u64, a: u64, q:u32) -> u64 {\n",
    "        (q as u64)*a + previous_a\n",
    "    }\n",
    "    \n",
    "    fn find_next_b(previous_b: u64, b: u64, q:u32) -> u64 {\n",
    "        (q as u64)*b + previous_b\n",
    "    }\n",
    "    \n",
    "    fn find_next_c(d: u32, previous_c: u32, c: u32, q:u32) -> u32 {\n",
    "        update_c(d, previous_c.clone(), c.clone(), q) as u32\n",
    "    }\n",
    "    \n",
    "    fn new_from(prev_iter: &PellsSolution, cur_iter: &PellsSolution, q: u32, d:u32) -> PellsSolution {\n",
    "//         let new_a = PellsSolution::find_next_a(prev_iter.a.clone(), cur_iter.a.clone(), q);\n",
    "//         let new_b = PellsSolution::find_next_b(prev_iter.b.clone(), cur_iter.b.clone(), q);\n",
    "        let new_c = PellsSolution::find_next_c(d, prev_iter.c.clone(), cur_iter.c.clone(), q);\n",
    "        let mut q_history = cur_iter.q.clone(); \n",
    "        q_history.push(q);\n",
    "//         println!(\"{} {} {} {}\", new_a, new_b, new_c, q);\n",
    "        \n",
    "//         PellsSolution::new(new_a, new_b, new_c)\n",
    "        PellsSolution::new(0, 0, new_c, q_history.clone())\n",
    "    }\n",
    "    \n",
    "    fn replace(replacement: PellsSolution) -> PellsSolution {\n",
    "        PellsSolution{..replacement}\n",
    "    }\n",
    "}"
   ]
  },
  {
   "cell_type": "code",
   "execution_count": 6,
   "metadata": {},
   "outputs": [],
   "source": [
    "fn solve_pells(d: u32) -> PellsSolution {\n",
    "//     let mut iter_previous = PellsSolution {a: 0, b: 1, c: d};\n",
    "    let mut iter_previous = PellsSolution::new(0,1,d, Vec::new());\n",
    "    let mut iter = PellsSolution::new(1, 0, 1, Vec::new());\n",
    "    let mut iter_next: PellsSolution;\n",
    "    let mut q: u32;\n",
    "    let q0: u32 = f64::from(d).sqrt().floor() as u32;\n",
    "    let mut m: u32 = 0;\n",
    "    \n",
    "    loop {\n",
    "        q = update_q(d, iter_previous.c.clone(), iter.c.clone());\n",
    "        iter_next = PellsSolution::new_from(&iter_previous, &iter, q, d);\n",
    "        \n",
    "//         if &iter_next.c == &1 {\n",
    "//             break\n",
    "//         }\n",
    "        if q == 2*q0 && (m & 1) == 0{\n",
    "            return iter\n",
    "        }\n",
    "        \n",
    "        m += 1;\n",
    "        iter_previous = PellsSolution::replace(iter);\n",
    "        iter = PellsSolution::replace(iter_next);\n",
    "    }\n",
    "    \n",
    "}"
   ]
  },
  {
   "cell_type": "code",
   "execution_count": 7,
   "metadata": {},
   "outputs": [],
   "source": [
    "fn largest_fundamental_solution(d_upper_bound: u32) -> u32 {\n",
    "    let mut max_q_sum: u32 = 0;  \n",
    "    let mut max_d: u32 = 0;\n",
    "    \n",
    "    for i in 2..d_upper_bound + 1 {\n",
    "        if !is_square(i) {\n",
    "            let this_sol = solve_pells(i);\n",
    "            let q_sum = this_sol.q.clone().into_iter().sum();\n",
    "            if q_sum > max_q_sum {\n",
    "                max_q_sum = q_sum;\n",
    "                max_d = i;\n",
    "//                 println!(\"{}\", i)\n",
    "            }\n",
    "        }\n",
    "    }\n",
    "    \n",
    "    max_d\n",
    "}"
   ]
  },
  {
   "cell_type": "code",
   "execution_count": 8,
   "metadata": {},
   "outputs": [
    {
     "name": "stdout",
     "output_type": "stream",
     "text": [
      "PellsSolution { a: 0, b: 0, c: 1, q: [23, 3, 1, 5, 1, 8, 2, 4, 1, 2, 3, 1, 1, 11, 15, 2, 2, 1, 1, 1, 1, 1, 1, 2, 2, 15, 11, 1, 1, 3, 2, 1, 4, 2, 8, 1, 5, 1, 3, 46, 3, 1, 5, 1, 8, 2, 4, 1, 2, 3, 1, 1, 11, 15, 2, 2, 1, 1, 1, 1, 1, 1, 2, 2, 15, 11, 1, 1, 3, 2, 1, 4, 2, 8, 1, 5, 1, 3] } \n"
     ]
    }
   ],
   "source": [
    "let sol = solve_pells(541);\n",
    "println!(\"{:?} \", sol);"
   ]
  },
  {
   "cell_type": "code",
   "execution_count": 9,
   "metadata": {},
   "outputs": [
    {
     "name": "stdout",
     "output_type": "stream",
     "text": [
      "For D < 1001, the largest x is 661\n"
     ]
    }
   ],
   "source": [
    "let max_x = largest_fundamental_solution(1000);\n",
    "println!(\"For D < 1001, the largest x is {}\", max_x);"
   ]
  }
 ],
 "metadata": {
  "kernelspec": {
   "display_name": "Rust",
   "language": "rust",
   "name": "rust"
  },
  "language_info": {
   "codemirror_mode": "rust",
   "file_extension": ".rs",
   "mimetype": "text/rust",
   "name": "Rust",
   "pygment_lexer": "rust",
   "version": ""
  }
 },
 "nbformat": 4,
 "nbformat_minor": 4
}
