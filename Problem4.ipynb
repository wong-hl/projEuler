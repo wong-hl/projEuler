{
 "cells": [
  {
   "cell_type": "markdown",
   "metadata": {},
   "source": [
    "<h1> Largest Palindrome Product </h1>\n",
    "\n",
    "A palindromic number reads the same both ways. The largest palindrome made from the product of two 2-digit numbers is $9009 = 91 \\times 99$. \n",
    "\n",
    "Find the _largest_ palindrome made from the _product_ of _two 3-digit numbers_."
   ]
  },
  {
   "cell_type": "markdown",
   "metadata": {},
   "source": [
    "The formal definition of a palindromic number in accordance to [wikipedia](https://en.wikipedia.org/wiki/Palindromic_number) is as follows. Consider a number $n>0$ in base $b\\geq 2$,\n",
    "$$\n",
    "    n = \\sum_{i=0}^k a_i b^i\n",
    "$$\n",
    "where $n$ is written in standard notation with $k+1$ digits $a_i$, $0 \\leq a_i < b \\forall i$ and $a_k \\neq 0$. Then, $n$ is palindromic $\\Leftrightarrow a_i = a_{k-i} \\forall i$.\n",
    "Assuming we are in base 10 (decimal system), then the equation is, \n",
    "$$\n",
    "    n = \\sum_{i=0}^k a_i 10^i \\qquad \\Longleftrightarrow \\qquad a_i = a_{k-i} \\forall i\n",
    "$$"
   ]
  },
  {
   "cell_type": "markdown",
   "metadata": {},
   "source": [
    "**Brute force method:** Start from $999 \\times 998$ and test if each number is palindromic. The first one is the solution. Upperbound, need to test $900$ numbers. "
   ]
  },
  {
   "cell_type": "code",
   "execution_count": 2,
   "metadata": {},
   "outputs": [],
   "source": [
    "/// Function to test if number is palindromic\n",
    "fn is_palindrome(num: Vec<usize>) -> bool {\n",
    "    let max_n: usize = (num.len() as f64).sqrt().ceil() as usize;\n",
    "    let vec_len: usize = num.len() as usize;\n",
    "    \n",
    "    for (i, n) in num.iter().enumerate(){\n",
    "//         println!(\"{}, {}\", i, n);\n",
    "        if n != &num[(vec_len - i - 1) as usize] {\n",
    "            return false\n",
    "        } else if i == max_n {\n",
    "            return true\n",
    "        }\n",
    "    }\n",
    "    true\n",
    "}"
   ]
  },
  {
   "cell_type": "code",
   "execution_count": 3,
   "metadata": {},
   "outputs": [],
   "source": [
    "/// Function to convert a number into a vector containing its digits \n",
    "fn to_vec(num: usize) -> Vec<usize> {\n",
    "    let num_str = num.to_string();\n",
    "    let num_char = num_str.chars();\n",
    "    let n = num_str.len();\n",
    "    let mut out = vec![0 as usize; n];\n",
    "    let mut i: usize = 0;\n",
    "    \n",
    "    for x in num_char {\n",
    "        out[i] = x.to_digit(10_u32).unwrap() as usize;\n",
    "        i += 1\n",
    "    }\n",
    "//     println!(\"{:?}\", out);\n",
    "    \n",
    "    out\n",
    "}"
   ]
  },
  {
   "cell_type": "code",
   "execution_count": 4,
   "metadata": {},
   "outputs": [],
   "source": [
    "/// Function to find largest palindromic number\n",
    "fn largest_palindromic_number() -> usize{\n",
    "    for i in (101..1000).rev() {\n",
    "        let n: usize = i*(i-1);\n",
    "//         println!(\"{}\", n);\n",
    "//         println!(\"{}\", i);\n",
    "        let is_pal = is_palindrome(to_vec(n));\n",
    "//         println!(\"{}\", is_pal);\n",
    "        if is_pal {\n",
    "//             println!(\"{} {}\", i, i-1);\n",
    "            return n;\n",
    "        }\n",
    "    }\n",
    "    0\n",
    "}"
   ]
  },
  {
   "cell_type": "code",
   "execution_count": 5,
   "metadata": {},
   "outputs": [
    {
     "name": "stdout",
     "output_type": "stream",
     "text": [
      "289982\n"
     ]
    }
   ],
   "source": [
    "let sol = largest_palindromic_number();\n",
    "println!(\"{}\", sol);"
   ]
  },
  {
   "cell_type": "markdown",
   "metadata": {},
   "source": [
    "This solution is **incorrect**. \n",
    "\n",
    "This is only the solutions along the leading diagonal of two numbers from $[999,101]$. To find all possible combinations, there is a need to find a 2D array with $900$ values in each dimension. Therefore, the actual number of multiples to evaluate is $900 \\times 900$.\n",
    "\n",
    "Therefore, the brute force method is not suitable. I knew it wouldn't be so easy."
   ]
  },
  {
   "cell_type": "markdown",
   "metadata": {},
   "source": [
    "**Hopefully smarter method**\n",
    "\n",
    "Consider, what is the multiplication of two 3-digit values. It is, \n",
    "<!-- $$\n",
    "(999 - x)(999-y) = 998001 - 999x - 999y + xy = 998001 - 999(x + y) + xy\n",
    "$$  -->\n",
    "$$\n",
    "n = (999 - x)(999-y) = 998001 - 999(x + y) + xy\n",
    "$$ \n",
    "where $0 \\leq x \\leq 900$ and $0 \\leq y \\leq 900$.\n",
    "Alternatively, \n",
    "<!-- $$\n",
    "(1000 - x)(1000-y) = 1000000 - 1000x - 1000y + xy = 1000000 - 1000(x+y) + xy\n",
    "$$  -->\n",
    "$$\n",
    "n = (1000 - x)(1000-y) = 1000000 - 1000(x+y) + xy\n",
    "$$ \n",
    "where $1 \\leq x \\leq 900$ and $1 \\leq y \\leq 900$.\n",
    "\n",
    "For $999999 \\leq n < 99999$, \n",
    "$$\n",
    "    n_{pal} = a(100000) + b(10000) + c(1000) + d(100) + e(10) + f\n",
    "$$\n",
    "if the number is palindrome, then it fulfils that, \n",
    "$$\n",
    "    n_{pal} = a(100001) + b(10010) + c(1100)\n",
    "$$\n",
    "where $a = n_{pal} \\% 10$, $b = (n_{pal}/10) \\% 10$, $c = (n_{pal}/100) \\% 10$, i.e. $a$ is the digit in the ones place, etc.\n",
    "N.B. $\\% \\implies$ modulo.\n",
    "\n",
    "Therefore, if $n$ is used to find $a, b, c$ and the resulting number (using equation for $n_{pal}$) is the same (i.e. $n - n_{pal} = 0$). Then, the number is palindrome. \n",
    "\n",
    "This reduces the computational cost of each evaluation but it doesn't decrease the number of evaluations"
   ]
  },
  {
   "cell_type": "markdown",
   "metadata": {},
   "source": [
    "<!-- If I equate $n = n_{pal}$,\n",
    "$$\n",
    "    100000(a-10) + 10010b + 1000(c + x + y) + 100c + a - xy = 0 \n",
    "$$ -->\n",
    "<!-- The condition also implies that $a-c \\geq 0 \\implies a \\geq c$. Therefore,  -->\n",
    "\n",
    "If $1000<xy<100$, then the first 3 numbers are identical to the last 3 numbers, \n",
    "\\begin{gather}\n",
    "    100a + 10 b + c = 1000-(x+y) \\label{eq: first 3} \\\\\n",
    "    100c + 10 b + a = xy \\label{eq: last 3}\n",
    "\\end{gather}\n",
    "Solving the equations simultaneously, Eqns (\\ref{eq: first 3}) $-$ (\\ref{eq: last 3}),\n",
    "\\begin{equation}\n",
    "    99 (a-c) = 1000 - (x + y + xy) \\label{eq: sim}\n",
    "\\end{equation}\n",
    "Since the problem is symmetrical, $a-c$ will be within the range $[0,9]$. Using the identity, $(x + g)(y+h) = xy + xh + gy + gh$, Eqn \\ref{eq: sim} can be rearrange to, \n",
    "\\begin{equation}\n",
    "    1001 - 99 (a-c) = (x+1)(y+1) \\implies y+1 = \\frac{1001 - 99 (a-c) }{x+1}\n",
    "\\end{equation}\n",
    "Therefore, only $10 \\times 1100=11000$ as opposed to $900^2= 810000$ (all $xy$ values between $1000<xy<100$). \n",
    "\n",
    "This is also significantly cheaper as only simple mathematical operations need to be performed"
   ]
  },
  {
   "cell_type": "code",
   "execution_count": 6,
   "metadata": {},
   "outputs": [],
   "source": [
    "fn move_3_palindrome() -> usize {\n",
    "    for z in 0..9 {\n",
    "        let n: usize = 1001-99*z;\n",
    "        for i in 2..n {\n",
    "            // 1 <= x <= 900\n",
    "            // Therefore, min(x+1) = 2\n",
    "            if n % i == 0 {\n",
    "                // Condition implies perfectly dividable => multiple \n",
    "                let x: usize = i - 1; \n",
    "                let y: usize = n/i  - 1;\n",
    "                let eq1: usize = 1000 - 1*(x + y);\n",
    "                let eq2: usize = x*y;\n",
    "                if eq2 > 999 {\n",
    "                    break;\n",
    "                }\n",
    "//                 println!(\"{}, {}\", eq1, eq2);\n",
    "                \n",
    "                if (eq1%10) == (eq2/100)%10 && (eq1/10)%10 == (eq2/10)%10 && (eq1/100)%10 == eq2%10 {\n",
    "//                     println!(\"{}, {}\", x, y);\n",
    "                    return (1000 - x)*(1000 - y)\n",
    "                }\n",
    "            }\n",
    "        }\n",
    "    }\n",
    "    0\n",
    "}"
   ]
  },
  {
   "cell_type": "code",
   "execution_count": 7,
   "metadata": {},
   "outputs": [
    {
     "name": "stdout",
     "output_type": "stream",
     "text": [
      "906609\n"
     ]
    }
   ],
   "source": [
    "let soln = move_3_palindrome();\n",
    "println!(\"{}\", soln);"
   ]
  },
  {
   "cell_type": "markdown",
   "metadata": {},
   "source": [
    "I want a number larger than this. Therefore, I want $xy$ to be smaller.\n",
    "\n",
    "Actually, for the remaining ones to test, it is feasible to test it using brute force. "
   ]
  },
  {
   "cell_type": "code",
   "execution_count": 8,
   "metadata": {},
   "outputs": [
    {
     "name": "stdout",
     "output_type": "stream",
     "text": [
      "A larger palindrome number does not exitst\n"
     ]
    }
   ],
   "source": [
    "for x in 1..99 {\n",
    "    for y in 1..99 {\n",
    "        if x*y > 100 {\n",
    "            break;\n",
    "        }\n",
    "        let n: usize = (1000-x)*(1000-y);\n",
    "        let a: usize = n%10;\n",
    "        let b: usize = (n/10)%10;\n",
    "        let c: usize = (n/100)%10;\n",
    "        let n_pal: usize = a*100001 + b*10010 + c*1100;\n",
    "        if n == n_pal{\n",
    "            println!(\"{}\", n);\n",
    "        }\n",
    "    }\n",
    "}\n",
    "println!(\"A larger palindrome number does not exist\");"
   ]
  }
 ],
 "metadata": {
  "kernelspec": {
   "display_name": "Rust",
   "language": "rust",
   "name": "rust"
  },
  "language_info": {
   "codemirror_mode": "rust",
   "file_extension": ".rs",
   "mimetype": "text/rust",
   "name": "Rust",
   "pygment_lexer": "rust",
   "version": ""
  }
 },
 "nbformat": 4,
 "nbformat_minor": 4
}
