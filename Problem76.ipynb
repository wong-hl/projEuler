{
 "cells": [
  {
   "cell_type": "markdown",
   "metadata": {},
   "source": [
    "<h1> Counting Summations </h1>\n",
    "\n",
    "It is possible to write $5$ as a sum in exactly $6$ different ways:\n",
    "\\begin{align*}\n",
    "    &4 + 1 \\\\\n",
    "    &3 + 2 \\\\\n",
    "    &3 + 1 + 1 \\\\\n",
    "    &2 + 2 + 1 \\\\\n",
    "    &2 + 1 + 1 + 1 \\\\\n",
    "    &1 + 1 + 1 + 1 + 1 \n",
    "\\end{align*}\n",
    "\n",
    "How many different ways can $100$ be written as a sum of at least $2$ positive integers?\n",
    "\n",
    "---\n",
    "\n",
    "The partition of integers can be described by the recurrence relation,\n",
    "\\begin{gather}\n",
    "    p_n = \\sum_{k=1}^{n} p_k(n) \\\\\n",
    "    p_k(n) = p_k(n-k) + p_{k-1}(n-1) \\\\\n",
    "    p(n) = \\sum_{k \\in \\mathcal{z}} (-1)^{k+1} p(n-k(3k-1)/2)\n",
    "\\end{gather}\n",
    "<!-- https://www.whitman.edu/mathematics/cgt_online/book/section03.03.html -->\n",
    "<!-- https://en.wikipedia.org/wiki/Partition_function_(number_theory) -->"
   ]
  },
  {
   "cell_type": "code",
   "execution_count": 2,
   "metadata": {
    "ExecuteTime": {
     "end_time": "2021-09-02T11:06:20.553682975+00:00",
     "start_time": "2021-09-02T11:06:20.553Z"
    }
   },
   "outputs": [],
   "source": [
    "// use std::ops::{Add, Mul, Div};\n",
    "\n",
    "// extern crate num;\n",
    "// use num::PrimInt;\n",
    "// use num::cast::ToPrimitive;"
   ]
  },
  {
   "cell_type": "code",
   "execution_count": 3,
   "metadata": {
    "ExecuteTime": {
     "end_time": "2021-09-02T11:06:20.558109743+00:00",
     "start_time": "2021-09-02T11:06:20.557Z"
    }
   },
   "outputs": [],
   "source": [
    "\n",
    "// fn sum_first_n_natural_numbers<T> (n:T) -> T \n",
    "//     where T: Add<Output = T> + Mul<Output = T> + Div<Output = T> + PrimInt\n",
    "// {\n",
    "//     let two = num::cast(2).unwrap();\n",
    "//     n*(n + T::one())/two\n",
    "// }"
   ]
  },
  {
   "cell_type": "code",
   "execution_count": 4,
   "metadata": {
    "ExecuteTime": {
     "end_time": "2021-09-02T11:06:20.561470769+00:00",
     "start_time": "2021-09-02T11:06:20.560Z"
    }
   },
   "outputs": [],
   "source": [
    "// fn number_of_summations<T>(n: T) -> T \n",
    "//     where T: Mul<Output = T> + Div<Output = T> + PrimInt + std::fmt::Debug\n",
    "// {\n",
    "//     if n == num::cast(2).unwrap() {\n",
    "//         return T::one()\n",
    "//     }\n",
    "    \n",
    "//     let is_even : bool = n & num::one() == num::zero();\n",
    "//     let two: T = num::cast(2).unwrap();\n",
    "//     let half_n = n/two;\n",
    "    \n",
    "// //     println!(\"{} {:?}\", is_even, half_n);\n",
    "    \n",
    "//     if is_even {\n",
    "//         two*sum_first_n_natural_numbers(half_n) - half_n\n",
    "//     } else { \n",
    "//         two*sum_first_n_natural_numbers(half_n)  \n",
    "//     }\n",
    "    \n",
    "// }"
   ]
  },
  {
   "cell_type": "markdown",
   "metadata": {},
   "source": [
    "## Brute force"
   ]
  },
  {
   "cell_type": "code",
   "execution_count": 5,
   "metadata": {
    "ExecuteTime": {
     "end_time": "2021-09-02T11:06:20.866381689+00:00",
     "start_time": "2021-09-02T11:06:20.564Z"
    }
   },
   "outputs": [
    {
     "name": "stdout",
     "output_type": "stream",
     "text": [
      "1 2\n",
      "5 7\n",
      "12 15\n",
      "22 26\n",
      "35 40\n",
      "51 57\n",
      "70 77\n"
     ]
    }
   ],
   "source": [
    "(1..10).for_each(|x| println!(\"{} {}\",x*(3*x-1)/2, x*(3*x-1)/2+x));"
   ]
  },
  {
   "cell_type": "code",
   "execution_count": 6,
   "metadata": {
    "ExecuteTime": {
     "end_time": "2021-09-02T11:06:21.089373840+00:00",
     "start_time": "2021-09-02T11:06:20.567Z"
    }
   },
   "outputs": [
    {
     "name": "stdout",
     "output_type": "stream",
     "text": [
      "92 100\n",
      "117 126\n"
     ]
    }
   ],
   "source": [
    "fn recurrent_partition_function(input_num: i32) -> i32 \n",
    "{\n",
    "    // Put lowest cases into match to reduce computational time\n",
    "    match input_num {\n",
    "        0 | 1 => return 1,\n",
    "        2 => return 2,\n",
    "        3 => return 3,\n",
    "        4 => return 5,\n",
    "        5 => return 7,\n",
    "        6 => return 11,\n",
    "        num if num < 0 => return 0,\n",
    "        _ => ()\n",
    "    };\n",
    "    \n",
    "    let mut sum = 0;\n",
    "    let mut k = 1;\n",
    "    \n",
    "    loop {\n",
    "        let x: i32 = (k*(3*k - 1))/2;\n",
    "        \n",
    "        if x > input_num + k {\n",
    "            return sum;\n",
    "        }\n",
    "        \n",
    "        let y = recurrent_partition_function(input_num - x) + recurrent_partition_function(input_num - x - k);\n",
    "        \n",
    "        if (k+1) & 1 == 1 {\n",
    "            sum -= y\n",
    "        } else {\n",
    "            sum += y\n",
    "        }\n",
    "        \n",
    "        k += 1;\n",
    "    }\n",
    "}"
   ]
  },
  {
   "cell_type": "code",
   "execution_count": 7,
   "metadata": {
    "ExecuteTime": {
     "end_time": "2021-09-02T11:06:23.937759322+00:00",
     "start_time": "2021-09-02T11:06:20.570Z"
    }
   },
   "outputs": [
    {
     "name": "stdout",
     "output_type": "stream",
     "text": [
      "p(100) = 37338\n"
     ]
    }
   ],
   "source": [
    "let soln = recurrent_partition_function(40);\n",
    "println!(\"p(100) = {}\", soln);"
   ]
  },
  {
   "cell_type": "markdown",
   "metadata": {},
   "source": [
    "## A bit less brute force"
   ]
  },
  {
   "cell_type": "code",
   "execution_count": 8,
   "metadata": {
    "ExecuteTime": {
     "end_time": "2021-09-02T11:06:24.153749592+00:00",
     "start_time": "2021-09-02T11:06:20.573Z"
    }
   },
   "outputs": [],
   "source": [
    "fn find_integer_partition(input_num: u32) -> u64 {\n",
    "    \n",
    "    let store_partition_vals = vec![0_u64; 1 + input_num as usize];\n",
    "    \n",
    "    \n",
    "    \n",
    "    0\n",
    "}"
   ]
  },
  {
   "cell_type": "code",
   "execution_count": 9,
   "metadata": {
    "ExecuteTime": {
     "end_time": "2021-09-02T11:06:24.153970763+00:00",
     "start_time": "2021-09-02T11:06:20.577Z"
    }
   },
   "outputs": [],
   "source": [
    "// use std::collections::HashSet;\n",
    "\n",
    "// fn required_integers(input_num: u32) -> HashSet<u32> {\n",
    "    \n",
    "    \n",
    "// //     if input_num == 1 {\n",
    "// //         out.insert(1);\n",
    "// //         return out;\n",
    "// //     } else if input_num == 2{\n",
    "// //         out.insert(1);\n",
    "// //         out.insert(2);\n",
    "// //         return out;\n",
    "// //     }\n",
    "    \n",
    "//     if input_num == 1 || input_num == 0 {\n",
    "//         return HashSet::new();\n",
    "//     }\n",
    "    \n",
    "//     let mut out;\n",
    "    \n",
    "//     out = HashSet::with_capacity(input_num as usize);\n",
    "    \n",
    "// //     let out: HashSet<u32> = HashSet::with_capacity(input_num as usize);\n",
    "//     let max_k = ((-1.0_f32 + (1.0 + 24_f32*input_num as f32).sqrt())/6.0) as usize;\n",
    "//     println!(\"input num = {} max k = {}\", input_num, max_k);\n",
    "    \n",
    "//     if max_k < 2 {\n",
    "//         out.insert(input_num - 1);\n",
    "//         out.insert(input_num - 2);\n",
    "//         return out;\n",
    "//     }\n",
    "    \n",
    "//     for k in 1..=max_k {\n",
    "//         let higher_val = ((3*k*k + k)/2) as u32;\n",
    "//         let lower_val = ((3*k*k - k)/2) as u32;\n",
    "        \n",
    "//         if higher_val <= input_num {\n",
    "//             out.insert(input_num - higher_val);\n",
    "//             out.insert(input_num - lower_val);\n",
    "//         } else if lower_val <= input_num {\n",
    "//             out.insert(input_num - lower_val);\n",
    "//         }\n",
    "//         println!(\"k = {} set = {:?}\",k, out);\n",
    "        \n",
    "//     };\n",
    "    \n",
    "    \n",
    "//     let mut updated_vals: HashSet<u32> = out.clone();\n",
    "    \n",
    "//     for item in out.iter() {\n",
    "//         if item > &8 {\n",
    "// //             let child_vals: HashSet<u32> = required_integers(*item).union(&out).into_iter().map(|x| x.clone()).collect();\n",
    "//             let child_vals: HashSet<u32> = required_integers(*item);\n",
    "// //             out = out.union(&&child_vals).collect();\n",
    "//             updated_vals = out.union(&child_vals).into_iter().map(|x| x.clone()).collect::<HashSet<u32>>();\n",
    "//         }\n",
    "// //         let child_vals = required_integers(*item);\n",
    "// //         out.union(&child_vals);\n",
    "//     }\n",
    "    \n",
    "    \n",
    "// //         out.union(&required_integers(higher_val));\n",
    "// //         out.union(&required_integers(lower_val));\n",
    "//     updated_vals.shrink_to_fit();\n",
    "    \n",
    "//     updated_vals\n",
    "// }"
   ]
  },
  {
   "cell_type": "code",
   "execution_count": 10,
   "metadata": {
    "ExecuteTime": {
     "end_time": "2021-09-02T11:06:24.382455231+00:00",
     "start_time": "2021-09-02T11:06:20.579Z"
    }
   },
   "outputs": [],
   "source": [
    "fn higher_pentagonal_num(num: u32) -> u32 {\n",
    "    return ((3*num*num + num)/2) as u32\n",
    "}\n",
    "fn lower_pentagonal_num(num: u32) -> u32 {\n",
    "    return ((3*num*num - num)/2) as u32\n",
    "}\n"
   ]
  },
  {
   "cell_type": "code",
   "execution_count": 11,
   "metadata": {
    "ExecuteTime": {
     "end_time": "2021-09-02T11:06:24.605217219+00:00",
     "start_time": "2021-09-02T11:06:20.583Z"
    }
   },
   "outputs": [],
   "source": [
    "fn maximum_k_val(input_num: u32) -> u32 {\n",
    "    ((-1.0_f32 + (1.0 + 24_f32*input_num as f32).sqrt())/6.0) as u32\n",
    "}"
   ]
  },
  {
   "cell_type": "code",
   "execution_count": 12,
   "metadata": {
    "ExecuteTime": {
     "end_time": "2021-09-02T11:06:24.846320691+00:00",
     "start_time": "2021-09-02T11:06:20.586Z"
    }
   },
   "outputs": [],
   "source": [
    "fn compute_pentagonal_num(max_k: u32) -> Vec<u32> {\n",
    "    (1..=max_k).map(|k| higher_pentagonal_num(k))\n",
    "                .into_iter()\n",
    "                .chain(\n",
    "                    (1..=max_k).map(|k| lower_pentagonal_num(k))\n",
    "                    .into_iter())\n",
    "                .collect()\n",
    "}"
   ]
  },
  {
   "cell_type": "code",
   "execution_count": 13,
   "metadata": {
    "ExecuteTime": {
     "end_time": "2021-09-02T11:06:25.091011390+00:00",
     "start_time": "2021-09-02T11:06:20.588Z"
    }
   },
   "outputs": [],
   "source": [
    "use std::collections::HashSet;\n",
    "\n",
    "fn required_integers(input_num: u32) -> HashSet<u32> {\n",
    "    let mut out = HashSet::with_capacity(input_num as usize);\n",
    "    \n",
    "    let max_k = maximum_k_val(input_num);\n",
    "    \n",
    "    let pentagonal_nums = compute_pentagonal_num(max_k);\n",
    "    \n",
    "    for counter in 0..max_k {\n",
    "        let current_pent_num = pentagonal_nums.get(counter as usize).unwrap();\n",
    "        \n",
    "        let mut inner_counter = 0;\n",
    "        \n",
    "        loop {\n",
    "            let n_time_k = inner_counter*current_pent_num;\n",
    "            if n_time_k >= input_num {\n",
    "                break\n",
    "            } else {\n",
    "                out.insert(input_num - n_time_k);\n",
    "                inner_counter += 1;\n",
    "            }\n",
    "        }\n",
    "    }\n",
    "    \n",
    "    \n",
    "    out\n",
    "}"
   ]
  },
  {
   "cell_type": "code",
   "execution_count": null,
   "metadata": {},
   "outputs": [],
   "source": []
  },
  {
   "cell_type": "code",
   "execution_count": 14,
   "metadata": {
    "ExecuteTime": {
     "end_time": "2021-09-02T11:06:26.140032577+00:00",
     "start_time": "2021-09-02T11:06:20.609Z"
    }
   },
   "outputs": [
    {
     "name": "stdout",
     "output_type": "stream",
     "text": [
      "{43, 36, 10, 82, 64, 4, 37, 65, 14, 20, 60, 72, 96, 88, 100, 51, 66, 6, 58, 12, 23, 70, 16, 48, 8, 92, 93, 9, 78, 52, 86, 62, 84, 90, 46, 2, 42, 74, 54, 55, 34, 32, 30, 25, 68, 22, 38, 76, 56, 98, 26, 85, 40, 28, 80, 94, 50, 44, 24, 18, 79}\n",
      "1 2\n",
      "5 7\n",
      "12 15\n",
      "22 26\n",
      "35 40\n",
      "51 57\n",
      "70 77\n",
      "92 100\n",
      "117 126\n",
      "145 155\n",
      "176 187\n",
      "210 222\n",
      "247 260\n",
      "287 301\n",
      "330 345\n",
      "376 392\n",
      "425 442\n",
      "477 495\n",
      "532 551\n",
      "590 610\n",
      "651 672\n",
      "715 737\n",
      "782 805\n",
      "852 876\n",
      "925 950\n",
      "1001 1027\n",
      "1080 1107\n",
      "1162 1190\n",
      "1247 1276\n",
      "1335 1365\n",
      "1426 1457\n",
      "1520 1552\n",
      "1617 1650\n",
      "1717 1751\n",
      "1820 1855\n",
      "1926 1962\n",
      "2035 2072\n",
      "2147 2185\n",
      "2262 2301\n",
      "2380 2420\n",
      "2501 2542\n",
      "2625 2667\n",
      "2752 2795\n",
      "2882 2926\n",
      "3015 3060\n",
      "3151 3197\n",
      "3290 3337\n",
      "3432 3480\n",
      "3577 3626\n",
      "3725 3775\n",
      "3876 3927\n",
      "4030 4082\n",
      "4187 4240\n",
      "4347 4401\n",
      "4510 4565\n",
      "4676 4732\n",
      "4845 4902\n",
      "5017 5075\n",
      "5192 5251\n",
      "5370 5430\n",
      "5551 5612\n",
      "5735 5797\n",
      "5922 5985\n",
      "6112 6176\n",
      "6305 6370\n",
      "6501 6567\n",
      "6700 6767\n",
      "6902 6970\n",
      "7107 7176\n",
      "7315 7385\n",
      "7526 7597\n",
      "7740 7812\n",
      "7957 8030\n",
      "8177 8251\n",
      "8400 8475\n",
      "8626 8702\n",
      "8855 8932\n",
      "9087 9165\n",
      "9322 9401\n",
      "9560 9640\n",
      "9801 9882\n",
      "10045 10127\n",
      "10292 10375\n",
      "10542 10626\n",
      "10795 10880\n",
      "11051 11137\n",
      "11310 11397\n",
      "11572 11660\n",
      "11837 11926\n"
     ]
    },
    {
     "data": {
      "text/plain": [
       "()"
      ]
     },
     "execution_count": 14,
     "metadata": {},
     "output_type": "execute_result"
    },
    {
     "name": "stdout",
     "output_type": "stream",
     "text": [
      "12105 12195\n",
      "12376 12467\n",
      "12650 12742\n",
      "12927 13020\n",
      "13207 13301\n",
      "13490 13585\n",
      "13776 13872\n",
      "14065 14162\n",
      "14357 14455\n",
      "14652 14751\n"
     ]
    }
   ],
   "source": [
    "let a = required_integers(100);\n",
    "println!(\"{:?}\", a);\n",
    "// let mut combined = a.clone();\n",
    "// a.iter().for_each(|val| combined.union(&required_integers(*val)));\n",
    "// println!(\"{:?}\", a);\n",
    "\n",
    "for k in 1..100{\n",
    "    println!(\"{} {}\", (3*k*k - k)/2, (3*k*k + k)/2)\n",
    "}"
   ]
  }
 ],
 "metadata": {
  "kernelspec": {
   "display_name": "Rust",
   "language": "rust",
   "name": "rust"
  },
  "language_info": {
   "codemirror_mode": "rust",
   "file_extension": ".rs",
   "mimetype": "text/rust",
   "name": "Rust",
   "pygment_lexer": "rust",
   "version": ""
  }
 },
 "nbformat": 4,
 "nbformat_minor": 4
}
