{
 "cells": [
  {
   "cell_type": "markdown",
   "metadata": {},
   "source": [
    "<h1> Counting Summations </h1>\n",
    "\n",
    "It is possible to write $5$ as a sum in exactly $6$ different ways:\n",
    "\\begin{align*}\n",
    "    &4 + 1 \\\\\n",
    "    &3 + 2 \\\\\n",
    "    &3 + 1 + 1 \\\\\n",
    "    &2 + 2 + 1 \\\\\n",
    "    &2 + 1 + 1 + 1 \\\\\n",
    "    &1 + 1 + 1 + 1 + 1 \n",
    "\\end{align*}\n",
    "\n",
    "How many different ways can $100$ be written as a sum of at least $2$ positive integers?\n",
    "\n",
    "---\n",
    "\n",
    "The partition of integers can be described by the recurrence relation,\n",
    "\\begin{gather}\n",
    "    p_n = \\sum_{k=1}^{n} p_k(n) \\\\\n",
    "    p_k(n) = p_k(n-k) + p_{k-1}(n-1) \\\\\n",
    "    p(n) = \\sum_{k \\in \\mathcal{z}} (-1)^{k+1} p(n-k(3k-1)/2)\n",
    "\\end{gather}\n",
    "<!-- https://www.whitman.edu/mathematics/cgt_online/book/section03.03.html -->\n",
    "<!-- https://en.wikipedia.org/wiki/Partition_function_(number_theory) -->"
   ]
  },
  {
   "cell_type": "code",
   "execution_count": 2,
   "metadata": {
    "ExecuteTime": {
     "end_time": "2021-09-02T14:43:47.636152530+00:00",
     "start_time": "2021-09-02T14:43:47.635Z"
    }
   },
   "outputs": [],
   "source": [
    "use std::ops::{Add, Mul, Div};\n",
    "\n",
    "extern crate num;\n",
    "use num::PrimInt;\n",
    "use num::cast::ToPrimitive;"
   ]
  },
  {
   "cell_type": "code",
   "execution_count": 3,
   "metadata": {
    "ExecuteTime": {
     "end_time": "2021-09-02T14:43:47.638472468+00:00",
     "start_time": "2021-09-02T14:43:47.637Z"
    }
   },
   "outputs": [],
   "source": [
    "fn sum_first_n_natural_numbers<T> (n:T) -> T \n",
    "    where T: Add<Output = T> + Mul<Output = T> + Div<Output = T> + PrimInt\n",
    "{\n",
    "    let two = num::cast(2).unwrap();\n",
    "    n*(n + T::one())/two\n",
    "}"
   ]
  },
  {
   "cell_type": "code",
   "execution_count": 4,
   "metadata": {
    "ExecuteTime": {
     "end_time": "2021-09-02T14:43:47.640911243+00:00",
     "start_time": "2021-09-02T14:43:47.640Z"
    }
   },
   "outputs": [],
   "source": [
    "fn number_of_summations<T>(n: T) -> T \n",
    "    where T: Mul<Output = T> + Div<Output = T> + PrimInt + std::fmt::Debug\n",
    "{\n",
    "    if n == num::cast(2).unwrap() {\n",
    "        return T::one()\n",
    "    }\n",
    "    \n",
    "    let is_even : bool = n & num::one() == num::zero();\n",
    "    let two: T = num::cast(2).unwrap();\n",
    "    let half_n = n/two;\n",
    "    \n",
    "//     println!(\"{} {:?}\", is_even, half_n);\n",
    "    \n",
    "    if is_even {\n",
    "        two*sum_first_n_natural_numbers(half_n) - half_n\n",
    "    } else { \n",
    "        two*sum_first_n_natural_numbers(half_n)  \n",
    "    }\n",
    "    \n",
    "}"
   ]
  },
  {
   "cell_type": "markdown",
   "metadata": {},
   "source": [
    "## Brute force"
   ]
  },
  {
   "cell_type": "code",
   "execution_count": 5,
   "metadata": {
    "ExecuteTime": {
     "end_time": "2021-09-02T14:43:47.851531672+00:00",
     "start_time": "2021-09-02T14:43:47.643Z"
    }
   },
   "outputs": [],
   "source": [
    "fn pure_recursive_partition_function(input_num: i32) -> i32 \n",
    "{\n",
    "    // Put lowest cases into match to reduce computational time\n",
    "    match input_num {\n",
    "        0 | 1 => return 1,\n",
    "        2 => return 2,\n",
    "        3 => return 3,\n",
    "        4 => return 5,\n",
    "        5 => return 7,\n",
    "        6 => return 11,\n",
    "        num if num < 0 => return 0,\n",
    "        _ => ()\n",
    "    };\n",
    "    \n",
    "    let mut sum = 0;\n",
    "    let mut k = 1;\n",
    "    \n",
    "    loop {\n",
    "        let x: i32 = (k*(3*k - 1))/2;\n",
    "        \n",
    "        if x > input_num + k {\n",
    "            return sum;\n",
    "        }\n",
    "        \n",
    "//         println!(\"input num = {} {} {}\",input_num, input_num - x, input_num -x -k);\n",
    "        \n",
    "        let y = pure_recursive_partition_function(input_num - x) + pure_recursive_partition_function(input_num - x - k);\n",
    "        \n",
    "        if (k+1) & 1 == 1 {\n",
    "            sum -= y\n",
    "        } else {\n",
    "            sum += y\n",
    "        }\n",
    "        \n",
    "        k += 1;\n",
    "    }\n",
    "}"
   ]
  },
  {
   "cell_type": "code",
   "execution_count": 6,
   "metadata": {
    "ExecuteTime": {
     "end_time": "2021-09-02T14:43:49.103585787+00:00",
     "start_time": "2021-09-02T14:43:47.645Z"
    }
   },
   "outputs": [
    {
     "name": "stdout",
     "output_type": "stream",
     "text": [
      "p(40) = 77\n"
     ]
    }
   ],
   "source": [
    "let soln = pure_recursive_partition_function(12);\n",
    "println!(\"p(40) = {}\", soln);"
   ]
  },
  {
   "cell_type": "markdown",
   "metadata": {},
   "source": [
    "## A bit less brute force"
   ]
  },
  {
   "cell_type": "code",
   "execution_count": 7,
   "metadata": {
    "ExecuteTime": {
     "end_time": "2021-09-02T14:43:49.312244089+00:00",
     "start_time": "2021-09-02T14:43:47.648Z"
    }
   },
   "outputs": [],
   "source": [
    "fn higher_pentagonal_num(num: u32) -> u32 {\n",
    "    return ((3*num*num + num)/2) as u32\n",
    "}\n",
    "fn lower_pentagonal_num(num: u32) -> u32 {\n",
    "    return ((3*num*num - num)/2) as u32\n",
    "}\n"
   ]
  },
  {
   "cell_type": "code",
   "execution_count": 8,
   "metadata": {
    "ExecuteTime": {
     "end_time": "2021-09-02T14:43:49.518430022+00:00",
     "start_time": "2021-09-02T14:43:47.649Z"
    }
   },
   "outputs": [],
   "source": [
    "fn maximum_k_val(input_num: u32) -> u32 {\n",
    "    ((1.0_f32 + (1.0 + 24_f32*input_num as f32).sqrt())/6.0) as u32\n",
    "}"
   ]
  },
  {
   "cell_type": "code",
   "execution_count": 9,
   "metadata": {
    "ExecuteTime": {
     "end_time": "2021-09-02T14:43:49.716768658+00:00",
     "start_time": "2021-09-02T14:43:47.651Z"
    }
   },
   "outputs": [],
   "source": [
    "fn compute_pentagonal_num(input_num: u32) -> Vec<u32> {\n",
    "    let max_k = maximum_k_val(input_num);\n",
    "    \n",
    "    if max_k == 0 {\n",
    "        return Vec::<u32>::new();\n",
    "    }\n",
    "    \n",
    "    (1..=max_k).map(|k| higher_pentagonal_num(k))\n",
    "                .into_iter()\n",
    "                .chain(\n",
    "                    (1..=max_k).map(|k| lower_pentagonal_num(k))\n",
    "                    .into_iter())\n",
    "                .collect()\n",
    "}"
   ]
  },
  {
   "cell_type": "code",
   "execution_count": 10,
   "metadata": {
    "ExecuteTime": {
     "end_time": "2021-09-02T14:43:49.922119558+00:00",
     "start_time": "2021-09-02T14:43:47.653Z"
    }
   },
   "outputs": [],
   "source": [
    "use std::collections::HashSet;\n",
    "\n",
    "fn compute_integers_from_pent_num(input_num: u32, pentagonal_nums: Vec<u32>) -> HashSet<u32> {\n",
    "    \n",
    "    let mut set = HashSet::with_capacity(input_num as usize);\n",
    "    \n",
    "    for pent_num in pentagonal_nums.iter() {\n",
    "        let mut inner_counter = 1;\n",
    "        \n",
    "        loop {\n",
    "            let n_time_k = inner_counter*pent_num;\n",
    "            \n",
    "            if n_time_k >= input_num {\n",
    "                break\n",
    "            } else {\n",
    "                set.insert(input_num - n_time_k);\n",
    "                inner_counter += 1;\n",
    "            }\n",
    "        }\n",
    "    }\n",
    "    \n",
    "    set.shrink_to_fit();\n",
    "    set\n",
    "}"
   ]
  },
  {
   "cell_type": "code",
   "execution_count": 11,
   "metadata": {
    "ExecuteTime": {
     "end_time": "2021-09-02T14:43:50.132441785+00:00",
     "start_time": "2021-09-02T14:43:47.654Z"
    }
   },
   "outputs": [],
   "source": [
    "use std::collections::HashSet;\n",
    "\n",
    "fn required_integers(input_num: u32) -> Vec<u32> {\n",
    "    \n",
    "    let pentagonal_nums = compute_pentagonal_num(input_num);\n",
    "    println!(\"{:?}\", pentagonal_nums);\n",
    "    \n",
    "    let set = compute_integers_from_pent_num(input_num, pentagonal_nums);\n",
    "    \n",
    "    let mut out = set.into_iter().collect::<Vec<_>>();\n",
    "    out.sort();\n",
    "    out\n",
    "}"
   ]
  },
  {
   "cell_type": "code",
   "execution_count": 12,
   "metadata": {
    "ExecuteTime": {
     "end_time": "2021-09-02T14:43:50.356820029+00:00",
     "start_time": "2021-09-02T14:43:47.657Z"
    }
   },
   "outputs": [],
   "source": [
    "use std::collections::HashMap;\n",
    "use std::convert::TryInto;\n",
    "\n",
    "fn recursive_partition_function(input_num: u32, storage_map: &HashMap<u32, u32>) -> HashMap<u32, u32>\n",
    "{\n",
    "    let mut out = HashMap::with_capacity(1 + storage_map.len());\n",
    "    \n",
    "    if input_num < 7 {\n",
    "        // Put lowest cases into match to reduce computational time\n",
    "        let out_val = match input_num {0 | 1 => 1,\n",
    "                                        2 => 2,\n",
    "                                        3 => 3,\n",
    "                                        4 => 5,\n",
    "                                        5 => 7,\n",
    "                                        6 => 11,\n",
    "                                        _ => 0\n",
    "        };\n",
    "        out.insert(input_num, out_val);\n",
    "        return out;\n",
    "    }\n",
    "    \n",
    "    let max_k = maximum_k_val(input_num);\n",
    "    let mut sum: i32 = 0;\n",
    "    \n",
    "    for k in 1..=max_k {\n",
    "        let upper_val: i32 = input_num as i32 - lower_pentagonal_num(k) as i32;\n",
    "        let lower_val: i32 = input_num as i32 - higher_pentagonal_num(k) as i32;\n",
    "        \n",
    "        let vals = [upper_val, lower_val];\n",
    "//         println!(\"max k = {}, vals={:?}\", max_k, vals);\n",
    "        \n",
    "        let mut partition_vals = vec![0; 2];\n",
    "        \n",
    "        for (counter, value) in vals.iter().enumerate() {\n",
    "            \n",
    "            if value == &0 {\n",
    "                partition_vals[counter] = 1;\n",
    "                continue\n",
    "            } else if value < &0 {\n",
    "                partition_vals[counter] = 0;\n",
    "                continue\n",
    "            }\n",
    "            \n",
    "            let val: u32 = *value as u32;\n",
    "            \n",
    "            let map_val = storage_map.get(&val);\n",
    "            \n",
    "            let num_partitions: u32;\n",
    "            \n",
    "            if map_val.is_none() && out.get(&val).is_none() {\n",
    "                let sub_partition_val = pure_recursive_partition_function(*value as i32) as u32;\n",
    "                num_partitions = sub_partition_val;\n",
    "                out.insert(val, sub_partition_val);\n",
    "            } else if out.get(&val).is_some() {\n",
    "                num_partitions = *out.get(&val).unwrap();\n",
    "            } else {\n",
    "                num_partitions = *map_val.unwrap();\n",
    "            }\n",
    "            \n",
    "            partition_vals[counter] = num_partitions;\n",
    "        }\n",
    "        \n",
    "        \n",
    "        let temp = (partition_vals[0] + partition_vals[1]) as i32;\n",
    "        \n",
    "//         println!(\"num={}, k={}, pval={:?}, psum={}\", input_num, k, partition_vals, temp);\n",
    "        \n",
    "        if (k+1) & 1 == 1 {\n",
    "            sum -= temp\n",
    "        } else {\n",
    "            sum += temp\n",
    "        }\n",
    "    }\n",
    "    \n",
    "    out.insert(input_num, sum as u32);\n",
    "    \n",
    "    out.extend(storage_map);\n",
    "    \n",
    "    out\n",
    "}"
   ]
  },
  {
   "cell_type": "code",
   "execution_count": 13,
   "metadata": {
    "ExecuteTime": {
     "end_time": "2021-09-02T14:43:50.606005015+00:00",
     "start_time": "2021-09-02T14:43:47.659Z"
    }
   },
   "outputs": [],
   "source": [
    "fn not_in_storage(input_num: u32, storage_map: HashMap<u32, u32>) -> Vec<u32> {\n",
    "    let pentagonal_nums = compute_pentagonal_num(input_num);\n",
    "    pentagonal_nums.iter()\n",
    "                    .map(|pent_num| input_num - pent_num)\n",
    "                    .filter(|base_int| !storage_map.contains_key(base_int))\n",
    "                    .collect::<Vec<u32>>()\n",
    "}"
   ]
  },
  {
   "cell_type": "code",
   "execution_count": 14,
   "metadata": {
    "ExecuteTime": {
     "end_time": "2021-09-02T14:43:50.835159333+00:00",
     "start_time": "2021-09-02T14:43:47.661Z"
    }
   },
   "outputs": [],
   "source": [
    "fn build_base_partition_vals(partition_integers: Vec<u32>) -> HashMap<u32, u32> {\n",
    "    \n",
    "    let mut all_partition_vals: HashMap<u32, u32> = HashMap::new();\n",
    "    \n",
    "    for val in partition_integers.iter() {\n",
    "        all_partition_vals = recursive_partition_function(*val, &all_partition_vals);\n",
    "    }\n",
    "    \n",
    "    all_partition_vals\n",
    "}"
   ]
  },
  {
   "cell_type": "code",
   "execution_count": 15,
   "metadata": {
    "ExecuteTime": {
     "end_time": "2021-09-02T14:43:51.073762959+00:00",
     "start_time": "2021-09-02T14:43:47.663Z"
    }
   },
   "outputs": [],
   "source": [
    "fn find_integer_partition(input_num: u32) -> u32 {\n",
    "    \n",
    "//     let recursive_integers = required_integers(input_num);\n",
    "    let recursive_integers = (0..input_num).collect::<Vec<u32>>();\n",
    "    \n",
    "    let store_partition_vals: HashMap<u32, u32> = build_base_partition_vals(recursive_integers);\n",
    "    \n",
    "    let all_partition_vals = recursive_partition_function(input_num, &store_partition_vals);\n",
    "    \n",
    "    *all_partition_vals.get(&input_num).unwrap()\n",
    "}"
   ]
  },
  {
   "cell_type": "code",
   "execution_count": 16,
   "metadata": {
    "ExecuteTime": {
     "end_time": "2021-09-02T14:43:51.823301507+00:00",
     "start_time": "2021-09-02T14:43:47.666Z"
    }
   },
   "outputs": [
    {
     "name": "stdout",
     "output_type": "stream",
     "text": [
      "190569291\n"
     ]
    }
   ],
   "source": [
    "let soln = find_integer_partition(100);\n",
    "println!(\"{:?}\", soln - 1);"
   ]
  }
 ],
 "metadata": {
  "kernelspec": {
   "display_name": "Rust",
   "language": "rust",
   "name": "rust"
  },
  "language_info": {
   "codemirror_mode": "rust",
   "file_extension": ".rs",
   "mimetype": "text/rust",
   "name": "Rust",
   "pygment_lexer": "rust",
   "version": ""
  }
 },
 "nbformat": 4,
 "nbformat_minor": 4
}
