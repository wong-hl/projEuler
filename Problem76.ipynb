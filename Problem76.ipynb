{
 "cells": [
  {
   "cell_type": "markdown",
   "metadata": {},
   "source": [
    "<h1> Counting Summations </h1>\n",
    "\n",
    "It is possible to write $5$ as a sum in exactly $6$ different ways:\n",
    "\\begin{align*}\n",
    "    &4 + 1 \\\\\n",
    "    &3 + 2 \\\\\n",
    "    &3 + 1 + 1 \\\\\n",
    "    &2 + 2 + 1 \\\\\n",
    "    &2 + 1 + 1 + 1 \\\\\n",
    "    &1 + 1 + 1 + 1 + 1 \n",
    "\\end{align*}\n",
    "\n",
    "How many different ways can $100$ be written as a sum of at least $2$ positive integers?\n",
    "\n",
    "---\n",
    "\n",
    "The partition of integers can be described by the recurrence relation,\n",
    "\\begin{gather}\n",
    "    p_n = \\sum_{k=1}^{n} p_k(n) \\\\\n",
    "    p_k(n) = p_k(n-k) + p_{k-1}(n-1) \\\\\n",
    "    p(n) = \\sum_{k \\in \\mathcal{z}} (-1)^{k+1} p(n-k(3k-1)/2)\n",
    "\\end{gather}\n",
    "<!-- https://www.whitman.edu/mathematics/cgt_online/book/section03.03.html -->\n",
    "<!-- https://en.wikipedia.org/wiki/Partition_function_(number_theory) -->"
   ]
  },
  {
   "cell_type": "code",
   "execution_count": 2,
   "metadata": {
    "ExecuteTime": {
     "end_time": "2021-09-02T14:38:57.576641167+00:00",
     "start_time": "2021-09-02T14:38:57.575Z"
    }
   },
   "outputs": [],
   "source": [
    "// use std::ops::{Add, Mul, Div};\n",
    "\n",
    "// extern crate num;\n",
    "// use num::PrimInt;\n",
    "// use num::cast::ToPrimitive;"
   ]
  },
  {
   "cell_type": "code",
   "execution_count": 3,
   "metadata": {
    "ExecuteTime": {
     "end_time": "2021-09-02T14:38:57.579723358+00:00",
     "start_time": "2021-09-02T14:38:57.579Z"
    }
   },
   "outputs": [],
   "source": [
    "\n",
    "// fn sum_first_n_natural_numbers<T> (n:T) -> T \n",
    "//     where T: Add<Output = T> + Mul<Output = T> + Div<Output = T> + PrimInt\n",
    "// {\n",
    "//     let two = num::cast(2).unwrap();\n",
    "//     n*(n + T::one())/two\n",
    "// }"
   ]
  },
  {
   "cell_type": "code",
   "execution_count": 4,
   "metadata": {
    "ExecuteTime": {
     "end_time": "2021-09-02T14:38:57.582063766+00:00",
     "start_time": "2021-09-02T14:38:57.580Z"
    }
   },
   "outputs": [],
   "source": [
    "// fn number_of_summations<T>(n: T) -> T \n",
    "//     where T: Mul<Output = T> + Div<Output = T> + PrimInt + std::fmt::Debug\n",
    "// {\n",
    "//     if n == num::cast(2).unwrap() {\n",
    "//         return T::one()\n",
    "//     }\n",
    "    \n",
    "//     let is_even : bool = n & num::one() == num::zero();\n",
    "//     let two: T = num::cast(2).unwrap();\n",
    "//     let half_n = n/two;\n",
    "    \n",
    "// //     println!(\"{} {:?}\", is_even, half_n);\n",
    "    \n",
    "//     if is_even {\n",
    "//         two*sum_first_n_natural_numbers(half_n) - half_n\n",
    "//     } else { \n",
    "//         two*sum_first_n_natural_numbers(half_n)  \n",
    "//     }\n",
    "    \n",
    "// }"
   ]
  },
  {
   "cell_type": "markdown",
   "metadata": {},
   "source": [
    "## Brute force"
   ]
  },
  {
   "cell_type": "code",
   "execution_count": 5,
   "metadata": {
    "ExecuteTime": {
     "end_time": "2021-09-02T14:38:57.843180538+00:00",
     "start_time": "2021-09-02T14:38:57.583Z"
    }
   },
   "outputs": [
    {
     "name": "stdout",
     "output_type": "stream",
     "text": [
      "1 2\n",
      "5 7\n",
      "12 15\n",
      "22 26\n",
      "35 40\n"
     ]
    }
   ],
   "source": [
    "(1..10).for_each(|x| println!(\"{} {}\",x*(3*x-1)/2, x*(3*x-1)/2+x));"
   ]
  },
  {
   "cell_type": "code",
   "execution_count": 6,
   "metadata": {
    "ExecuteTime": {
     "end_time": "2021-09-02T14:38:58.047963335+00:00",
     "start_time": "2021-09-02T14:38:57.585Z"
    }
   },
   "outputs": [
    {
     "name": "stdout",
     "output_type": "stream",
     "text": [
      "51 57\n",
      "70 77\n",
      "92 100\n",
      "117 126\n"
     ]
    }
   ],
   "source": [
    "fn pure_recursive_partition_function(input_num: i32) -> i32 \n",
    "{\n",
    "    // Put lowest cases into match to reduce computational time\n",
    "    match input_num {\n",
    "        0 | 1 => return 1,\n",
    "        2 => return 2,\n",
    "        3 => return 3,\n",
    "        4 => return 5,\n",
    "        5 => return 7,\n",
    "        6 => return 11,\n",
    "        num if num < 0 => return 0,\n",
    "        _ => ()\n",
    "    };\n",
    "    \n",
    "    let mut sum = 0;\n",
    "    let mut k = 1;\n",
    "    \n",
    "    loop {\n",
    "        let x: i32 = (k*(3*k - 1))/2;\n",
    "        \n",
    "        if x > input_num + k {\n",
    "            return sum;\n",
    "        }\n",
    "        \n",
    "        println!(\"input num = {} {} {}\",input_num, input_num - x, input_num -x -k);\n",
    "        \n",
    "        let y = pure_recursive_partition_function(input_num - x) + pure_recursive_partition_function(input_num - x - k);\n",
    "        \n",
    "        if (k+1) & 1 == 1 {\n",
    "            sum -= y\n",
    "        } else {\n",
    "            sum += y\n",
    "        }\n",
    "        \n",
    "        k += 1;\n",
    "    }\n",
    "}"
   ]
  },
  {
   "cell_type": "code",
   "execution_count": 7,
   "metadata": {
    "ExecuteTime": {
     "end_time": "2021-09-02T14:38:59.291238303+00:00",
     "start_time": "2021-09-02T14:38:57.587Z"
    }
   },
   "outputs": [
    {
     "name": "stdout",
     "output_type": "stream",
     "text": [
      "input num = 12 11 10\n",
      "input num = 11 10 9\n",
      "input num = 10 9 8\n",
      "input num = 9 8 7\n",
      "input num = 8 7 6\n",
      "input num = 7 6 5\n",
      "input num = 7 2 0\n",
      "input num = 8 3 1\n",
      "input num = 7 6 5\n",
      "input num = 7 2 0\n",
      "input num = 9 4 2\n",
      "input num = 9 -3 -6\n",
      "input num = 8 7 6\n",
      "input num = 7 6 5\n",
      "input num = 7 2 0\n"
     ]
    }
   ],
   "source": [
    "let soln = pure_recursive_partition_function(12);\n",
    "println!(\"p(40) = {}\", soln);"
   ]
  },
  {
   "cell_type": "markdown",
   "metadata": {},
   "source": [
    "## A bit less brute force"
   ]
  },
  {
   "cell_type": "code",
   "execution_count": 8,
   "metadata": {
    "ExecuteTime": {
     "end_time": "2021-09-02T14:38:59.291976622+00:00",
     "start_time": "2021-09-02T14:38:57.589Z"
    }
   },
   "outputs": [
    {
     "name": "stdout",
     "output_type": "stream",
     "text": [
      "input num = 8 3 1\n",
      "input num = 10 5 3\n",
      "input num = 10 -2 -5\n",
      "input num = 9 8 7\n",
      "input num = 8 7 6\n",
      "input num = 7 6 5\n",
      "input num = 7 2 0\n",
      "input num = 8 3 1\n"
     ]
    }
   ],
   "source": [
    "// use std::collections::HashSet;\n",
    "\n",
    "// fn required_integers(input_num: u32) -> HashSet<u32> {\n",
    "    \n",
    "    \n",
    "// //     if input_num == 1 {\n",
    "// //         out.insert(1);\n",
    "// //         return out;\n",
    "// //     } else if input_num == 2{\n",
    "// //         out.insert(1);\n",
    "// //         out.insert(2);\n",
    "// //         return out;\n",
    "// //     }\n",
    "    \n",
    "//     if input_num == 1 || input_num == 0 {\n",
    "//         return HashSet::new();\n",
    "//     }\n",
    "    \n",
    "//     let mut out;\n",
    "    \n",
    "//     out = HashSet::with_capacity(input_num as usize);\n",
    "    \n",
    "// //     let out: HashSet<u32> = HashSet::with_capacity(input_num as usize);\n",
    "//     let max_k = ((-1.0_f32 + (1.0 + 24_f32*input_num as f32).sqrt())/6.0) as usize;\n",
    "//     println!(\"input num = {} max k = {}\", input_num, max_k);\n",
    "    \n",
    "//     if max_k < 2 {\n",
    "//         out.insert(input_num - 1);\n",
    "//         out.insert(input_num - 2);\n",
    "//         return out;\n",
    "//     }\n",
    "    \n",
    "//     for k in 1..=max_k {\n",
    "//         let higher_val = ((3*k*k + k)/2) as u32;\n",
    "//         let lower_val = ((3*k*k - k)/2) as u32;\n",
    "        \n",
    "//         if higher_val <= input_num {\n",
    "//             out.insert(input_num - higher_val);\n",
    "//             out.insert(input_num - lower_val);\n",
    "//         } else if lower_val <= input_num {\n",
    "//             out.insert(input_num - lower_val);\n",
    "//         }\n",
    "//         println!(\"k = {} set = {:?}\",k, out);\n",
    "        \n",
    "//     };\n",
    "    \n",
    "    \n",
    "//     let mut updated_vals: HashSet<u32> = out.clone();\n",
    "    \n",
    "//     for item in out.iter() {\n",
    "//         if item > &8 {\n",
    "// //             let child_vals: HashSet<u32> = required_integers(*item).union(&out).into_iter().map(|x| x.clone()).collect();\n",
    "//             let child_vals: HashSet<u32> = required_integers(*item);\n",
    "// //             out = out.union(&&child_vals).collect();\n",
    "//             updated_vals = out.union(&child_vals).into_iter().map(|x| x.clone()).collect::<HashSet<u32>>();\n",
    "//         }\n",
    "// //         let child_vals = required_integers(*item);\n",
    "// //         out.union(&child_vals);\n",
    "//     }\n",
    "    \n",
    "    \n",
    "// //         out.union(&required_integers(higher_val));\n",
    "// //         out.union(&required_integers(lower_val));\n",
    "//     updated_vals.shrink_to_fit();\n",
    "    \n",
    "//     updated_vals\n",
    "// }"
   ]
  },
  {
   "cell_type": "code",
   "execution_count": 9,
   "metadata": {
    "ExecuteTime": {
     "end_time": "2021-09-02T14:38:59.523168145+00:00",
     "start_time": "2021-09-02T14:38:57.590Z"
    }
   },
   "outputs": [
    {
     "name": "stdout",
     "output_type": "stream",
     "text": [
      "input num = 7 6 5\n",
      "input num = 7 2 0\n",
      "input num = 9 4 2\n",
      "input num = 9 -3 -6\n",
      "input num = 11 6 4\n",
      "input num = 11 -1 -4\n",
      "input num = 10 9 8\n",
      "input num = 9 8 7\n",
      "input num = 8 7 6\n",
      "input num = 7 6 5\n",
      "input num = 7 2 0\n",
      "input num = 8 3 1\n",
      "input num = 7 6 5\n",
      "input num = 7 2 0\n",
      "input num = 9 4 2\n",
      "input num = 9 -3 -6\n",
      "input num = 8 7 6\n",
      "input num = 7 6 5\n",
      "input num = 7 2 0\n",
      "input num = 8 3 1\n",
      "input num = 10 5 3\n",
      "input num = 10 -2 -5\n",
      "input num = 12 7 5\n",
      "input num = 7 6 5\n",
      "input num = 7 2 0\n",
      "input num = 12 0 -3\n",
      "p(40) = 77\n"
     ]
    }
   ],
   "source": [
    "fn higher_pentagonal_num(num: u32) -> u32 {\n",
    "    return ((3*num*num + num)/2) as u32\n",
    "}\n",
    "fn lower_pentagonal_num(num: u32) -> u32 {\n",
    "    return ((3*num*num - num)/2) as u32\n",
    "}\n"
   ]
  },
  {
   "cell_type": "code",
   "execution_count": 10,
   "metadata": {
    "ExecuteTime": {
     "end_time": "2021-09-02T14:38:59.732658226+00:00",
     "start_time": "2021-09-02T14:38:57.592Z"
    }
   },
   "outputs": [],
   "source": [
    "fn maximum_k_val(input_num: u32) -> u32 {\n",
    "//     ((-1.0_f32 + (1.0 + 24_f32*input_num as f32).sqrt())/6.0) as u32\n",
    "//     ((3.0_f32 + (9.0 + 24_f32*input_num as f32).sqrt())/6.0) as u32\n",
    "    ((1.0_f32 + (1.0 + 24_f32*input_num as f32).sqrt())/6.0) as u32\n",
    "}"
   ]
  },
  {
   "cell_type": "code",
   "execution_count": 11,
   "metadata": {
    "ExecuteTime": {
     "end_time": "2021-09-02T14:38:59.937629453+00:00",
     "start_time": "2021-09-02T14:38:57.594Z"
    }
   },
   "outputs": [],
   "source": [
    "fn compute_pentagonal_num(input_num: u32) -> Vec<u32> {\n",
    "    let max_k = maximum_k_val(input_num);\n",
    "    \n",
    "    if max_k == 0 {\n",
    "        return Vec::<u32>::new();\n",
    "    }\n",
    "    \n",
    "    (1..=max_k).map(|k| higher_pentagonal_num(k))\n",
    "                .into_iter()\n",
    "                .chain(\n",
    "                    (1..=max_k).map(|k| lower_pentagonal_num(k))\n",
    "                    .into_iter())\n",
    "                .collect()\n",
    "}"
   ]
  },
  {
   "cell_type": "code",
   "execution_count": 12,
   "metadata": {
    "ExecuteTime": {
     "end_time": "2021-09-02T14:39:00.144343102+00:00",
     "start_time": "2021-09-02T14:38:57.596Z"
    }
   },
   "outputs": [],
   "source": [
    "use std::collections::HashSet;\n",
    "\n",
    "fn compute_integers_from_pent_num(input_num: u32, pentagonal_nums: Vec<u32>) -> HashSet<u32> {\n",
    "    \n",
    "    let mut set = HashSet::with_capacity(input_num as usize);\n",
    "    \n",
    "    for pent_num in pentagonal_nums.iter() {\n",
    "        let mut inner_counter = 1;\n",
    "        \n",
    "        loop {\n",
    "            let n_time_k = inner_counter*pent_num;\n",
    "            \n",
    "            if n_time_k >= input_num {\n",
    "                break\n",
    "            } else {\n",
    "                set.insert(input_num - n_time_k);\n",
    "                inner_counter += 1;\n",
    "            }\n",
    "        }\n",
    "    }\n",
    "    \n",
    "    set.shrink_to_fit();\n",
    "    set\n",
    "}"
   ]
  },
  {
   "cell_type": "code",
   "execution_count": 13,
   "metadata": {
    "ExecuteTime": {
     "end_time": "2021-09-02T14:39:00.356394885+00:00",
     "start_time": "2021-09-02T14:38:57.597Z"
    }
   },
   "outputs": [],
   "source": [
    "use std::collections::HashSet;\n",
    "\n",
    "fn required_integers(input_num: u32) -> Vec<u32> {\n",
    "    \n",
    "//     let max_k = maximum_k_val(input_num);\n",
    "    \n",
    "    let pentagonal_nums = compute_pentagonal_num(input_num);\n",
    "    println!(\"{:?}\", pentagonal_nums);\n",
    "    \n",
    "    let set = compute_integers_from_pent_num(input_num, pentagonal_nums);\n",
    "    \n",
    "    let mut out = set.into_iter().collect::<Vec<_>>();\n",
    "    out.sort();\n",
    "    out\n",
    "}"
   ]
  },
  {
   "cell_type": "code",
   "execution_count": 14,
   "metadata": {
    "ExecuteTime": {
     "end_time": "2021-09-02T14:39:00.356686880+00:00",
     "start_time": "2021-09-02T14:38:57.599Z"
    }
   },
   "outputs": [],
   "source": [
    "// use std::collections::HashMap;\n",
    "\n",
    "// fn recursive_partition_function(input_num: u32, storage_map: &HashMap<u32, u32>) -> u32 \n",
    "// {\n",
    "//     // Put lowest cases into match to reduce computational time\n",
    "//     match input_num {\n",
    "//         0 | 1 => return 1,\n",
    "//         2 => return 2,\n",
    "//         3 => return 3,\n",
    "//         4 => return 5,\n",
    "//         5 => return 7,\n",
    "//         6 => return 11,\n",
    "//         _ => ()\n",
    "//     };\n",
    "    \n",
    "//     let max_k = maximum_k_val(input_num);\n",
    "//     let mut sum: u32 = 0;\n",
    "    \n",
    "//     for k in 1..=max_k {\n",
    "//         let upper_val: u32 = input_num - lower_pentagonal_num(k);\n",
    "//         let lower_val: u32 = input_num - higher_pentagonal_num(k);\n",
    "        \n",
    "//         let mut upper_partition_val: Option<&u32> = storage_map.get(&upper_val);\n",
    "//         let mut lower_partition_val: Option<&u32> = storage_map.get(&lower_val);\n",
    "        \n",
    "//         if upper_partition_val.is_none() {\n",
    "//             let temp = recursive_partition_function(upper_val, &storage_map);\n",
    "//             upper_partition_val = Option::Some(&temp);\n",
    "//         }\n",
    "        \n",
    "//         if lower_partition_val.is_none() {\n",
    "//             let temp = recursive_partition_function(lower_val, &storage_map);\n",
    "//             lower_partition_val = Option::Some(&temp);\n",
    "//         }\n",
    "        \n",
    "// //         let y = (upper_partition_val.unwrap() + lower_partition_val.unwrap()) as u32;\n",
    "        \n",
    "// //         if (k+1) & 1 == 1 {\n",
    "// //             sum -= y\n",
    "// //         } else {\n",
    "// //             sum += y\n",
    "// //         }\n",
    "//     }\n",
    "    \n",
    "//     sum\n",
    "    \n",
    "// }"
   ]
  },
  {
   "cell_type": "code",
   "execution_count": 15,
   "metadata": {
    "ExecuteTime": {
     "end_time": "2021-09-02T14:39:00.588050524+00:00",
     "start_time": "2021-09-02T14:38:57.601Z"
    }
   },
   "outputs": [],
   "source": [
    "use std::collections::HashMap;\n",
    "use std::convert::TryInto;\n",
    "\n",
    "fn recursive_partition_function(input_num: u32, storage_map: &HashMap<u32, u32>) -> HashMap<u32, u32>\n",
    "{\n",
    "    let mut out = HashMap::with_capacity(1 + storage_map.len());\n",
    "    \n",
    "    if input_num < 7 {\n",
    "        // Put lowest cases into match to reduce computational time\n",
    "        let out_val = match input_num {0 | 1 => 1,\n",
    "                                        2 => 2,\n",
    "                                        3 => 3,\n",
    "                                        4 => 5,\n",
    "                                        5 => 7,\n",
    "                                        6 => 11,\n",
    "                                        _ => 0\n",
    "        };\n",
    "        out.insert(input_num, out_val);\n",
    "        return out;\n",
    "    }\n",
    "    \n",
    "    let max_k = maximum_k_val(input_num);\n",
    "    let mut sum: i32 = 0;\n",
    "    \n",
    "    for k in 1..=max_k {\n",
    "        let upper_val: i32 = input_num as i32 - lower_pentagonal_num(k) as i32;\n",
    "        let lower_val: i32 = input_num as i32 - higher_pentagonal_num(k) as i32;\n",
    "        \n",
    "        let vals = [upper_val, lower_val];\n",
    "//         println!(\"max k = {}, vals={:?}\", max_k, vals);\n",
    "        \n",
    "        let mut partition_vals = vec![0; 2];\n",
    "        \n",
    "        for (counter, value) in vals.iter().enumerate() {\n",
    "            \n",
    "            if value == &0 {\n",
    "                partition_vals[counter] = 1;\n",
    "                continue\n",
    "            } else if value < &0 {\n",
    "                partition_vals[counter] = 0;\n",
    "                continue\n",
    "            }\n",
    "            \n",
    "            let val: u32 = *value as u32;\n",
    "            \n",
    "            let map_val = storage_map.get(&val);\n",
    "            \n",
    "            let num_partitions: u32;\n",
    "            \n",
    "            if map_val.is_none() && out.get(&val).is_none() {\n",
    "                let sub_partition_val = pure_recursive_partition_function(*value as i32) as u32;\n",
    "                num_partitions = sub_partition_val;\n",
    "                out.insert(val, sub_partition_val);\n",
    "            } else if out.get(&val).is_some() {\n",
    "                num_partitions = *out.get(&val).unwrap();\n",
    "            } else {\n",
    "                num_partitions = *map_val.unwrap();\n",
    "            }\n",
    "            \n",
    "            partition_vals[counter] = num_partitions;\n",
    "        }\n",
    "        \n",
    "        \n",
    "        let temp = (partition_vals[0] + partition_vals[1]) as i32;\n",
    "        \n",
    "//         println!(\"num={}, k={}, pval={:?}, psum={}\", input_num, k, partition_vals, temp);\n",
    "        \n",
    "        if (k+1) & 1 == 1 {\n",
    "            sum -= temp\n",
    "        } else {\n",
    "            sum += temp\n",
    "        }\n",
    "    }\n",
    "    \n",
    "    out.insert(input_num, sum as u32);\n",
    "    \n",
    "    out.extend(storage_map);\n",
    "    \n",
    "    out\n",
    "}"
   ]
  },
  {
   "cell_type": "code",
   "execution_count": 16,
   "metadata": {
    "ExecuteTime": {
     "end_time": "2021-09-02T14:39:00.816673846+00:00",
     "start_time": "2021-09-02T14:38:57.603Z"
    }
   },
   "outputs": [],
   "source": [
    "fn not_in_storage(input_num: u32, storage_map: HashMap<u32, u32>) -> Vec<u32> {\n",
    "    let pentagonal_nums = compute_pentagonal_num(input_num);\n",
    "//     let base_integers = pentagonal_nums.iter().map(|pent_num| input_num - pent_num).collect();\n",
    "    pentagonal_nums.iter()\n",
    "                    .map(|pent_num| input_num - pent_num)\n",
    "                    .filter(|base_int| !storage_map.contains_key(base_int))\n",
    "                    .collect::<Vec<u32>>()\n",
    "}"
   ]
  },
  {
   "cell_type": "code",
   "execution_count": 17,
   "metadata": {
    "ExecuteTime": {
     "end_time": "2021-09-02T14:39:01.050455131+00:00",
     "start_time": "2021-09-02T14:38:57.604Z"
    }
   },
   "outputs": [],
   "source": [
    "fn build_base_partition_vals(partition_integers: Vec<u32>) -> HashMap<u32, u32> {\n",
    "    \n",
    "    let mut all_partition_vals: HashMap<u32, u32> = HashMap::new();\n",
    "    \n",
    "    for val in partition_integers.iter() {\n",
    "        all_partition_vals = recursive_partition_function(*val, &all_partition_vals);\n",
    "    }\n",
    "    \n",
    "    all_partition_vals\n",
    "}"
   ]
  },
  {
   "cell_type": "code",
   "execution_count": 18,
   "metadata": {
    "ExecuteTime": {
     "end_time": "2021-09-02T14:39:01.290125666+00:00",
     "start_time": "2021-09-02T14:38:57.606Z"
    }
   },
   "outputs": [],
   "source": [
    "fn find_integer_partition(input_num: u32) -> u32 {\n",
    "    \n",
    "//     let recursive_integers = required_integers(input_num);\n",
    "    let recursive_integers = (0..input_num).collect::<Vec<u32>>();\n",
    "    \n",
    "    let store_partition_vals: HashMap<u32, u32> = build_base_partition_vals(recursive_integers);\n",
    "    \n",
    "    let all_partition_vals = recursive_partition_function(input_num, &store_partition_vals);\n",
    "    \n",
    "    *all_partition_vals.get(&input_num).unwrap()\n",
    "}"
   ]
  },
  {
   "cell_type": "code",
   "execution_count": 19,
   "metadata": {
    "ExecuteTime": {
     "end_time": "2021-09-02T14:39:02.046537876+00:00",
     "start_time": "2021-09-02T14:38:57.608Z"
    }
   },
   "outputs": [
    {
     "name": "stdout",
     "output_type": "stream",
     "text": [
      "[2, 7, 15, 26, 40, 57, 77, 100, 1, 5, 12, 22, 35, 51, 70, 92]\n",
      "[1, 2, 3, 4, 5, 6, 7, 8, 9, 10, 11, 12, 13, 14, 15, 16, 17, 18, 19, 20, 21, 22, 23, 24, 25, 26, 27, 28, 29, 30, 31, 32, 33, 34, 35, 36, 37, 38, 39, 40, 41, 42, 43, 44, 45, 46, 47, 48, 49, 50, 51, 52, 53, 54, 55, 56, 57, 58, 59, 60, 61, 62, 63, 64, 65, 66, 67, 68, 69, 70, 71, 72, 73, 74, 75, 76, 77, 78, 79, 80, 81, 82, 83, 84, 85, 86, 87, 88, 89, 90, 91, 92, 93, 94, 95, 96, 97, 98, 99]\n"
     ]
    }
   ],
   "source": [
    "let a = required_integers(100);\n",
    "println!(\"{:?}\", a);\n",
    "// let mut combined = a.clone();\n",
    "// a.iter().for_each(|val| combined.union(&required_integers(*val)));\n",
    "// println!(\"{:?}\", a);\n",
    "\n",
    "// for k in 1..100{\n",
    "//     println!(\"{} {}\", (3*k*k - k)/2, (3*k*k + k)/2)\n",
    "// }"
   ]
  },
  {
   "cell_type": "code",
   "execution_count": 25,
   "metadata": {
    "ExecuteTime": {
     "end_time": "2021-09-02T14:39:14.514402477+00:00",
     "start_time": "2021-09-02T14:39:14.035Z"
    }
   },
   "outputs": [
    {
     "name": "stdout",
     "output_type": "stream",
     "text": [
      "190569292\n"
     ]
    }
   ],
   "source": [
    "let b = find_integer_partition(100);\n",
    "println!(\"{:?}\", b);"
   ]
  }
 ],
 "metadata": {
  "kernelspec": {
   "display_name": "Rust",
   "language": "rust",
   "name": "rust"
  },
  "language_info": {
   "codemirror_mode": "rust",
   "file_extension": ".rs",
   "mimetype": "text/rust",
   "name": "Rust",
   "pygment_lexer": "rust",
   "version": ""
  }
 },
 "nbformat": 4,
 "nbformat_minor": 4
}
