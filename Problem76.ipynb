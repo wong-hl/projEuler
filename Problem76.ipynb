{
 "cells": [
  {
   "cell_type": "markdown",
   "metadata": {},
   "source": [
    "# Problem 76 - Counting Summations \n",
    "\n",
    "It is possible to write $5$ as a sum in exactly $6$ different ways:\n",
    "\\begin{align*}\n",
    "    &4 + 1 \\\\\n",
    "    &3 + 2 \\\\\n",
    "    &3 + 1 + 1 \\\\\n",
    "    &2 + 2 + 1 \\\\\n",
    "    &2 + 1 + 1 + 1 \\\\\n",
    "    &1 + 1 + 1 + 1 + 1 \n",
    "\\end{align*}\n",
    "\n",
    "How many different ways can $100$ be written as a sum of at least $2$ positive integers?\n",
    "\n",
    "---\n",
    "\n"
   ]
  },
  {
   "cell_type": "markdown",
   "metadata": {},
   "source": [
    "## Theory\n",
    "\n",
    "### Definition - Partition\n",
    "\n",
    "According to [Mathematica](https://math.blogoverflow.com/2014/08/25/playing-with-partitions-eulers-pentagonal-theorem/), a tuple $(n_1, n_2, \\ldots, n_k)$ of positive integers is a partition of a positive integer $n$ if, \n",
    "$$\n",
    "    n_1 \\geq n_2 \\geq \\ldots \\geq n_k \n",
    "$$\n",
    "and \n",
    "$$\n",
    "    n_1 + n_2 + \\ldots + n_k = n\n",
    "$$\n",
    "If the tuple is a partition of $n$, then each $n_i$ is a part of the partition, $k$ is the number of parts, $n_1$ is the greatest part, and $n_k$ is the least part of the partition.\n",
    "\n",
    "### Integer partition by coefficients\n",
    "\n",
    "By considering the \n",
    "[combinations](https://math.blogoverflow.com/2014/08/25/playing-with-partitions-eulers-pentagonal-theorem/), \n",
    "it follows that if $p(n)$ is the number of paritions of $n$ and $p(0) = 1$ then, \n",
    "$$\n",
    "    \\sum_{n=0}^\\infty p(n) x^n = \\frac{1}{(1-x)(1-x^2)(1-x^3) \\cdots} = \\prod_{k=1}^\\infty \\frac{1}{1-x^k}\n",
    "$$\n",
    "This form could be used to solve the problem. However, the increasing exponents makes it not a feasible solution. \n",
    "\n",
    "### Euler's Pentagonal Theorem\n",
    "\n",
    "The theorem \n",
    "[states](https://math.blogoverflow.com/2014/08/25/playing-with-partitions-eulers-pentagonal-theorem/), \n",
    "$$\n",
    "    (1-x)(1-x^2)(1-x^3) \\cdots = \\sum_{j=-\\infty}^\\infty (-1)^j x^{g_j}\n",
    "$$\n",
    "where $g_j$ = $\\frac{3j^2 + j}{2}$. \n",
    "This provides a form from which the partition equation can be simplified.\n",
    "\n",
    "### Combining Euler's theorem and partition equation\n",
    "\n",
    "By substituiting Euler's theorem into the partition equation, we obtain,\n",
    "$$\n",
    "    \\sum_{n=0}^\\infty p(n) x^n = \\frac{1}{(1-x)(1-x^2)(1-x^3) \\cdots} = \\frac{1}{\\sum_{j=-\\infty}^\\infty (-1)^j x^{g_j}}\n",
    "$$\n",
    "Equating coefficients of $x^n$ yields\n",
    "[the recurrence relation](https://math.blogoverflow.com/2014/08/25/playing-with-partitions-eulers-pentagonal-theorem/), \n",
    "$$\n",
    "    p(n) = p(n-1) + p(n-2) - p(n-5) - p(n-7) + p(n-12) + p(n-15) - \\ldots\n",
    "$$\n",
    "where the integers are pentagonal numbers of the form $g_j = (3j^2 \\pm j)/2$.\n",
    "\n",
    "Alternatively, the recursive relation for $p(n)$ can be [expressed as](https://www.cambridge.org/core/journals/lms-journal-of-computation-and-mathematics/article/efficient-implementation-of-the-hardyramanujanrademacher-formula/80A6F53DCB85A4270641920D989A2E8F), \n",
    "$$\n",
    "    p(n) = \\sum_{k=1}^n (-1)^{k+1} \\Big[ p \\Big(n - \\frac{k(3k-1)}{2} \\Big) + p \\Big(n - \\frac{k(3k+1)}{2} \\Big) \\Big ] \n",
    "$$\n",
    "\n",
    "<!-- \n",
    "The partition of integers can be described by the recurrence relation,\n",
    "\\begin{gather}\n",
    "    p_n = \\sum_{k=1}^{n} p_k(n) \\\\\n",
    "    p_k(n) = p_k(n-k) + p_{k-1}(n-1) \\\\\n",
    "    p(n) = \\sum_{k \\in \\mathcal{z}} (-1)^{k+1} p(n-k(3k-1)/2)\n",
    "\\end{gather} -->\n",
    "<!-- https://www.whitman.edu/mathematics/cgt_online/book/section03.03.html -->\n",
    "<!-- https://en.wikipedia.org/wiki/Partition_function_(number_theory) -->"
   ]
  },
  {
   "cell_type": "markdown",
   "metadata": {},
   "source": [
    "## Implementation - brute force"
   ]
  },
  {
   "cell_type": "code",
   "execution_count": 2,
   "metadata": {
    "ExecuteTime": {
     "end_time": "2021-09-06T16:06:47.348732913+00:00",
     "start_time": "2021-09-06T16:06:47.134Z"
    }
   },
   "outputs": [],
   "source": [
    "fn pure_recursive_partition_function(input_num: i32) -> i32 \n",
    "{\n",
    "    // Put lowest cases into match \n",
    "    match input_num {\n",
    "        0 | 1 => return 1,\n",
    "        2 => return 2,\n",
    "        3 => return 3,\n",
    "        4 => return 5,\n",
    "        5 => return 7,\n",
    "        6 => return 11,\n",
    "        num if num < 0 => return 0,\n",
    "        _ => ()\n",
    "    };\n",
    "    \n",
    "    let mut sum = 0;\n",
    "    let mut k = 1;\n",
    "    \n",
    "    loop {\n",
    "        let x: i32 = (k*(3*k - 1))/2;\n",
    "        \n",
    "        if x > input_num + k {\n",
    "            return sum;\n",
    "        }\n",
    "        \n",
    "//         println!(\"input num = {} {} {}\",input_num, input_num - x, input_num -x -k);\n",
    "        \n",
    "        let y = pure_recursive_partition_function(input_num - x) + pure_recursive_partition_function(input_num - x - k);\n",
    "        \n",
    "        if (k+1) & 1 == 1 {\n",
    "            sum -= y\n",
    "        } else {\n",
    "            sum += y\n",
    "        }\n",
    "        \n",
    "        k += 1;\n",
    "    }\n",
    "}"
   ]
  },
  {
   "cell_type": "markdown",
   "metadata": {},
   "source": [
    "### Performance \n",
    "\n",
    "For $p(40)$, it takes approximately $1.77s$. \n",
    "This will take a couple of minutes (or more) for $p(100)$.\n",
    "Therefore, a more efficient solution is sought."
   ]
  },
  {
   "cell_type": "code",
   "execution_count": 3,
   "metadata": {
    "ExecuteTime": {
     "end_time": "2021-09-06T16:06:50.041398423+00:00",
     "start_time": "2021-09-06T16:06:47.138Z"
    }
   },
   "outputs": [
    {
     "name": "stdout",
     "output_type": "stream",
     "text": [
      "p(40) = 37338\n"
     ]
    }
   ],
   "source": [
    "let n = 40;\n",
    "let soln = pure_recursive_partition_function(n);\n",
    "println!(\"p({}) = {}\",n, soln);"
   ]
  },
  {
   "cell_type": "markdown",
   "metadata": {},
   "source": [
    "## Implementation - brute force but store previous value"
   ]
  },
  {
   "cell_type": "code",
   "execution_count": 4,
   "metadata": {
    "ExecuteTime": {
     "end_time": "2021-09-06T16:06:50.249263985+00:00",
     "start_time": "2021-09-06T16:06:47.142Z"
    }
   },
   "outputs": [],
   "source": [
    "fn higher_pentagonal_num(num: u32) -> u32 {\n",
    "    return ((3*num*num + num)/2) as u32\n",
    "}\n",
    "\n",
    "fn lower_pentagonal_num(num: u32) -> u32 {\n",
    "    return ((3*num*num - num)/2) as u32\n",
    "}\n",
    "\n"
   ]
  },
  {
   "cell_type": "markdown",
   "metadata": {},
   "source": [
    "### Maximum $k$ value for a given $n$\n",
    "\n",
    "Since $p(n) = 0$ for $n < 0$, this can be used to limit the number of iterations and yields, \n",
    "$$\n",
    "    n - g_k = n - (3k^2 \\pm k)/2 < 0 \n",
    "$$\n",
    "Simply the inequality by considering $=0$ instead of $<0$, \n",
    "$$\n",
    "    3k^2 \\mp k - 2n = 0 \n",
    "$$\n",
    "Using the quadratic equation, one yields, \n",
    "$$\n",
    "    k = \\frac{1}{6} \\Big( \\pm 1 \\pm \\sqrt{1+24n} \\Big)\n",
    "$$\n",
    "$k$ would be largest when the positive case is taken at each $\\pm$."
   ]
  },
  {
   "cell_type": "code",
   "execution_count": 5,
   "metadata": {
    "ExecuteTime": {
     "end_time": "2021-09-06T16:06:50.447831154+00:00",
     "start_time": "2021-09-06T16:06:47.145Z"
    }
   },
   "outputs": [],
   "source": [
    "fn maximum_k_val(input_num: u32) -> u32 {\n",
    "    ((1.0_f32 + (1.0 + 24_f32*input_num as f32).sqrt())/6.0) as u32\n",
    "}"
   ]
  },
  {
   "cell_type": "markdown",
   "metadata": {},
   "source": [
    "### Determine if all prior integers are required\n",
    "\n",
    "Inspecting the recurrence relation indicates that it is likely that all prior numbers are required to find $p(n)$. \n",
    "To verify it, the `required_integers()` function finds which are the integer that are required to assemble $p(n)$.\n",
    "\n",
    "It was found that this is indeed true. Please refer to three cells down after the function declarations. "
   ]
  },
  {
   "cell_type": "code",
   "execution_count": 6,
   "metadata": {
    "ExecuteTime": {
     "end_time": "2021-09-06T16:06:50.660230610+00:00",
     "start_time": "2021-09-06T16:06:47.148Z"
    }
   },
   "outputs": [],
   "source": [
    "fn compute_pentagonal_num(input_num: u32) -> Vec<u32> {\n",
    "    let max_k = maximum_k_val(input_num);\n",
    "    \n",
    "    if max_k == 0 {\n",
    "        return Vec::<u32>::new();\n",
    "    }\n",
    "    \n",
    "    (1..=max_k).map(|k| higher_pentagonal_num(k))\n",
    "                .into_iter()\n",
    "                .chain(\n",
    "                    (1..=max_k).map(|k| lower_pentagonal_num(k))\n",
    "                    .into_iter())\n",
    "                .collect()\n",
    "}"
   ]
  },
  {
   "cell_type": "code",
   "execution_count": 7,
   "metadata": {
    "ExecuteTime": {
     "end_time": "2021-09-06T16:06:50.860509297+00:00",
     "start_time": "2021-09-06T16:06:47.151Z"
    }
   },
   "outputs": [],
   "source": [
    "fn compute_previous_indices(input_num: u32) -> Vec<(i32, i32)> {\n",
    "    let max_k = maximum_k_val(input_num);\n",
    "    \n",
    "    let casted_input_num = input_num as i32;\n",
    "    \n",
    "    if max_k == 0 {\n",
    "        return Vec::<(i32, i32)>::new();\n",
    "    }\n",
    "    \n",
    "    (1..=max_k).map(|k| \n",
    "        (casted_input_num - higher_pentagonal_num(k) as i32, \n",
    "            casted_input_num - lower_pentagonal_num(k) as i32))\n",
    "                .collect()\n",
    "}"
   ]
  },
  {
   "cell_type": "code",
   "execution_count": 8,
   "metadata": {
    "ExecuteTime": {
     "end_time": "2021-09-06T16:06:51.076403995+00:00",
     "start_time": "2021-09-06T16:06:47.153Z"
    }
   },
   "outputs": [],
   "source": [
    "use std::collections::HashSet;\n",
    "\n",
    "fn compute_integers_from_pent_num(input_num: u32, pentagonal_nums: Vec<u32>) -> HashSet<u32> {\n",
    "    \n",
    "    let mut set = HashSet::with_capacity(input_num as usize);\n",
    "    \n",
    "    for pent_num in pentagonal_nums.iter() {\n",
    "        let mut inner_counter = 1;\n",
    "        \n",
    "        loop {\n",
    "            let n_time_k = inner_counter*pent_num;\n",
    "            \n",
    "            if n_time_k >= input_num {\n",
    "                break\n",
    "            } else {\n",
    "                set.insert(input_num - n_time_k);\n",
    "                inner_counter += 1;\n",
    "            }\n",
    "        }\n",
    "    }\n",
    "    \n",
    "    set.shrink_to_fit();\n",
    "    set\n",
    "}"
   ]
  },
  {
   "cell_type": "code",
   "execution_count": 9,
   "metadata": {
    "ExecuteTime": {
     "end_time": "2021-09-06T16:06:51.281692574+00:00",
     "start_time": "2021-09-06T16:06:47.156Z"
    }
   },
   "outputs": [],
   "source": [
    "fn required_integers(input_num: u32) -> Vec<u32> {\n",
    "    \n",
    "    let pentagonal_nums = compute_pentagonal_num(input_num);\n",
    "    println!(\"Pentagonal Numbers for {}: {:?}\", input_num, pentagonal_nums);\n",
    "    \n",
    "    let set = compute_integers_from_pent_num(input_num, pentagonal_nums);\n",
    "    \n",
    "    let mut out = set.into_iter().collect::<Vec<_>>();\n",
    "    out.sort();\n",
    "    out\n",
    "}"
   ]
  },
  {
   "cell_type": "code",
   "execution_count": 10,
   "metadata": {
    "ExecuteTime": {
     "end_time": "2021-09-06T16:06:52.030057618+00:00",
     "start_time": "2021-09-06T16:06:47.158Z"
    }
   },
   "outputs": [
    {
     "name": "stdout",
     "output_type": "stream",
     "text": [
      "Pentagonal Numbers for 100: [2, 7, 15, 26, 40, 57, 77, 100, 1, 5, 12, 22, 35, 51, 70, 92]\n",
      "Prior p(n) that need to be found for 100 are: [1, 2, 3, 4, 5, 6, 7, 8, 9, 10, 11, 12, 13, 14, 15, 16, 17, 18, 19, 20, 21, 22, 23, 24, 25, 26, 27, 28, 29, 30, 31, 32, 33, 34, 35, 36, 37, 38, 39, 40, 41, 42, 43, 44, 45, 46, 47, 48, 49, 50, 51, 52, 53, 54, 55, 56, 57, 58, 59, 60, 61, 62, 63, 64, 65, 66, 67, 68, 69, 70, 71, 72, 73, 74, 75, 76, 77, 78, 79, 80, 81, 82, 83, 84, 85, 86, 87, 88, 89, 90, 91, 92, 93, 94, 95, 96, 97, 98, 99]\n"
     ]
    }
   ],
   "source": [
    "let n = 100;\n",
    "let prior_integers = required_integers(n);\n",
    "println!(\"Prior p(n) that need to be found for {} are: {:?}\", n, prior_integers);"
   ]
  },
  {
   "cell_type": "markdown",
   "metadata": {},
   "source": [
    "### Compute values\n",
    "\n",
    "This utilises the recurrence relation to find $p(n)$.\n",
    "A more efficient solution would've been to use a vector than a hash map. \n",
    "However, it was only realised later that this was not necessary."
   ]
  },
  {
   "cell_type": "code",
   "execution_count": 11,
   "metadata": {
    "ExecuteTime": {
     "end_time": "2021-09-06T16:06:52.277076881+00:00",
     "start_time": "2021-09-06T16:06:47.161Z"
    }
   },
   "outputs": [],
   "source": [
    "use std::collections::HashMap;\n",
    "\n",
    "fn recursive_partition_function(input_num: u32, storage_map: &HashMap<u32, u32>) -> HashMap<u32, u32>\n",
    "{\n",
    "    let mut out = HashMap::with_capacity(1 + storage_map.len());\n",
    "    \n",
    "    if input_num < 7 {\n",
    "        // Put lowest cases into match to reduce computational time\n",
    "        let out_val = match input_num {0 | 1 => 1,\n",
    "                                        2 => 2,\n",
    "                                        3 => 3,\n",
    "                                        4 => 5,\n",
    "                                        5 => 7,\n",
    "                                        6 => 11,\n",
    "                                        _ => 0\n",
    "        };\n",
    "        out.insert(input_num, out_val);\n",
    "        return out;\n",
    "    }\n",
    "    \n",
    "    let max_k = maximum_k_val(input_num);\n",
    "    let mut sum: i32 = 0;\n",
    "    \n",
    "    for k in 1..=max_k {\n",
    "        let upper_val: i32 = input_num as i32 - lower_pentagonal_num(k) as i32;\n",
    "        let lower_val: i32 = input_num as i32 - higher_pentagonal_num(k) as i32;\n",
    "        \n",
    "        let vals = [upper_val, lower_val];\n",
    "//         println!(\"max k = {}, vals={:?}\", max_k, vals);\n",
    "        \n",
    "        let mut partition_vals = vec![0; 2];\n",
    "        \n",
    "        for (counter, value) in vals.iter().enumerate() {\n",
    "            \n",
    "            if value == &0 {\n",
    "                partition_vals[counter] = 1;\n",
    "                continue\n",
    "            } else if value < &0 {\n",
    "                partition_vals[counter] = 0;\n",
    "                continue\n",
    "            }\n",
    "            \n",
    "            let val: u32 = *value as u32;\n",
    "            \n",
    "            let map_val = storage_map.get(&val);\n",
    "            \n",
    "            let num_partitions: u32;\n",
    "            \n",
    "            if map_val.is_none() && out.get(&val).is_none() {\n",
    "                let sub_partition_val = pure_recursive_partition_function(*value as i32) as u32;\n",
    "                num_partitions = sub_partition_val;\n",
    "                out.insert(val, sub_partition_val);\n",
    "            } else if out.get(&val).is_some() {\n",
    "                num_partitions = *out.get(&val).unwrap();\n",
    "            } else {\n",
    "                num_partitions = *map_val.unwrap();\n",
    "            }\n",
    "            \n",
    "            partition_vals[counter] = num_partitions;\n",
    "        }\n",
    "        \n",
    "        \n",
    "        let temp = (partition_vals[0] + partition_vals[1]) as i32;\n",
    "        \n",
    "//         println!(\"num={}, k={}, pval={:?}, psum={}\", input_num, k, partition_vals, temp);\n",
    "        \n",
    "        if (k+1) & 1 == 1 {\n",
    "            sum -= temp\n",
    "        } else {\n",
    "            sum += temp\n",
    "        }\n",
    "    }\n",
    "    \n",
    "    out.insert(input_num, sum as u32);\n",
    "    \n",
    "    out.extend(storage_map);\n",
    "    \n",
    "    out\n",
    "}"
   ]
  },
  {
   "cell_type": "code",
   "execution_count": 12,
   "metadata": {
    "ExecuteTime": {
     "end_time": "2021-09-06T16:06:52.522128895+00:00",
     "start_time": "2021-09-06T16:06:47.163Z"
    }
   },
   "outputs": [],
   "source": [
    "fn build_base_partition_vals(partition_integers: Vec<u32>) -> HashMap<u32, u32> {\n",
    "    \n",
    "    let mut all_partition_vals: HashMap<u32, u32> = HashMap::new();\n",
    "    \n",
    "    for val in partition_integers.iter() {\n",
    "        all_partition_vals = recursive_partition_function(*val, &all_partition_vals);\n",
    "    }\n",
    "    \n",
    "    all_partition_vals\n",
    "}"
   ]
  },
  {
   "cell_type": "code",
   "execution_count": 13,
   "metadata": {
    "ExecuteTime": {
     "end_time": "2021-09-06T16:06:52.730754089+00:00",
     "start_time": "2021-09-06T16:06:47.166Z"
    }
   },
   "outputs": [],
   "source": [
    "fn find_integer_partition(input_num: u32) -> u32 {\n",
    "    \n",
    "    let recursive_integers = (0..input_num).collect::<Vec<u32>>();\n",
    "    \n",
    "    let store_partition_vals: HashMap<u32, u32> = build_base_partition_vals(recursive_integers);\n",
    "    \n",
    "    let all_partition_vals = recursive_partition_function(input_num, &store_partition_vals);\n",
    "    \n",
    "    *all_partition_vals.get(&input_num).unwrap()\n",
    "}"
   ]
  },
  {
   "cell_type": "code",
   "execution_count": 14,
   "metadata": {
    "ExecuteTime": {
     "end_time": "2021-09-06T16:06:53.470825925+00:00",
     "start_time": "2021-09-06T16:06:47.169Z"
    }
   },
   "outputs": [
    {
     "name": "stdout",
     "output_type": "stream",
     "text": [
      "p(100) = 190569292\n",
      "No. of different ways 100 can be written as a sum of at least 2 positive integers is 190569291\n"
     ]
    }
   ],
   "source": [
    "let n = 100;\n",
    "let soln = find_integer_partition(n);\n",
    "println!(\"p({}) = {:?}\", n, soln);\n",
    "println!(\"No. of different ways {} can be written as a sum of at least 2 positive integers is {}\", n, soln - 1);"
   ]
  },
  {
   "cell_type": "markdown",
   "metadata": {},
   "source": [
    "\n",
    "---\n"
   ]
  },
  {
   "cell_type": "markdown",
   "metadata": {},
   "source": [
    "# Problem 78 - Coin Partitions"
   ]
  },
  {
   "cell_type": "markdown",
   "metadata": {},
   "source": [
    "Let $p(n)$ represent the number of different ways in which $n$ coins can be separated into piles. \n",
    "For example, five coins can be separated into piles in exactly seven different ways, so $p(5)=7$.\n",
    "\n",
    "<div class=\"margin_left\">\n",
    "OOOOO<br />\n",
    "OOOO   O<br />\n",
    "OOO   OO<br />\n",
    "OOO   O   O<br />\n",
    "OO   OO   O<br />\n",
    "OO   O   O   O<br />\n",
    "O   O   O   O   O\n",
    "</div>\n",
    "\n",
    "Find the least value of $n$ for which $p(n)$ is divisible by one million.\n",
    "\n",
    "---\n"
   ]
  },
  {
   "cell_type": "markdown",
   "metadata": {},
   "source": [
    "## Theory"
   ]
  },
  {
   "cell_type": "markdown",
   "metadata": {},
   "source": [
    "### Approximation Formula\n",
    "\n",
    "From [wikipedia](https://en.wikipedia.org/wiki/Partition_(number_theory)), the growth rate of $p(n)$ can br approximated by the function,\n",
    "$$\n",
    "    \\log{p(n)} \\approx C \\sqrt{n} \\quad \\text{as } n \\to \\infty\n",
    "$$\n",
    "where $C = \\pi \\sqrt{\\frac{2}{3}}$.\n",
    "\n",
    "### Application to problem\n",
    "\n",
    "The above equation can be rearranged to the form, \n",
    "$$\n",
    "    n \\approx \\frac{3}{2} \\Big( \\frac{1}{\\pi} \\log{p(n)} \\Big)^2\n",
    "$$\n",
    "\n",
    "For this problem, $p(n) = 10^6$ can be substituited to obtain an approximate of n."
   ]
  },
  {
   "cell_type": "code",
   "execution_count": 15,
   "metadata": {
    "ExecuteTime": {
     "end_time": "2021-09-06T16:06:53.716964124+00:00",
     "start_time": "2021-09-06T16:06:47.174Z"
    }
   },
   "outputs": [],
   "source": [
    "use std::f64::consts::PI;\n",
    "fn approximate_n(target_partition_val: u32) -> f64 {\n",
    "    let target_val = target_partition_val as f64;\n",
    "    let inside_bracket = (1.0/PI)*(target_val.log10());\n",
    "    1.5*inside_bracket*inside_bracket\n",
    "}"
   ]
  },
  {
   "cell_type": "code",
   "execution_count": 16,
   "metadata": {
    "ExecuteTime": {
     "end_time": "2021-09-06T16:06:54.315944947+00:00",
     "start_time": "2021-09-06T16:06:47.176Z"
    }
   },
   "outputs": [
    {
     "name": "stdout",
     "output_type": "stream",
     "text": [
      "Approx n: 14.10298405823843\n"
     ]
    }
   ],
   "source": [
    "let minimum_pn = 1e12 as u32;\n",
    "let approx_n = approximate_n(minimum_pn);\n",
    "println!(\"Approx n: {}\", approx_n);"
   ]
  },
  {
   "cell_type": "markdown",
   "metadata": {},
   "source": [
    "### Misunderstood problem\n",
    "\n",
    "I think it wants where it is perfectly divisible by 1,000,000 rather than when it exceeds a million."
   ]
  },
  {
   "cell_type": "markdown",
   "metadata": {},
   "source": [
    "#### Structure pentagonal numbers\n",
    "\n",
    "To leverage the functional programming syntax and to reduce repeated code, place both numbers into an array for easy iteration over values."
   ]
  },
  {
   "cell_type": "code",
   "execution_count": 17,
   "metadata": {
    "ExecuteTime": {
     "end_time": "2021-09-06T16:06:54.561862188+00:00",
     "start_time": "2021-09-06T16:06:47.179Z"
    }
   },
   "outputs": [],
   "source": [
    "fn pentagonal_nums(num: u32) -> [i32; 2] {\n",
    "    [higher_pentagonal_num(num) as i32, lower_pentagonal_num(num) as i32]\n",
    "}"
   ]
  },
  {
   "cell_type": "markdown",
   "metadata": {},
   "source": [
    "#### Prevent integer overflow\n",
    "\n",
    "As $p(n)$ grows exponentially, integer overflow will occur quite quickly. \n",
    "Since the problem requires finding when $p(n)\\mod{x}$ where $x$ is a million, only the last 6 decimal digits are of concern.\n",
    "Similarly, if $x=55$, then the last 2 decimal digits are of concern. \n",
    "Therefore, the value stored is, \n",
    "$$\n",
    "    p(n) = \n",
    "      \\begin{cases}\n",
    "        p(n), & n \\leq y \\\\\n",
    "        p(n) \\mod{x} , & n > y\n",
    "      \\end{cases}\n",
    "$$\n",
    "where $y$ is the closest multiple of $10$ that retains the required information"
   ]
  },
  {
   "cell_type": "code",
   "execution_count": 18,
   "metadata": {
    "ExecuteTime": {
     "end_time": "2021-09-06T16:06:54.830591324+00:00",
     "start_time": "2021-09-06T16:06:47.183Z"
    }
   },
   "outputs": [],
   "source": [
    "fn next_multiple_10(divisible_by: u32) -> u32 {\n",
    "    \n",
    "    if divisible_by % 10 == 0 {\n",
    "        return divisible_by;\n",
    "    }\n",
    "    \n",
    "//     let mut multiple = 10;\n",
    "    \n",
    "//     loop {\n",
    "//         if divisible_by/multiple != 0 {\n",
    "//             multiple *= 10;\n",
    "//         } else {\n",
    "//             return multiple;\n",
    "//         }\n",
    "//     }\n",
    "    \n",
    "    (divisible_by as f64).log10().ceil() as u32\n",
    "}"
   ]
  },
  {
   "cell_type": "markdown",
   "metadata": {},
   "source": [
    "#### Solving problem \n",
    "\n",
    "The above implementation has been adapted to,\n",
    "1. Use a vector instead of a HashMap \n",
    "2. Loop and terminate based on condition instead of by a counter value"
   ]
  },
  {
   "cell_type": "code",
   "execution_count": 19,
   "metadata": {
    "ExecuteTime": {
     "end_time": "2021-09-06T16:06:55.081953711+00:00",
     "start_time": "2021-09-06T16:06:47.185Z"
    },
    "code_folding": []
   },
   "outputs": [],
   "source": [
    "fn find_parition_divisible(divisible_by: u32) -> u32\n",
    "{\n",
    "    let mut store_previous: Vec<i32> = Vec::with_capacity(5000);\n",
    "    let mut partition_integer = 2;\n",
    "    \n",
    "    store_previous.push(1);\n",
    "    store_previous.push(1);\n",
    "    \n",
    "    let divisor = next_multiple_10(divisible_by);\n",
    "    \n",
    "    loop {\n",
    "        let max_k = maximum_k_val(partition_integer);\n",
    "        \n",
    "        let mut sum: i32 = 0;\n",
    "        \n",
    "        for k in 1..=max_k {\n",
    "            let pent_num = pentagonal_nums(k);\n",
    "            let this_k = pent_num.iter()\n",
    "                                .fold(0_i32, \n",
    "                                    |sum, val| \n",
    "                                    if partition_integer as i32 - val < 0 {\n",
    "                                        sum\n",
    "                                    } else {\n",
    "                                        sum + \n",
    "                                        *store_previous.get((partition_integer - *val as u32) as usize)\n",
    "                                        .unwrap() as i32\n",
    "            });\n",
    "            \n",
    "            if (k+1) & 1 == 0 {\n",
    "                sum += this_k;\n",
    "            } else {\n",
    "                sum -= this_k;\n",
    "            }\n",
    "        }\n",
    "        \n",
    "        \n",
    "        let modulo_by_divisible = sum % divisible_by as i32;\n",
    "        \n",
    "        if modulo_by_divisible == 0 {\n",
    "            store_previous.push(sum);\n",
    "            break\n",
    "        } else if sum as u32 > divisor {\n",
    "            store_previous.push(modulo_by_divisible)\n",
    "        } else {\n",
    "            store_previous.push(sum)\n",
    "        }\n",
    "        \n",
    "        partition_integer += 1;\n",
    "        \n",
    "    }\n",
    "    \n",
    "    partition_integer\n",
    "}"
   ]
  },
  {
   "cell_type": "code",
   "execution_count": 20,
   "metadata": {
    "ExecuteTime": {
     "end_time": "2021-09-06T16:06:55.714807685+00:00",
     "start_time": "2021-09-06T16:06:47.189Z"
    }
   },
   "outputs": [
    {
     "name": "stdout",
     "output_type": "stream",
     "text": [
      "p(55374) % 1000000 = 0\n"
     ]
    }
   ],
   "source": [
    "let multiple_of = 1000000;\n",
    "let soln = find_parition_divisible(multiple_of);\n",
    "println!(\"p({}) % {} = 0\", soln, multiple_of);"
   ]
  },
  {
   "cell_type": "markdown",
   "metadata": {},
   "source": [
    "# Problem 77 - Prime Partitions"
   ]
  },
  {
   "cell_type": "markdown",
   "metadata": {},
   "source": [
    "It is possible to write ten as the sum of primes in exactly five different ways:\n",
    "\\begin{align*}\n",
    "&5 + 5 \\\\\n",
    "&5 + 3 + 2 \\\\\n",
    "&3 + 3 + 2 + 2 \\\\\n",
    "&2 + 2 + 2 + 2 + 2 \\\\\n",
    "\\end{align*}\n",
    "What is the first value which can be written as the sum of primes in over five thousand different ways?\n",
    "\n",
    "---\n"
   ]
  },
  {
   "cell_type": "markdown",
   "metadata": {},
   "source": [
    "## Theory"
   ]
  },
  {
   "cell_type": "markdown",
   "metadata": {},
   "source": [
    "According to wolfram alpha, the \n",
    "[number of prime partition](https://mathworld.wolfram.com/PrimePartition.html) \n",
    "is the \n",
    "[Euler transform](https://mathworld.wolfram.com/EulerTransform.html),\n",
    "$b_n$, if $a_n=1$ for $n$ prime and $a_n=0$ for $n$ composite.\n",
    "\n",
    "Wolfram's reference: (Sloane and Plouffe 1995, p. 21) Sloane, N. J. A. and Plouffe, S. The Encyclopedia of Integer Sequences. San Diego, CA: Academic Press, 1995.\n",
    "\n",
    "The Euler transform of concern is the relationship between integer sequences. If $a_1$, $a_2$, $\\ldots$ and $b_1$, $b_2$, $\\ldots$ are related by, \n",
    "$$\n",
    "    1 + \\sum_{n=1}^\\infty b_n x^n = \\prod_{i=1}^\\infty \\frac{1}{(1-x^i)^{a_i}}\n",
    "$$\n",
    "$b_n$ can be found through an intermediate series, $c_1$, $c_2$, $\\ldots$ given by \n",
    "$$\n",
    "    c_n = \\sum_{d|n} d a_d\n",
    "$$\n",
    "then,\n",
    "$$\n",
    "    b_n = \\frac{1}{n} \\Big[ c_n + \\sum_{k=1}^{n-1} c_k b_{n-k} \\Big]\n",
    "$$\n",
    "where $b_1 = c_1$, $a_n=1$ for $n$ prime, and $a_n=0$ for $n$ composite."
   ]
  },
  {
   "cell_type": "markdown",
   "metadata": {},
   "source": [
    "## Implementation"
   ]
  },
  {
   "cell_type": "markdown",
   "metadata": {},
   "source": [
    "### Sieve of Eratosthenes"
   ]
  },
  {
   "cell_type": "code",
   "execution_count": 21,
   "metadata": {
    "ExecuteTime": {
     "end_time": "2021-09-06T16:06:55.962571560+00:00",
     "start_time": "2021-09-06T16:06:47.193Z"
    }
   },
   "outputs": [],
   "source": [
    "fn seive(n: usize) -> Vec<bool> {\n",
    "    \n",
    "    // Initialise aray of boolean values from 2 to n (shifted in implementation)\n",
    "    // i.e. index 0 = 2, index 1 = 3, ... etc\n",
    "    let mut out = vec![true; n-2];\n",
    "    \n",
    "    // Max iteration number = sqrt(n)\n",
    "    let n_sqrt: usize = ((n as f64).sqrt() + 1.0) as usize;\n",
    "    \n",
    "    // For i = 2, ..., sqrt(n)\n",
    "    for i in 2..n_sqrt {\n",
    "        // if that index is true\n",
    "        if let Some(true) = out.get(i-2) {\n",
    "            // Iterate over j = i^2, i^2 + i, ..., n\n",
    "            let max_k = (n - i*i - 1)/i; \n",
    "            (0..=max_k).for_each(|k| out[i*i + k*i - 2] = false);\n",
    "        }\n",
    "    }\n",
    "    out\n",
    "}"
   ]
  },
  {
   "cell_type": "code",
   "execution_count": 22,
   "metadata": {
    "ExecuteTime": {
     "end_time": "2021-09-06T16:06:56.595451617+00:00",
     "start_time": "2021-09-06T16:06:47.196Z"
    }
   },
   "outputs": [
    {
     "name": "stdout",
     "output_type": "stream",
     "text": [
      "[true, true, false, true, false, true, false, false, false, true, false, true, false, false]\n"
     ]
    }
   ],
   "source": [
    "println!(\"{:?}\", seive(16));"
   ]
  },
  {
   "cell_type": "markdown",
   "metadata": {},
   "source": [
    "### Find $c_n$"
   ]
  },
  {
   "cell_type": "code",
   "execution_count": 23,
   "metadata": {
    "ExecuteTime": {
     "end_time": "2021-09-06T16:06:56.883523504+00:00",
     "start_time": "2021-09-06T16:06:47.199Z"
    }
   },
   "outputs": [],
   "source": [
    "fn compute_cn(n: usize, primality: &Vec<bool>) -> Result<usize, String> {\n",
    "    if n - 1 > primality.len() {\n",
    "        return Err(String::from(format!(\"Primes found up to {} but {} is required\", n-2, n-1)));\n",
    "    }\n",
    "    Ok((2..=n).filter(|d| n % d == 0 && primality[d-2]).sum())\n",
    "}"
   ]
  },
  {
   "cell_type": "code",
   "execution_count": 31,
   "metadata": {
    "ExecuteTime": {
     "end_time": "2021-09-06T16:08:06.914705144+00:00",
     "start_time": "2021-09-06T16:08:06.245Z"
    }
   },
   "outputs": [
    {
     "name": "stdout",
     "output_type": "stream",
     "text": [
      "c_1 = 0\n",
      "c_2 = 2\n",
      "c_3 = 3\n",
      "c_4 = 2\n",
      "c_5 = 5\n",
      "c_6 = 5\n",
      "c_7 = 7\n",
      "c_8 = 2\n",
      "c_9 = 3\n",
      "c_10 = 7\n",
      "c_11 = 11\n",
      "c_12 = 5\n",
      "c_13 = 13\n",
      "c_14 = 9\n"
     ]
    }
   ],
   "source": [
    "let max_val = 15;\n",
    "let primes = seive(max_val);\n",
    "(1..max_val).for_each(|x| println!(\"c_{} = {}\", x, compute_cn(x, &primes).unwrap()) );\n",
    "// \t0, 2, 3, 2, 5, 5, 7, 2, 3, 7, 11, 5, 13, 9, 8, 2, 17, 5, 19, 7, 10, 13, 23, 5, 5, 15, 3, 9, 29,"
   ]
  },
  {
   "cell_type": "code",
   "execution_count": 63,
   "metadata": {
    "ExecuteTime": {
     "end_time": "2021-09-06T16:18:00.263481242+00:00",
     "start_time": "2021-09-06T16:17:59.996Z"
    }
   },
   "outputs": [],
   "source": [
    "use std::convert::TryInto;\n",
    "fn value_prime_partition_exceeds(pp_val_exceed: u16, primes_up_to: usize, min_capacity: usize) -> Result<usize, String> {\n",
    "    \n",
    "    let primality = seive(primes_up_to);\n",
    "    \n",
    "    let mut c_vals: Vec<u16> = Vec::with_capacity(min_capacity);\n",
    "    c_vals.push(0);\n",
    "    \n",
    "    let mut b_vals: Vec<u16> = Vec::with_capacity(min_capacity);\n",
    "    b_vals.push(0);\n",
    "    \n",
    "    let mut counter = 1;\n",
    "    \n",
    "    loop {\n",
    "        let cn: u16 = compute_cn(counter + 1, &primality)? as u16;\n",
    "        let bn: u16 = ((cn as u32 + c_vals[0..counter].iter()\n",
    "                                                .zip(b_vals[0..counter].iter().rev())\n",
    "                                                .fold(0_u32, |sum, (c,b)| sum + *c as u32 * *b as u32)\n",
    "                        )/(counter as u32 +1)).try_into().unwrap() ;\n",
    "//         println!(\"n = {}, cn = {}, bn = {}\", counter+1, cn, bn);\n",
    "        \n",
    "        if bn > pp_val_exceed {\n",
    "            return Ok(counter + 1);\n",
    "        }\n",
    "        else {\n",
    "            c_vals.push(cn);\n",
    "            b_vals.push(bn);\n",
    "        }\n",
    "        counter += 1;\n",
    "    }\n",
    "}"
   ]
  },
  {
   "cell_type": "markdown",
   "metadata": {},
   "source": [
    "(OEIS A000607)\n",
    "$$\n",
    "1, 1, 1, 2, 2, 3, 3, 4, 5, 6, 7, 9, 10, 12, 14, 17, 19, 23, 26 \n",
    "$$"
   ]
  },
  {
   "cell_type": "code",
   "execution_count": 62,
   "metadata": {
    "ExecuteTime": {
     "end_time": "2021-09-06T16:17:35.617763024+00:00",
     "start_time": "2021-09-06T16:17:35.034Z"
    }
   },
   "outputs": [
    {
     "name": "stdout",
     "output_type": "stream",
     "text": [
      "n = 2, cn = 2, bn = 1\n",
      "n = 3, cn = 3, bn = 1\n",
      "n = 4, cn = 2, bn = 1\n",
      "n = 5, cn = 5, bn = 2\n",
      "n = 6, cn = 5, bn = 2\n",
      "n = 7, cn = 7, bn = 3\n",
      "n = 8, cn = 2, bn = 3\n",
      "n = 9, cn = 3, bn = 4\n",
      "n = 10, cn = 7, bn = 5\n",
      "n = 11, cn = 11, bn = 6\n",
      "n = 12, cn = 5, bn = 7\n",
      "n = 13, cn = 13, bn = 9\n",
      "n = 14, cn = 9, bn = 10\n",
      "n = 15, cn = 8, bn = 12\n",
      "n = 16, cn = 2, bn = 14\n",
      "n = 17, cn = 17, bn = 17\n",
      "n = 18, cn = 5, bn = 19\n",
      "n = 19, cn = 19, bn = 23\n",
      "n = 20, cn = 7, bn = 26\n",
      "n = 21, cn = 10, bn = 30\n",
      "n = 22, cn = 13, bn = 35\n",
      "n = 23, cn = 23, bn = 40\n",
      "n = 24, cn = 5, bn = 46\n",
      "n = 25, cn = 5, bn = 52\n",
      "n = 26, cn = 15, bn = 60\n",
      "n = 27, cn = 3, bn = 67\n",
      "n = 28, cn = 9, bn = 77\n",
      "n = 29, cn = 29, bn = 87\n",
      "n = 30, cn = 10, bn = 98\n",
      "n = 31, cn = 31, bn = 111\n",
      "n = 32, cn = 2, bn = 124\n",
      "n = 33, cn = 14, bn = 140\n",
      "n = 34, cn = 19, bn = 157\n",
      "n = 35, cn = 12, bn = 175\n",
      "n = 36, cn = 5, bn = 197\n",
      "n = 37, cn = 37, bn = 219\n",
      "n = 38, cn = 21, bn = 244\n",
      "n = 39, cn = 16, bn = 272\n",
      "n = 40, cn = 7, bn = 302\n",
      "n = 41, cn = 41, bn = 336\n",
      "n = 42, cn = 12, bn = 372\n",
      "n = 43, cn = 43, bn = 413\n",
      "n = 44, cn = 13, bn = 456\n",
      "n = 45, cn = 8, bn = 504\n",
      "n = 46, cn = 25, bn = 557\n",
      "n = 47, cn = 47, bn = 614\n",
      "n = 48, cn = 5, bn = 677\n",
      "n = 49, cn = 7, bn = 744\n",
      "n = 50, cn = 7, bn = 819\n",
      "n = 51, cn = 20, bn = 899\n",
      "n = 52, cn = 15, bn = 987\n",
      "n = 53, cn = 53, bn = 1083\n",
      "n = 54, cn = 5, bn = 1186\n",
      "n = 55, cn = 16, bn = 1298\n",
      "n = 56, cn = 9, bn = 1420\n",
      "n = 57, cn = 22, bn = 1552\n",
      "n = 58, cn = 31, bn = 1695\n",
      "n = 59, cn = 59, bn = 1850\n",
      "n = 60, cn = 10, bn = 2018\n",
      "n = 61, cn = 61, bn = 2198\n",
      "n = 62, cn = 33, bn = 2394\n",
      "n = 63, cn = 10, bn = 2605\n",
      "n = 64, cn = 2, bn = 2833\n",
      "n = 65, cn = 18, bn = 3079\n",
      "n = 66, cn = 16, bn = 3344\n",
      "n = 67, cn = 67, bn = 3630\n",
      "n = 68, cn = 19, bn = 3936\n",
      "n = 69, cn = 26, bn = 4268\n",
      "n = 70, cn = 14, bn = 4624\n",
      "n = 71, cn = 71, bn = 5007\n",
      "71\n"
     ]
    }
   ],
   "source": [
    "let val_to_exceed = 5000;\n",
    "let primes_up_to = 5000;\n",
    "let capacity = 500;\n",
    "let soln = value_prime_partition_exceeds(val_to_exceed, primes_up_to, capacity)?;\n",
    "println!(\"{}\", soln);"
   ]
  }
 ],
 "metadata": {
  "kernelspec": {
   "display_name": "Rust",
   "language": "rust",
   "name": "rust"
  },
  "language_info": {
   "codemirror_mode": "rust",
   "file_extension": ".rs",
   "mimetype": "text/rust",
   "name": "Rust",
   "pygment_lexer": "rust",
   "version": ""
  }
 },
 "nbformat": 4,
 "nbformat_minor": 4
}
