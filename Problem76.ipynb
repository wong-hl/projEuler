{
 "cells": [
  {
   "cell_type": "markdown",
   "metadata": {},
   "source": [
    "<h1> Counting Summations </h1>\n",
    "\n",
    "It is possible to write $5$ as a sum in exactly $6$ different ways:\n",
    "\\begin{align*}\n",
    "    &4 + 1 \\\\\n",
    "    &3 + 2 \\\\\n",
    "    &3 + 1 + 1 \\\\\n",
    "    &2 + 2 + 1 \\\\\n",
    "    &2 + 1 + 1 + 1 \\\\\n",
    "    &1 + 1 + 1 + 1 + 1 \n",
    "\\end{align*}\n",
    "\n",
    "How many different ways can $100$ be written as a sum of at least $2$ positive integers?\n",
    "\n",
    "---\n"
   ]
  },
  {
   "cell_type": "markdown",
   "metadata": {},
   "source": [
    "<h3> There are two ways to see the trick behind this </h3>\n",
    "\n"
   ]
  },
  {
   "cell_type": "code",
   "execution_count": 2,
   "metadata": {},
   "outputs": [],
   "source": [
    "use std::ops::{Add, Mul, Div};\n",
    "\n",
    "extern crate num;\n",
    "use num::PrimInt;\n",
    "\n",
    "fn sum_first_n_natural_numbers<T> (n:T) -> T \n",
    "    where T: Add<Output = T> + Mul<Output = T> + Div<Output = T> + PrimInt\n",
    "{\n",
    "    let two = num::cast(2).unwrap();\n",
    "    n*(n + T::one())/two\n",
    "}"
   ]
  },
  {
   "cell_type": "code",
   "execution_count": 3,
   "metadata": {},
   "outputs": [],
   "source": [
    "fn number_of_summations<T>(n: T) -> T \n",
    "    where T: Mul<Output = T> + Div<Output = T> + PrimInt + std::fmt::Debug\n",
    "{\n",
    "    if n == num::cast(2).unwrap() {\n",
    "        return T::one()\n",
    "    }\n",
    "    \n",
    "    let is_even : bool = n & num::one() == num::zero();\n",
    "    let two: T = num::cast(2).unwrap();\n",
    "    let half_n = n/two;\n",
    "    \n",
    "//     println!(\"{} {:?}\", is_even, half_n);\n",
    "    \n",
    "    if is_even {\n",
    "        two*sum_first_n_natural_numbers(half_n) - half_n\n",
    "    } else { \n",
    "        two*sum_first_n_natural_numbers(half_n)  \n",
    "    }\n",
    "    \n",
    "}"
   ]
  },
  {
   "cell_type": "code",
   "execution_count": 4,
   "metadata": {},
   "outputs": [
    {
     "name": "stdout",
     "output_type": "stream",
     "text": [
      "Number of ways to sum 100 = 2500\n"
     ]
    }
   ],
   "source": [
    "let number = 100;\n",
    "let sol = number_of_summations(number);\n",
    "println!(\"Number of ways to sum {} = {}\", number, sol);"
   ]
  }
 ],
 "metadata": {
  "kernelspec": {
   "display_name": "Rust",
   "language": "rust",
   "name": "rust"
  },
  "language_info": {
   "codemirror_mode": "rust",
   "file_extension": ".rs",
   "mimetype": "text/rust",
   "name": "Rust",
   "pygment_lexer": "rust",
   "version": ""
  }
 },
 "nbformat": 4,
 "nbformat_minor": 4
}
