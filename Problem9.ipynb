{
 "cells": [
  {
   "cell_type": "markdown",
   "metadata": {},
   "source": [
    "<h1> Problem 9 - Special Pythagorean Triplet </h1>\n",
    "\n",
    "A Pythagorean triplet is a set of three natural numbers, $a < b < c$, for which, \n",
    "\\begin{equation}\n",
    "a^2 + b^2 = c^2\n",
    "\\end{equation}\n",
    "For example, $3^2 + 4^2 = 9 + 16 = 25 = 5^2$.\n",
    "\n",
    "There exists exactly one Pythagorean triplet for which $a + b + c = 1000$. Find the product $abc$."
   ]
  },
  {
   "cell_type": "code",
   "execution_count": 2,
   "metadata": {},
   "outputs": [],
   "source": [
    "const EPS: f64 = 0.0000001;\n",
    "fn is_square(num: u32) -> (bool, Option<u32>) {\n",
    "    let sqrt_f: f64 = (num as f64).sqrt();\n",
    "    let sqrt_i: u32 = sqrt_f as u32;\n",
    "    if ((sqrt_i as f64) > sqrt_f - EPS) && ((sqrt_i as f64) < sqrt_f + EPS) {\n",
    "        return (true, Some(sqrt_i))\n",
    "    }  \n",
    "    return (false, None)\n",
    "}"
   ]
  },
  {
   "cell_type": "code",
   "execution_count": 3,
   "metadata": {},
   "outputs": [],
   "source": [
    "fn find_triplet(sum: u32) -> Option<u32> {\n",
    "    let mut i: u32 = 4;\n",
    "    loop {\n",
    "        let c2: u32 = (i-1)*(i-1) + i*i;\n",
    "        let (x,y) = is_square(c2);\n",
    "        if x {\n",
    "            let c = y.unwrap();\n",
    "//             println!(\"{}\", c);\n",
    "            if (i-1) + i + c == sum {\n",
    "                return Some((i-1) * i * c)\n",
    "            }\n",
    "        }\n",
    "        i += 1;\n",
    "        if i > 333 {return None}\n",
    "    }\n",
    "}"
   ]
  },
  {
   "cell_type": "code",
   "execution_count": 4,
   "metadata": {},
   "outputs": [],
   "source": [
    "if let Some(sol) = find_triplet(1000) {\n",
    "    println!(\"The solution is {}\", sol);\n",
    "};"
   ]
  },
  {
   "cell_type": "markdown",
   "metadata": {},
   "source": [
    "AHHHH!! I see the mistake I've made, I'm just looking at consective numbers and _NOT_ all possible combinations that fulfil $a < b < c$ "
   ]
  },
  {
   "cell_type": "markdown",
   "metadata": {},
   "source": [
    "<h3> Smarter Method </h3>\n",
    "\n",
    "I have two conditions, \n",
    "\\begin{align}\n",
    "    a^2 + b^2 &= c^2 \\label{eq: 1}\\\\\n",
    "    a + b + c &= 1000\n",
    "\\end{align}\n",
    "therefore, $c = 1000 - (a + b)$. By substituiting this into Equation \\ref{eq: 1}, I get, \n",
    "\\begin{gather*}\n",
    "    a^2 + b^2 = (1000 - (a+b))^2 = 1000^2 + (a+b)^2 - 2000(a+b) \\\\\n",
    "    1000(a+b) - ab = 0.5\\times 10^6 \\\\\n",
    "    a(1000 - b) = 500 \\times 10^3 - 10^3b \\\\\n",
    "    a = \\frac{(500-b)10^3}{1000-b}\n",
    "\\end{gather*}\n",
    "\n",
    "Therefore, I just need to try the integers from $[3,998]$ to find the first $a$ that results in a whole number.\n",
    "This range would in reality be smaller but this ensures all are found. \n",
    "\n",
    "Similarly, $b$ can be found by rearranging the equation to yield, \n",
    "\\begin{equation}\n",
    "    b = \\frac{(500-a)10^3 }{1000-a}\n",
    "\\end{equation}"
   ]
  },
  {
   "cell_type": "code",
   "execution_count": 5,
   "metadata": {},
   "outputs": [],
   "source": [
    "/// Function tests if a number is whole number \n",
    "fn is_whole(num: f64) -> bool {\n",
    "    let num_i = num as u32;\n",
    "    if (num > num_i as f64 - EPS) && (num < num_i as f64 + EPS) {\n",
    "        return true\n",
    "    }\n",
    "    false\n",
    "}"
   ]
  },
  {
   "cell_type": "code",
   "execution_count": 6,
   "metadata": {},
   "outputs": [],
   "source": [
    "/// Function computes the number in accordance to Equation 3 which is the same for a and b \n",
    "fn compute_num(a: f64) -> f64{\n",
    "    let out: f64 = ((500.0 - a)*1000.0)/(1000.0 - a);\n",
    "    out\n",
    "}\n",
    "\n",
    "/// Iterates over the possible range to find the first number that fulfills the condition that a is a whole number from Equation 3\n",
    "fn find_a() -> Option<u32>{\n",
    "    for i in 3..999 {\n",
    "        // Find a using equation 3\n",
    "        let a: f64 = compute_num(i as f64);\n",
    "        // Test if the number is whole\n",
    "        if is_whole(a){\n",
    "            // If it is whole, that is the solution\n",
    "            return Some(a as u32)\n",
    "        }\n",
    "    }\n",
    "    None\n",
    "}"
   ]
  },
  {
   "cell_type": "code",
   "execution_count": 7,
   "metadata": {},
   "outputs": [
    {
     "name": "stdout",
     "output_type": "stream",
     "text": [
      "a = 375, b = 200, c = 425 and abc = 31875000\n"
     ]
    }
   ],
   "source": [
    "let a = find_a().unwrap();\n",
    "let b : u32 = compute_num(a as f64) as u32;\n",
    "let c : u32 = 1000 - a - b; \n",
    "\n",
    "let product = a*b*c;\n",
    "\n",
    "println!(\"a = {}, b = {}, c = {} and abc = {}\", a,b,c, product);"
   ]
  }
 ],
 "metadata": {
  "kernelspec": {
   "display_name": "Rust",
   "language": "rust",
   "name": "rust"
  },
  "language_info": {
   "codemirror_mode": "rust",
   "file_extension": ".rs",
   "mimetype": "text/rust",
   "name": "Rust",
   "pygment_lexer": "rust",
   "version": ""
  }
 },
 "nbformat": 4,
 "nbformat_minor": 4
}
