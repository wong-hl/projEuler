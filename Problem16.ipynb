{
 "cells": [
  {
   "cell_type": "markdown",
   "metadata": {},
   "source": [
    "<h1> Power Digit Sum </h1> \n",
    "\n",
    "$2^{15} = 32768$ and the sum of the digits is $3+2+7+6+8 = 26$.\n",
    "\n",
    "What is the sum of the digits of the number $2^{1000}$?\n",
    "\n",
    "---\n"
   ]
  },
  {
   "cell_type": "code",
   "execution_count": 2,
   "metadata": {},
   "outputs": [],
   "source": [
    "/// This is nCk assuming nC(k-1) is known\n",
    "/// Since nC0 and nCn is always 1, this can always be used\n",
    "fn binomial_coeffs(n: f64, k:f64, previous: f64) -> usize {\n",
    "//     ((((n+1-k) as f64)/(k as f64))*(previous as f64)) as usize\n",
    "//     let frac = ((n as f64) + 1.0 - (k as f64))/(k as f64);\n",
    "//     println!(\"{}\", frac);\n",
    "//     (frac * previous as f64) as usize\n",
    "    let frac = (n+1.0 -k)/k;\n",
    "    (frac * previous).round() as usize\n",
    "}"
   ]
  },
  {
   "cell_type": "markdown",
   "metadata": {},
   "source": [
    "<h3> Attempt 1 </h3>\n",
    "\n",
    "From Binomial theorem, I can express, \n",
    "\\begin{equation}\n",
    "    (x + y)^n = \\sum_{k=0}^n {n \\choose k} x^{n-k} y^k = \\sum_{k=0}^n {n \\choose k} x^{k} y^{n-k}\n",
    "    \\label{eq:1}\n",
    "\\end{equation}\n",
    "What I want is the sum of digits, therefore, it would be desireable if I express a number in terms of \n",
    "\\begin{equation*}\n",
    "    \\sum_{i=0}^n a_i x^i\n",
    "\\end{equation*}\n",
    "where $a_i$ are coefficients and $x=10$.\n",
    "\n",
    "From Equation (\\ref{eq:1}), I can express it as, \n",
    "\\begin{align*}\n",
    "    (x - 8)^n =& \\sum_{k=0}^n {n \\choose k} x^{k} (-8)^{n-k} \\\\\n",
    "    (10-8)^n = 2^n =& \\sum_{k=0}^n {n \\choose k}  (-8)^{n-k} 10^{k} \\\\\n",
    "    =& \\sum_{k=0}^n {n \\choose k}  (-1)^{n-k} 2^{3(n-k)} 10^{k}\n",
    "\\end{align*}\n",
    "\n",
    "If I had done this expansion and thought a little harder, I should've realised that this will result in numbers growing faster than if I calculated $2^n$ directly. "
   ]
  },
  {
   "cell_type": "code",
   "execution_count": 3,
   "metadata": {},
   "outputs": [],
   "source": [
    ":dep num = \"*\"\n",
    "extern crate num;\n",
    "// use num;\n",
    "\n",
    "fn poly_coeffs(power:u32) -> Vec<i32> {\n",
    "    let powusize: usize = power as usize;\n",
    "    let maxlen: usize = powusize + 1;\n",
    "    let mut out: Vec<i32> = vec![0 as i32; maxlen];\n",
    "    let mut prev_binom_coeff: usize = 1;\n",
    "    \n",
    "    for i in 0..maxlen {\n",
    "        out[i] = num::pow(-8i32, powusize-i)*(prev_binom_coeff as i32);\n",
    "//         println!(\"{}, {}, {}\", prev_binom_coeff, out[i], i);\n",
    "        prev_binom_coeff = binomial_coeffs(powusize as f64, (i+1) as f64, prev_binom_coeff as f64); \n",
    "//         println!(\"{}, {}\", prev_binom_coeff, i+1);\n",
    "    }\n",
    "    \n",
    "    out\n",
    "}"
   ]
  },
  {
   "cell_type": "code",
   "execution_count": 4,
   "metadata": {},
   "outputs": [
    {
     "name": "stdout",
     "output_type": "stream",
     "text": [
      "[262144, -196608, 61440, -10240, 960, -48, 1]\n"
     ]
    }
   ],
   "source": [
    "let sol = poly_coeffs(6);\n",
    "println!(\"{:?}\", sol);"
   ]
  },
  {
   "cell_type": "markdown",
   "metadata": {},
   "source": [
    "<h3> Attempt 2 </h3>\n",
    "\n",
    "Find \n",
    "\\begin{equation}\n",
    "    \\label{eq:2}\n",
    "    2^n = \\sum_{k=0}^n {n \\choose k}\n",
    "\\end{equation}\n",
    "directly. \n",
    "\n",
    "This doesn't work as ${n \\choose k}$ gets very large"
   ]
  },
  {
   "cell_type": "code",
   "execution_count": 5,
   "metadata": {},
   "outputs": [],
   "source": [
    "fn binom_coeffs_half(power: u32) -> Vec<usize> {\n",
    "    \n",
    "    let mut midpoint: usize = (power/2 + (power)% 2) as usize;\n",
    "    let mut is_symmetric: bool = true;\n",
    "    \n",
    "    if power%2 == 0 {\n",
    "        midpoint += 1;\n",
    "        is_symmetric = false;\n",
    "    }\n",
    "    \n",
    "    println!(\"{} {} {}\", power/2, (power)% 2, midpoint);\n",
    "    \n",
    "    let mut out: Vec<usize> = vec![0 as usize; midpoint]; \n",
    "    let mut prev_binom_coeff: usize = 1;\n",
    "    out[0] = 2;\n",
    "    \n",
    "    for i in 1..midpoint {\n",
    "        if is_symmetric || (!is_symmetric && i != midpoint -1) {\n",
    "            out[i] = binomial_coeffs(power as f64, i as f64, prev_binom_coeff as f64); \n",
    "            prev_binom_coeff = out[i];\n",
    "            out[i] = 2*out[i];\n",
    "        } else {\n",
    "            out[i] = binomial_coeffs(power as f64, i as f64, prev_binom_coeff as f64); \n",
    "            prev_binom_coeff = out[i];\n",
    "        }\n",
    "    }\n",
    "    \n",
    "    out\n",
    "}"
   ]
  },
  {
   "cell_type": "code",
   "execution_count": 6,
   "metadata": {},
   "outputs": [
    {
     "name": "stdout",
     "output_type": "stream",
     "text": [
      "7 1 8\n",
      "[2, 30, 210, 910, 2730, 6006, 10010, 12870]\n",
      "32768\n"
     ]
    }
   ],
   "source": [
    "let sol = binom_coeffs_half(15);\n",
    "println!(\"{:?}\", sol);\n",
    "let temp: usize = sol.iter().sum();\n",
    "println!(\"{}\", temp);"
   ]
  },
  {
   "cell_type": "code",
   "execution_count": 7,
   "metadata": {},
   "outputs": [
    {
     "name": "stdout",
     "output_type": "stream",
     "text": [
      "8\n",
      "6\n",
      "7\n"
     ]
    }
   ],
   "source": [
    "let k = (15.0*2.0_f64.log(10.0)) as usize +2;\n",
    "\n",
    "// This is dumb and inefficient\n",
    "for i in 1..k {\n",
    "    let digit: f64 = sol.iter().map(|x| ((*x as f64)%10.0_f64.powi(i as i32))/10.0_f64.powi(i as i32)).sum();\n",
    "    println!(\"{}\", ((digit - digit.floor())*10.0) as usize );\n",
    "};"
   ]
  },
  {
   "cell_type": "markdown",
   "metadata": {},
   "source": [
    "<h3> Attempt 3 </h3>\n",
    "\n",
    "The Vandermonde identity is \n",
    "\\begin{equation}\n",
    "    {n+m \\choose r} = \\sum_{k=0}^r {m \\choose k} {n \\choose r-k}\n",
    "\\end{equation}\n",
    "To make it in the same form as Equation (2),\n",
    "\\begin{equation}\n",
    "    \\sum_{r=0}^{n+m} {n+m \\choose r} = \\sum_{r=0}^{n+m} \\sum_{k=0}^r {m \\choose k} {n \\choose r-k} = 2^{n+m}\n",
    "\\end{equation}\n",
    "A generalisation of the Vandermonde identity is, \n",
    "\\begin{equation}\n",
    "    \\sum_{r=0}^{n_1 + n_2 + \\ldots + n_p} {n_1 + n_2 + \\ldots + n_p \\choose r} = \\sum_{r=0}^{n_1 + n_2 + \\ldots + n_p} \\sum_{k_1 + k_2 + \\ldots + k_p = r} {n_1 \\choose k_1} {n_2 \\choose k_2} \\ldots {n_p \\choose k_p} = 2^{n_1 + n_2 + \\ldots + n_p}\n",
    "\\end{equation}\n",
    "Therefore, by storing the inner summation in a single entry of a vector, the individual terms to make up the final summation are known. \n",
    "\n",
    "Since $2^n$ can now be expressed as a summation that doesn't result in overflow, the property of sum of digits ($sd$) can be used. This property is given by, \n",
    "\\begin{equation}\n",
    "    sd(N + M) = sd(N) + sd(M) - 9\\times q\n",
    "\\end{equation}\n",
    "where $q$ is the carry over from the addition of $N + M$. This can be applied recursively to find the overall sum of digits.\n"
   ]
  },
  {
   "cell_type": "code",
   "execution_count": 23,
   "metadata": {},
   "outputs": [],
   "source": [
    "fn multiplicative_binom_coefficient(n: u32, k: u32) -> u32 {\n",
    "    let mut out: f64 = 1.0;\n",
    "    let nfloat = n as f64;\n",
    "    \n",
    "    if (k == n) || (k == 0) {return out as u32}\n",
    "    \n",
    "    for i in 1..k+1 { \n",
    "        let ifloat = i as f64;\n",
    "        out *= (nfloat + 1.0 - ifloat )/ (ifloat);\n",
    "    }\n",
    "//     println!(\"{}\", out);\n",
    "    out.round() as u32\n",
    "}"
   ]
  },
  {
   "cell_type": "code",
   "execution_count": 31,
   "metadata": {},
   "outputs": [],
   "source": [
    "extern crate itertools;\n",
    "use itertools::Itertools;\n",
    "\n",
    "fn get_unique_combinations(sum: u32, max_n_value: u32, p: u32) -> Vec<Vec<u32>> {\n",
    "    \n",
    "    let mut out: Vec<Vec<u32>> = Vec::new();\n",
    "    let it = (0..max_n_value+1).combinations_with_replacement(p as usize); \n",
    "    \n",
    "    for item in it {\n",
    "        let combination_sum: u32 = item.iter().sum();\n",
    "//         println!(\"{:?}\", item);\n",
    "//         println!(\"{}\", combination_sum);\n",
    "        \n",
    "        if combination_sum == sum {\n",
    "            out.push(item.clone());\n",
    "            for perm in item.clone().into_iter().permutations(p as usize).unique() {\n",
    "                if &perm != &item {out.push(perm.clone())}\n",
    "            }\n",
    "            \n",
    "        }\n",
    "    }\n",
    "//     if i > sum {return out}\n",
    "    out\n",
    "}"
   ]
  },
  {
   "cell_type": "code",
   "execution_count": 11,
   "metadata": {},
   "outputs": [],
   "source": [
    "fn set_k_value(r_val: u32, curr_k_sum: u32, curr_n: u32) -> u32 {\n",
    "    if r_val > curr_k_sum + curr_n {\n",
    "        return curr_n\n",
    "    } else {\n",
    "        return r_val - curr_k_sum\n",
    "    }\n",
    "}"
   ]
  },
  {
   "cell_type": "code",
   "execution_count": 59,
   "metadata": {},
   "outputs": [],
   "source": [
    "\n",
    "fn inner_summation(n_val: u32, p: u32, r: u32) -> u32 {\n",
    "    let mut sum_out = 0;\n",
    "    let mut digit_sum = 0;\n",
    "    \n",
    "    let k_values = get_unique_combinations(r, n_val, p);\n",
    "    \n",
    "    for k_set in k_values.iter() {\n",
    "//         println!(\"{:?}\", k_set);\n",
    "        let mut product = 1;\n",
    "        for i in 0..p {\n",
    "            let this_k: u32 = k_set[i as usize];\n",
    "            if this_k != 0 || this_k != n_val {\n",
    "                product *= multiplicative_binom_coefficient(n_val, this_k);\n",
    "            }\n",
    "//             println!(\"{} {} {} {}\", r, n_val,  this_k, product);\n",
    "        }\n",
    "//         println!(\"{} {} {}\", sum_of_digits(sum_out, 0), sum_of_digits(product, 0), 9*addition_carry_over(sum_out, product));\n",
    "//         println!(\"{:?} {}\", digit_sum, product);\n",
    "        digit_sum += sum_of_digits(sum_out, 0) + sum_of_digits(product, 0) - 9*addition_carry_over(sum_out, product);\n",
    "        sum_out += product;\n",
    "    }\n",
    "//     sum_out\n",
    "//     println!(\"{:?}\", sum_out);\n",
    "    digit_sum\n",
    "}"
   ]
  },
  {
   "cell_type": "code",
   "execution_count": 13,
   "metadata": {},
   "outputs": [],
   "source": [
    "fn outer_summation(exponent: u32, max_n: u32) -> Vec<u32> {\n",
    "    let quotient = exponent/max_n;\n",
    "    if exponent % max_n != 0 {panic!(\"Exponent must be a multiple of n\")}\n",
    "    \n",
    "    let mut inner_values: Vec<u32> = vec![0 as u32; (exponent+1) as usize];\n",
    "    inner_values[0] = 1;\n",
    "    inner_values[(exponent+1) as usize] = 1;\n",
    "    \n",
    "    for i in 1..exponent {\n",
    "        inner_values[i as usize] = inner_summation(max_n, quotient, i);\n",
    "    }\n",
    "    \n",
    "    inner_values\n",
    "}"
   ]
  },
  {
   "cell_type": "code",
   "execution_count": 14,
   "metadata": {},
   "outputs": [],
   "source": [
    "fn addition_carry_over(mut x: u32, mut y: u32) -> u32{\n",
    "    let mut carry: u32 = 0; \n",
    "    while x != 0 || y != 0 {\n",
    "        let digit_x = x % 10;\n",
    "        let digit_y = y % 10;\n",
    "        if digit_x + digit_y > 9 {carry += 1};\n",
    "        x /= 10;\n",
    "        y /= 10;\n",
    "    }\n",
    "    \n",
    "    return carry \n",
    "}"
   ]
  },
  {
   "cell_type": "code",
   "execution_count": 15,
   "metadata": {},
   "outputs": [],
   "source": [
    "fn sum_of_digits(mut input_num: u32, mut prev_sum: u32) -> u32 {\n",
    "    if input_num/10 == 0{\n",
    "        prev_sum += input_num % 10;\n",
    "        return prev_sum\n",
    "    } else {\n",
    "        prev_sum += input_num % 10;\n",
    "        return sum_of_digits(input_num/10, prev_sum)\n",
    "    }\n",
    "}"
   ]
  },
  {
   "cell_type": "code",
   "execution_count": 60,
   "metadata": {},
   "outputs": [
    {
     "name": "stdout",
     "output_type": "stream",
     "text": [
      "[1, 12, 30, 62, 147, 201, 208, 288, 324, 208, 201, 147, 62, 30, 12, 1], 1934\n"
     ]
    }
   ],
   "source": [
    "// let sol = sum_of_digits(1024, 0);\n",
    "let sol = outer_summation(15, 5);\n",
    "let solsum: u32= sol.iter().sum();\n",
    "println!(\"{:?}, {}\", sol, solsum);"
   ]
  },
  {
   "cell_type": "code",
   "execution_count": 17,
   "metadata": {},
   "outputs": [
    {
     "name": "stdout",
     "output_type": "stream",
     "text": [
      "2\n"
     ]
    }
   ],
   "source": [
    "println!(\"{}\", addition_carry_over(256,69));"
   ]
  }
 ],
 "metadata": {
  "kernelspec": {
   "display_name": "Rust",
   "language": "rust",
   "name": "rust"
  },
  "language_info": {
   "codemirror_mode": "rust",
   "file_extension": ".rs",
   "mimetype": "text/rust",
   "name": "Rust",
   "pygment_lexer": "rust",
   "version": ""
  }
 },
 "nbformat": 4,
 "nbformat_minor": 4
}
