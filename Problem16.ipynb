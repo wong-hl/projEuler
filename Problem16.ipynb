{
 "cells": [
  {
   "cell_type": "markdown",
   "metadata": {},
   "source": [
    "<h1> Power Digit Sum </h1> \n",
    "\n",
    "$2^{15} = 32768$ and the sum of the digits is $3+2+7+6+8 = 26$.\n",
    "\n",
    "What is the sum of the digits of the number $2^{1000}$?\n",
    "\n",
    "---\n"
   ]
  },
  {
   "cell_type": "code",
   "execution_count": 2,
   "metadata": {},
   "outputs": [],
   "source": [
    "/// This is nCk assuming nC(k-1) is known\n",
    "/// Since nC0 and nCn is always 1, this can always be used\n",
    "fn binomial_coeffs(n: f64, k:f64, previous: f64) -> usize {\n",
    "//     ((((n+1-k) as f64)/(k as f64))*(previous as f64)) as usize\n",
    "//     let frac = ((n as f64) + 1.0 - (k as f64))/(k as f64);\n",
    "//     println!(\"{}\", frac);\n",
    "//     (frac * previous as f64) as usize\n",
    "    let frac = (n+1.0 -k)/k;\n",
    "    (frac * previous).round() as usize\n",
    "}"
   ]
  },
  {
   "cell_type": "markdown",
   "metadata": {},
   "source": [
    "<h3> Attempt 1 </h3>\n",
    "\n",
    "From Binomial theorem, I can express, \n",
    "\\begin{equation}\n",
    "    (x + y)^n = \\sum_{k=0}^n {n \\choose k} x^{n-k} y^k = \\sum_{k=0}^n {n \\choose k} x^{k} y^{n-k}\n",
    "    \\label{eq:1}\n",
    "\\end{equation}\n",
    "What I want is the sum of digits, therefore, it would be desireable if I express a number in terms of \n",
    "\\begin{equation*}\n",
    "    \\sum_{i=0}^n a_i x^i\n",
    "\\end{equation*}\n",
    "where $a_i$ are coefficients and $x=10$.\n",
    "\n",
    "From Equation (\\ref{eq:1}), I can express it as, \n",
    "\\begin{align*}\n",
    "    (x - 8)^n =& \\sum_{k=0}^n {n \\choose k} x^{k} (-8)^{n-k} \\\\\n",
    "    (10-8)^n = 2^n =& \\sum_{k=0}^n {n \\choose k}  (-8)^{n-k} 10^{k} \\\\\n",
    "    =& \\sum_{k=0}^n {n \\choose k}  (-1)^{n-k} 2^{3(n-k)} 10^{k}\n",
    "\\end{align*}\n",
    "\n",
    "If I had done this expansion and thought a little harder, I should've realised that this will result in numbers growing faster than if I calculated $2^n$ directly. "
   ]
  },
  {
   "cell_type": "code",
   "execution_count": 3,
   "metadata": {},
   "outputs": [],
   "source": [
    ":dep num = \"*\"\n",
    "extern crate num;\n",
    "// use num;\n",
    "\n",
    "fn poly_coeffs(power:u32) -> Vec<i32> {\n",
    "    let powusize: usize = power as usize;\n",
    "    let maxlen: usize = powusize + 1;\n",
    "    let mut out: Vec<i32> = vec![0 as i32; maxlen];\n",
    "    let mut prev_binom_coeff: usize = 1;\n",
    "    \n",
    "    for i in 0..maxlen {\n",
    "        out[i] = num::pow(-8i32, powusize-i)*(prev_binom_coeff as i32);\n",
    "//         println!(\"{}, {}, {}\", prev_binom_coeff, out[i], i);\n",
    "        prev_binom_coeff = binomial_coeffs(powusize as f64, (i+1) as f64, prev_binom_coeff as f64); \n",
    "//         println!(\"{}, {}\", prev_binom_coeff, i+1);\n",
    "    }\n",
    "    \n",
    "    out\n",
    "}"
   ]
  },
  {
   "cell_type": "code",
   "execution_count": 4,
   "metadata": {},
   "outputs": [
    {
     "name": "stdout",
     "output_type": "stream",
     "text": [
      "[262144, -196608, 61440, -10240, 960, -48, 1]\n"
     ]
    }
   ],
   "source": [
    "let sol = poly_coeffs(6);\n",
    "println!(\"{:?}\", sol);"
   ]
  },
  {
   "cell_type": "markdown",
   "metadata": {},
   "source": [
    "<h3> Attempt 2 </h3>\n",
    "\n",
    "Find \n",
    "\\begin{equation}\n",
    "    \\label{eq:2}\n",
    "    2^n = \\sum_{k=0}^n {n \\choose k}\n",
    "\\end{equation}\n",
    "directly. \n",
    "\n",
    "This doesn't work as ${n \\choose k}$ gets very large"
   ]
  },
  {
   "cell_type": "code",
   "execution_count": 5,
   "metadata": {},
   "outputs": [],
   "source": [
    "fn binom_coeffs_half(power: u32) -> Vec<usize> {\n",
    "    \n",
    "    let mut midpoint: usize = (power/2 + (power)% 2) as usize;\n",
    "    let mut is_symmetric: bool = true;\n",
    "    \n",
    "    if power%2 == 0 {\n",
    "        midpoint += 1;\n",
    "        is_symmetric = false;\n",
    "    }\n",
    "    \n",
    "    println!(\"{} {} {}\", power/2, (power)% 2, midpoint);\n",
    "    \n",
    "    let mut out: Vec<usize> = vec![0 as usize; midpoint]; \n",
    "    let mut prev_binom_coeff: usize = 1;\n",
    "    out[0] = 2;\n",
    "    \n",
    "    for i in 1..midpoint {\n",
    "        if is_symmetric || (!is_symmetric && i != midpoint -1) {\n",
    "            out[i] = binomial_coeffs(power as f64, i as f64, prev_binom_coeff as f64); \n",
    "            prev_binom_coeff = out[i];\n",
    "            out[i] = 2*out[i];\n",
    "        } else {\n",
    "            out[i] = binomial_coeffs(power as f64, i as f64, prev_binom_coeff as f64); \n",
    "            prev_binom_coeff = out[i];\n",
    "        }\n",
    "    }\n",
    "    \n",
    "    out\n",
    "}"
   ]
  },
  {
   "cell_type": "code",
   "execution_count": 6,
   "metadata": {},
   "outputs": [
    {
     "name": "stdout",
     "output_type": "stream",
     "text": [
      "7 1 8\n",
      "[2, 30, 210, 910, 2730, 6006, 10010, 12870]\n",
      "32768\n"
     ]
    }
   ],
   "source": [
    "let sol = binom_coeffs_half(15);\n",
    "println!(\"{:?}\", sol);\n",
    "let temp: usize = sol.iter().sum();\n",
    "println!(\"{}\", temp);"
   ]
  },
  {
   "cell_type": "code",
   "execution_count": 7,
   "metadata": {},
   "outputs": [
    {
     "name": "stdout",
     "output_type": "stream",
     "text": [
      "8\n",
      "6\n",
      "7\n",
      "2\n",
      "3\n"
     ]
    }
   ],
   "source": [
    "let k = (15.0*2.0_f64.log(10.0)) as usize +2;\n",
    "\n",
    "// This is dumb and inefficient\n",
    "for i in 1..k {\n",
    "    let digit: f64 = sol.iter().map(|x| ((*x as f64)%10.0_f64.powi(i as i32))/10.0_f64.powi(i as i32)).sum();\n",
    "    println!(\"{}\", ((digit - digit.floor())*10.0) as usize );\n",
    "};"
   ]
  },
  {
   "cell_type": "markdown",
   "metadata": {},
   "source": [
    "<h3> Attempt 3 </h3>\n",
    "\n",
    "The Vandermonde identity is \n",
    "\\begin{equation}\n",
    "    {n+m \\choose r} = \\sum_{k=0}^r {m \\choose k} {n \\choose r-k}\n",
    "\\end{equation}\n",
    "To make it in the same form as Equation (2),\n",
    "\\begin{equation}\n",
    "    \\sum_{r=0}^{n+m} {n+m \\choose r} = \\sum_{r=0}^{n+m} \\sum_{k=0}^r {m \\choose k} {n \\choose r-k} = 2^{n+m}\n",
    "\\end{equation}\n",
    "A generalisation of the Vandermonde identity is, \n",
    "\\begin{equation}\n",
    "    \\sum_{r=0}^{n_1 + n_2 + \\ldots + n_p} {n_1 + n_2 + \\ldots + n_p \\choose r} = \\sum_{r=0}^{n_1 + n_2 + \\ldots + n_p} \\sum_{k_1 + k_2 + \\ldots + k_p = r} {n_1 \\choose k_1} {n_2 \\choose k_2} \\ldots {n_p \\choose k_p} = 2^{n_1 + n_2 + \\ldots + n_p}\n",
    "\\end{equation}\n",
    "Therefore, by storing the inner summation in a single entry of a vector, the individual terms to make up the final summation are known. \n",
    "\n",
    "Since $2^n$ can now be expressed as a summation that doesn't result in overflow, the property of sum of digits ($sd$) can be used. This property is given by, \n",
    "\\begin{equation}\n",
    "    sd(N + M) = sd(N) + sd(M) - 9\\times q\n",
    "\\end{equation}\n",
    "where $q$ is the carry over from the addition of $N + M$. This can be applied recursively to find the overall sum of digits.\n"
   ]
  },
  {
   "cell_type": "code",
   "execution_count": 8,
   "metadata": {},
   "outputs": [],
   "source": [
    "fn multiplicative_binom_coefficient(n: u32, k: u32) -> u32 {\n",
    "    let mut out: f64 = 1.0;\n",
    "    let nfloat = n as f64;\n",
    "    \n",
    "    if (k == n) || (k == 0) {return out as u32}\n",
    "    \n",
    "    for i in 1..k+1 { \n",
    "        let ifloat = i as f64;\n",
    "        out *= (nfloat + 1.0 - ifloat )/ (ifloat);\n",
    "    }\n",
    "//     println!(\"{}\", out);\n",
    "    out.round() as u32\n",
    "}"
   ]
  },
  {
   "cell_type": "code",
   "execution_count": 65,
   "metadata": {},
   "outputs": [],
   "source": [
    "fn sum_of_digits(mut input_num: u32, mut prev_sum: u32) -> u32 {\n",
    "    if input_num/10 == 0{\n",
    "        prev_sum += input_num % 10;\n",
    "        return prev_sum\n",
    "    } else {\n",
    "        prev_sum += input_num % 10;\n",
    "        return sum_of_digits(input_num/10, prev_sum)\n",
    "    }\n",
    "}\n",
    "\n",
    "fn num_digits(exponent: u32) -> u32 {\n",
    "   ((exponent as f64)*2.0_f64.log10()).round() as u32\n",
    "}\n",
    "\n",
    "fn num_digits_f(exponent: u32) -> f64 {\n",
    "   (exponent as f64)*2.0_f64.log10()\n",
    "}"
   ]
  },
  {
   "cell_type": "code",
   "execution_count": 110,
   "metadata": {},
   "outputs": [],
   "source": [
    "fn addition_carry_over(mut x: u32, mut y: u32) -> u32{\n",
    "    let mut carry: u32 = 0; \n",
    "    while x != 0 || y != 0 {\n",
    "        let digit_x = x % 10;\n",
    "        let digit_y = y % 10;\n",
    "        if digit_x + digit_y > 9 {carry += 1};\n",
    "        x /= 10;\n",
    "        y /= 10;\n",
    "    }\n",
    "    \n",
    "    return carry \n",
    "}\n",
    "\n",
    "fn multiply_carry_over(mut x: u32, mut y: u32) -> u32{\n",
    "    let mut carry: u32 = 0; \n",
    "    while x != 0 || y != 0 {\n",
    "        let digit_x = x % 10;\n",
    "        let digit_y = y % 10;\n",
    "        let mult = digit_x * digit_y;\n",
    "        if mult > 9 {carry += mult/9};\n",
    "        x /= 10;\n",
    "        y /= 10;\n",
    "    }\n",
    "    \n",
    "    return carry \n",
    "}"
   ]
  },
  {
   "cell_type": "code",
   "execution_count": 11,
   "metadata": {},
   "outputs": [],
   "source": [
    "extern crate itertools;\n",
    "use itertools::Itertools;\n",
    "\n",
    "fn get_unique_combinations(sum: u32, max_n_value: u32, p: u32) -> Vec<Vec<u32>> {\n",
    "    \n",
    "    let mut out: Vec<Vec<u32>> = Vec::new();\n",
    "    let it = (0..max_n_value+1).combinations_with_replacement(p as usize); \n",
    "    \n",
    "    for item in it {\n",
    "        let combination_sum: u32 = item.iter().sum();\n",
    "//         println!(\"{:?}\", item);\n",
    "//         println!(\"{}\", combination_sum);\n",
    "        \n",
    "        if combination_sum == sum {\n",
    "            out.push(item.clone());\n",
    "            for perm in item.clone().into_iter().permutations(p as usize).unique() {\n",
    "                if &perm != &item {out.push(perm.clone())}\n",
    "            }\n",
    "            \n",
    "        }\n",
    "    }\n",
    "//     if i > sum {return out}\n",
    "    out\n",
    "}"
   ]
  },
  {
   "cell_type": "code",
   "execution_count": 12,
   "metadata": {},
   "outputs": [],
   "source": [
    "fn set_k_value(r_val: u32, curr_k_sum: u32, curr_n: u32) -> u32 {\n",
    "    if r_val > curr_k_sum + curr_n {\n",
    "        return curr_n\n",
    "    } else {\n",
    "        return r_val - curr_k_sum\n",
    "    }\n",
    "}"
   ]
  },
  {
   "cell_type": "code",
   "execution_count": 13,
   "metadata": {},
   "outputs": [],
   "source": [
    "fn addition_sum_of_digits(first_num: u32, second_num: u32) -> u32 {\n",
    "    sum_of_digits(first_num, 0) + sum_of_digits(second_num, 0) - 9*addition_carry_over(first_num, second_num)\n",
    "}"
   ]
  },
  {
   "cell_type": "code",
   "execution_count": 54,
   "metadata": {},
   "outputs": [],
   "source": [
    "use std::cmp;\n",
    "\n",
    "fn add_sd(sd1: u32, sd2: u32, exponent:u32) -> u32 {\n",
    "//     println!(\"sd1 + sd2 = {}, (sd1 + sd2)/9 = {}\", sd1 + sd2, (sd1 + sd2)/9);\n",
    "    let sum: u32 = sd1 + sd2;\n",
    "    let div_nine: u32 = sum/9;\n",
    "    if sum % 9 == 0 {\n",
    "        return 0\n",
    "    } else {\n",
    "        let order = num_digits(exponent);\n",
    "        if div_nine > order {\n",
    "            return sum % 9 + (cmp::max(div_nine, order))*9\n",
    "//             return sum % 9 + (div_nine - order)*9\n",
    "        }\n",
    "            return sum % 9\n",
    "    }\n",
    "}"
   ]
  },
  {
   "cell_type": "code",
   "execution_count": 34,
   "metadata": {},
   "outputs": [],
   "source": [
    "fn final_sum_of_digits(all_digit_sums: Vec<u32>, exponent: u32) -> u32 {\n",
    "    let tot_num_summation_terms = all_digit_sums.len();\n",
    "    let num_terms = tot_num_summation_terms/2 + tot_num_summation_terms % 2;\n",
    "    \n",
    "    let is_odd: bool = if tot_num_summation_terms % 2 == 0 {false} else {true};\n",
    "    \n",
    "    println!(\"{:?}, {}\", all_digit_sums, all_digit_sums.iter().sum::<u32>());\n",
    "    \n",
    "    if num_terms == 1 {\n",
    "        let sd1 = all_digit_sums[0];\n",
    "        let sd2 = all_digit_sums[1];\n",
    "        println!(\"sd1 + sd2 = {}, (sd1 + sd2)/9 = {}\", sd1 + sd2, (sd1 + sd2)/9);\n",
    "//         let out = (sd1 + sd2)%9;\n",
    "        let out = add_sd(sd1, sd2, exponent);\n",
    "        println!(\"{}\", out);\n",
    "        return out\n",
    "    } else {\n",
    "        let mut subset: Vec<u32> = vec![0 as u32; num_terms];\n",
    "        let mut i: usize = 0;\n",
    "        \n",
    "        while i*2 + 1 < tot_num_summation_terms {\n",
    "            let sd1 = all_digit_sums[i*2];\n",
    "            let sd2 = all_digit_sums[i*2+1];\n",
    "            println!(\"sd1 + sd2 = {}, (sd1 + sd2)/9 = {}\", sd1 + sd2, (sd1 + sd2)/9);\n",
    "            subset[i] = add_sd(all_digit_sums[i*2],  all_digit_sums[i*2+1], exponent);\n",
    "            i += 1;\n",
    "        }\n",
    "        \n",
    "//         println!(\"{:?} \", subset);\n",
    "        \n",
    "        if is_odd {\n",
    "            subset[num_terms - 1] = all_digit_sums[tot_num_summation_terms - 1];\n",
    "        }\n",
    "        \n",
    "        return final_sum_of_digits(subset, exponent)\n",
    "    }\n",
    "        \n",
    "}"
   ]
  },
  {
   "cell_type": "code",
   "execution_count": 16,
   "metadata": {},
   "outputs": [],
   "source": [
    "fn summation_terms(k_val_permutations: Vec<Vec<u32>>, p: usize, n: u32) -> Vec<u32>{\n",
    "    let mut j: usize = 0;\n",
    "    let mut all_products: Vec<u32> = vec![0 as u32; k_val_permutations.len()];\n",
    "\n",
    "    for k_set in k_val_permutations.iter() {\n",
    "        let mut product = 1;\n",
    "        for i in 0..p {\n",
    "            let this_k: u32 = k_set[i];\n",
    "            if this_k != 0 || this_k != n {\n",
    "                product *= multiplicative_binom_coefficient(n, this_k);\n",
    "            }\n",
    "        }\n",
    "        all_products[j] = product;\n",
    "        j += 1;\n",
    "    }\n",
    "    \n",
    "    all_products\n",
    "}\n"
   ]
  },
  {
   "cell_type": "code",
   "execution_count": 17,
   "metadata": {},
   "outputs": [],
   "source": [
    "fn digit_sum_of_summation_terms(summation_terms: Vec<u32>, is_first_iteration: bool, exponent: u32) -> u32 {\n",
    "    let tot_num_summation_terms = summation_terms.len();\n",
    "    let num_terms = tot_num_summation_terms/2 + tot_num_summation_terms % 2;\n",
    "    \n",
    "    let is_odd: bool = if tot_num_summation_terms % 2 == 0 {false} else {true};\n",
    "    \n",
    "//     println!(\"{:?}, {}\", summation_terms, summation_terms.iter().sum::<u32>());\n",
    "    \n",
    "    if num_terms == 1 {\n",
    "        if is_first_iteration {\n",
    "            let out= addition_sum_of_digits(summation_terms[0], summation_terms[1]);\n",
    "//             println!(\"{}\", out);\n",
    "            return out\n",
    "        } else {\n",
    "            let out = add_sd(summation_terms[0], summation_terms[1], exponent);\n",
    "//             println!(\"{}\", out);\n",
    "            return out\n",
    "        }\n",
    "    } else {\n",
    "        let mut subset: Vec<u32> = vec![0 as u32; num_terms];\n",
    "        let mut i: usize = 0;\n",
    "        \n",
    "        while i*2 + 1 < tot_num_summation_terms {\n",
    "//             println!(\"i = {}\", i);\n",
    "            if is_first_iteration {\n",
    "                subset[i] = addition_sum_of_digits(summation_terms[i*2], summation_terms[i*2+1]);\n",
    "            } else {\n",
    "                subset[i] = add_sd(summation_terms[i*2],  summation_terms[i*2+1], exponent);\n",
    "            }\n",
    "            i += 1;\n",
    "        }\n",
    "        \n",
    "//         println!(\"{:?} \", subset);\n",
    "        \n",
    "        if is_odd && is_first_iteration {\n",
    "            subset[num_terms - 1] = sum_of_digits(summation_terms[tot_num_summation_terms - 1], 0);\n",
    "        } else if is_odd {\n",
    "            subset[num_terms - 1] = summation_terms[tot_num_summation_terms - 1];\n",
    "        }\n",
    "        \n",
    "        return digit_sum_of_summation_terms(subset, false, exponent)\n",
    "    }\n",
    "        \n",
    "}"
   ]
  },
  {
   "cell_type": "code",
   "execution_count": 18,
   "metadata": {},
   "outputs": [],
   "source": [
    "fn inner_summation(n_val: u32, p: u32, r: u32) -> u32 {\n",
    "    \n",
    "    let k_values = get_unique_combinations(r, n_val, p);\n",
    "//     println!(\"{:?}\", k_values);\n",
    "    \n",
    "    let all_products = summation_terms(k_values, p as usize, n_val);\n",
    "//     println!(\"prods {:?}\", all_products);\n",
    "    \n",
    "    digit_sum_of_summation_terms(all_products, true, r)\n",
    "}"
   ]
  },
  {
   "cell_type": "code",
   "execution_count": 19,
   "metadata": {},
   "outputs": [],
   "source": [
    "fn outer_summation(exponent: u32, max_n: u32) -> Vec<u32> {\n",
    "    let quotient = exponent/max_n;\n",
    "    if exponent % max_n != 0 {panic!(\"Exponent must be a multiple of n\")}\n",
    "    \n",
    "    let mut inner_values: Vec<u32> = vec![0 as u32; (exponent+1) as usize];\n",
    "    inner_values[0] = 1;\n",
    "    inner_values[exponent as usize] = 1;\n",
    "    \n",
    "    for i in 1..exponent {\n",
    "        inner_values[i as usize] = inner_summation(max_n, quotient, i);\n",
    "    }\n",
    "    \n",
    "    inner_values\n",
    "//     digit_sum_of_summation_terms(inner_values)\n",
    "}"
   ]
  },
  {
   "cell_type": "code",
   "execution_count": 20,
   "metadata": {},
   "outputs": [],
   "source": [
    "fn digit_sum(input_val: u32) -> u32 {\n",
    "    return input_val % 9\n",
    "}\n",
    "\n",
    "fn power_2_digit_sum(exponent: u32) -> u32 {\n",
    "    let m = exponent % 6;\n",
    "    return match m {\n",
    "        0 => 1,\n",
    "        1 => 2,\n",
    "        2 => 4,\n",
    "        3 => 8,\n",
    "        4 => 7,\n",
    "        5 => 5,\n",
    "        6 => 1,\n",
    "        // This brach is not actually possible \n",
    "        _ => panic!(),\n",
    "    }\n",
    "}\n",
    "\n"
   ]
  },
  {
   "cell_type": "code",
   "execution_count": 56,
   "metadata": {},
   "outputs": [
    {
     "name": "stdout",
     "output_type": "stream",
     "text": [
      "[1, 2, 1, 6, 3, 6, 6, 3, 6, 2, 4, 2, 6, 3, 6, 6, 3, 6, 1, 2, 1], 76\n",
      "sd1 + sd2 = 3, (sd1 + sd2)/9 = 0\n",
      "sd1 + sd2 = 7, (sd1 + sd2)/9 = 0\n",
      "sd1 + sd2 = 9, (sd1 + sd2)/9 = 1\n",
      "sd1 + sd2 = 9, (sd1 + sd2)/9 = 1\n",
      "sd1 + sd2 = 8, (sd1 + sd2)/9 = 0\n",
      "sd1 + sd2 = 6, (sd1 + sd2)/9 = 0\n",
      "sd1 + sd2 = 9, (sd1 + sd2)/9 = 1\n",
      "sd1 + sd2 = 12, (sd1 + sd2)/9 = 1\n",
      "sd1 + sd2 = 9, (sd1 + sd2)/9 = 1\n",
      "sd1 + sd2 = 3, (sd1 + sd2)/9 = 0\n",
      "[3, 7, 0, 0, 8, 6, 0, 3, 0, 3, 1], 31\n",
      "sd1 + sd2 = 10, (sd1 + sd2)/9 = 1\n",
      "sd1 + sd2 = 0, (sd1 + sd2)/9 = 0\n",
      "sd1 + sd2 = 14, (sd1 + sd2)/9 = 1\n",
      "sd1 + sd2 = 3, (sd1 + sd2)/9 = 0\n",
      "sd1 + sd2 = 3, (sd1 + sd2)/9 = 0\n",
      "[1, 0, 5, 3, 3, 1], 13\n",
      "sd1 + sd2 = 1, (sd1 + sd2)/9 = 0\n",
      "sd1 + sd2 = 8, (sd1 + sd2)/9 = 0\n",
      "sd1 + sd2 = 4, (sd1 + sd2)/9 = 0\n",
      "[1, 8, 4], 13\n",
      "sd1 + sd2 = 9, (sd1 + sd2)/9 = 1\n",
      "[0, 4], 4\n",
      "sd1 + sd2 = 4, (sd1 + sd2)/9 = 0\n",
      "4\n",
      "[1, 2, 1, 6, 3, 6, 6, 3, 6, 2, 4, 2, 6, 3, 6, 6, 3, 6, 1, 2, 1], sd = 4, ds(calc) = 4, ds(truth) = 4, mlg2 = 6\n"
     ]
    }
   ],
   "source": [
    "// let sol = sum_of_digits(1024, 0);\n",
    "let pow: u32 = 20;\n",
    "let sol = outer_summation(pow, 10);\n",
    "// let solsum1: u32= sol.iter().sum();\n",
    "let solsum1: u32= digit_sum_of_summation_terms(sol.clone(), false, pow );\n",
    "let solsum: u32= final_sum_of_digits(sol.clone(), pow);\n",
    "println!(\"{:?}, sd = {}, ds(calc) = {}, ds(truth) = {}, mlg2 = {}\", sol, solsum, solsum1, power_2_digit_sum(pow), num_digits(pow));"
   ]
  },
  {
   "cell_type": "code",
   "execution_count": 111,
   "metadata": {},
   "outputs": [
    {
     "name": "stdout",
     "output_type": "stream",
     "text": [
      "2^0 ds = 1 sd = 1, ds+(i/6)*9 = 1\n",
      "2^1 ds = 2 sd = 2, ds+(i/6)*9 = 2\n",
      "2^2 ds = 4 sd = 4, ds+(i/6)*9 = 4\n",
      "2^3 ds = 8 sd = 8, ds+(i/6)*9 = 8\n",
      "2^4 ds = 7 sd = 7, ds+(i/6)*9 = 7\n",
      "2^5 ds = 5 sd = 5, ds+(i/6)*9 = 5\n",
      "2^6 ds = 1 sd = 10, ds+(i/6)*9 = 10\n",
      "2^7 ds = 2 sd = 11, ds+(i/6)*9 = 11\n",
      "2^8 ds = 4 sd = 13, ds+(i/6)*9 = 13\n",
      "2^9 ds = 8 sd = 8, ds+(i/6)*9 = 17\n",
      "2^10 ds = 7 sd = 7, ds+(i/6)*9 = 16\n",
      "2^11 ds = 5 sd = 14, ds+(i/6)*9 = 14\n",
      "2^12 ds = 1 sd = 19, ds+(i/6)*9 = 19\n",
      "2^13 ds = 2 sd = 20, ds+(i/6)*9 = 20\n",
      "2^14 ds = 4 sd = 22, ds+(i/6)*9 = 22\n",
      "2^15 ds = 8 sd = 26, ds+(i/6)*9 = 26\n",
      "2^16 ds = 7 sd = 25, ds+(i/6)*9 = 25\n",
      "2^17 ds = 5 sd = 14, ds+(i/6)*9 = 23\n",
      "2^18 ds = 1 sd = 19, ds+(i/6)*9 = 28\n",
      "2^19 ds = 2 sd = 29, ds+(i/6)*9 = 29\n",
      "2^20 ds = 4 sd = 31, ds+(i/6)*9 = 31\n",
      "2^21 ds = 8 sd = 26, ds+(i/6)*9 = 35\n",
      "2^22 ds = 7 sd = 25, ds+(i/6)*9 = 34\n",
      "2^23 ds = 5 sd = 41, ds+(i/6)*9 = 32\n",
      "2^24 ds = 1 sd = 37, ds+(i/6)*9 = 37\n",
      "2^25 ds = 2 sd = 29, ds+(i/6)*9 = 38\n",
      "2^26 ds = 4 sd = 40, ds+(i/6)*9 = 40\n",
      "2^27 ds = 8 sd = 35, ds+(i/6)*9 = 44\n",
      "2^28 ds = 7 sd = 43, ds+(i/6)*9 = 43\n",
      "2^29 ds = 5 sd = 41, ds+(i/6)*9 = 41\n",
      "2^30 ds = 1 sd = 37, ds+(i/6)*9 = 46\n",
      "2^31 ds = 2 sd = 47, ds+(i/6)*9 = 47\n",
      "26\n"
     ]
    }
   ],
   "source": [
    "for i in 0..32 {\n",
    "    let ds = power_2_digit_sum(i);\n",
    "    let mlg2 = num_digits_f(i);\n",
    "    let mlg2_over2 = (mlg2/2.0).round();\n",
    "//     println!(\"ds = {}, mlg2 = {} mlg2/2 = {} \", ds, mlg2, mlg2_over2);\n",
    "//     println!(\"2^{} sd = {}, ds+floor(mlg2/2)*9 = {}\",i, sum_of_digits(2_u32.pow(i), 0), ds +(mlg2_over2 as u32)*9 );\n",
    "    println!(\"2^{} ds = {} sd = {}, ds+(i/6)*9 = {}\",i, ds, sum_of_digits(2_u32.pow(i), 0), ds + cmp::min(i/6, mlg2_over2 as u32)*9 );\n",
    "};\n",
    "\n",
    "let temp: u32 = multiply_carry_over(2_u32.pow(31), 2_u32.pow(31));\n",
    "println!(\"{}\", temp);"
   ]
  },
  {
   "cell_type": "code",
   "execution_count": 22,
   "metadata": {},
   "outputs": [
    {
     "name": "stdout",
     "output_type": "stream",
     "text": [
      "1\n",
      "7\n",
      "5\n",
      "4 4 13\n",
      "13 2\n",
      "7 7 7\n",
      "7 1\n"
     ]
    }
   ],
   "source": [
    "println!(\"{}\", addition_carry_over(25,25));\n",
    "println!(\"{}\", sum_of_digits(25, 0));\n",
    "println!(\"{}\", addition_sum_of_digits(25, 25));\n",
    "let a = 2 + 5 + 6;\n",
    "let b = 1 + 2 + 8 + 1 + 2 + 8;\n",
    "println!(\"{} {} {}\", a%9, b%9, a);\n",
    "// println!(\"{} {}\", (b - b%9)/(b/9) + b%9, b/9);\n",
    "println!(\"{} {}\", (b/9 - 1)*9 + b%9, b/9);\n",
    "// println!(\"{} {}\", (b/9)*9 - b/9, (b/9)*9 - b%9);\n",
    "let c = 1 + 2 + 4;\n",
    "let d = 5 + 1 + 2 + 5 + 1 + 2;\n",
    "println!(\"{} {} {}\", c%9, d%9, c);\n",
    "// println!(\"{} {}\", (d - d%9)/(d/9) + d%9, d/9);\n",
    "println!(\"{} {}\", (d/9 -1)*9 + d%9, d/9);\n",
    "// println!(\"{} {}\", (d/9)*9 - d/9, (d/9)*9 - d%9);"
   ]
  },
  {
   "cell_type": "markdown",
   "metadata": {},
   "source": [
    "<h3> Final Attempt </h3> \n",
    "\n",
    "LET'S SOMEWHAT BRUTE FORCE THIS THING!\n",
    "\n",
    "\\begin{equation}\n",
    "    a^m = a^x a^y a^z \\qquad \\text{where } m = x+y+z\n",
    "\\end{equation}\n",
    "So if I split $2^{1000}$ and split it into $x2^{31} + 2^{1000 - 32x}$. I can efficiently find $2^x$ using a left shift bit operation. I then need split the numbers into an array containig the individual digits such that I can eventually perform a [linear convlution](https://en.wikipedia.org/wiki/Sch%C3%B6nhage%E2%80%93Strassen_algorithm). The linear convolution results the multiplication without carrying. From there, I can then find the value of the resulting convolution. By exploiting symmetry of the problem, I can probably reduce the computation of this. So I want to partition $m$ such that I only need to compute half (or less) of the problem. Once, I've reached the point where I've computed half other multiplications (so $2^{m/2}$). I can use the property of sum of digits, \n",
    "\\begin{equation}\n",
    "    sd(M \\times N) = sd(N) \\times sd(M) - 9R\n",
    "\\end{equation}\n",
    "To find $R$, I don't need to do the multiplication of $N\\times M$, just their digits to find the carry over."
   ]
  },
  {
   "cell_type": "code",
   "execution_count": 57,
   "metadata": {},
   "outputs": [
    {
     "ename": "Error",
     "evalue": "type annotations needed",
     "output_type": "error",
     "traceback": [
      "    ((NumCast::from(exponent).unwrap() as f32)*(2.0_f32).log10()).ceil() as T",
      "\u001b[91m      ^^^^^^^^^^^^^^^^^^^^^^^^^^^^^^^^\u001b[0m \u001b[94mthis method call resolves to `T`\u001b[0m",
      "    ((NumCast::from(exponent).unwrap() as f32)*(2.0_f32).log10()).ceil() as T",
      "\u001b[91m                              ^^^^^^\u001b[0m \u001b[94mcannot infer type for type parameter `T`\u001b[0m",
      "type annotations needed"
     ]
    },
    {
     "ename": "Error",
     "evalue": "non-primitive cast: `f32` as `T`",
     "output_type": "error",
     "traceback": [
      "    ((NumCast::from(exponent).unwrap() as f32)*(2.0_f32).log10()).ceil() as T",
      "\u001b[91m    ^^^^^^^^^^^^^^^^^^^^^^^^^^^^^^^^^^^^^^^^^^^^^^^^^^^^^^^^^^^^^^^^^^^^^^^^^\u001b[0m \u001b[94man `as` expression can only be used to convert between primitive types or to coerce to a specific trait object\u001b[0m",
      "non-primitive cast: `f32` as `T`"
     ]
    }
   ],
   "source": [
    "enum Unsigned {\n",
    "    U8(u8),\n",
    "    U16(u16),\n",
    "    U32(u32),\n",
    "    U64(u64),\n",
    "}\n",
    "\n",
    "fn find_number_of_digits_in_power2(exponent: Unsigned) -> Unsigned {\n",
    "    if let Unsigned(x)\n",
    "    ((exponent.unwrap() as f32)*(2.0_f32).log10()).ceil() \n",
    "}"
   ]
  },
  {
   "cell_type": "code",
   "execution_count": 37,
   "metadata": {},
   "outputs": [],
   "source": [
    "fn power_partition(desired_exponent: u16) -> (Vec<u16>, bool) {\n",
    "    // Bitwise AND to determine if exponent is even\n",
    "    let is_even: bool = if desired_exponent & 1 == 0 {true} else {false};\n",
    "    \n",
    "    // If not even, make it even\n",
    "    // Therefore, the partitioning is only for half of the problem such that it is symmetric\n",
    "    let exponent = (desired_exponent - desired_exponent & 1)/2;\n",
    "    \n",
    "    let max_partition_exponent: u16 = (32_f32 - 9.0_f32.log10()/ 2.0_f32.log10()).floor() as u16;\n",
    "    \n",
    "    let remainder = exponent % 28;\n",
    "    let quotient = exponent/28;\n",
    "    \n",
    "    let mut out: Vec<u16> = vec![max_partition_exponent as u16; quotient as usize];\n",
    "    out.push(remainder as u16);\n",
    "    \n",
    "    (out, is_even)\n",
    "}"
   ]
  },
  {
   "cell_type": "code",
   "execution_count": 36,
   "metadata": {},
   "outputs": [],
   "source": [
    "fn number_into_vec_of_digits(exponent: u32) -> Vec<u16> {\n",
    "    if exponent > 31 {panic!()}\n",
    "    \n",
    "    // For 2^m, the number of digits = mlg2\n",
    "    let num_digits: usize = ((exponent as f32)*(2.0_f32).log10()).ceil() as usize;\n",
    "    \n",
    "    // Initialise array to store the digits\n",
    "    let mut digits: Vec<u16> = vec![0 as u16; num_digits];\n",
    "    \n",
    "    // Get number from left shift\n",
    "    let mut number: u32 = 1_u32 << exponent;\n",
    "    \n",
    "    for i in (0..num_digits).rev() {\n",
    "        digits[i] = (number % 10) as u16;\n",
    "        number /= 10;\n",
    "    }\n",
    "    \n",
    "    digits\n",
    "}"
   ]
  },
  {
   "cell_type": "code",
   "execution_count": null,
   "metadata": {},
   "outputs": [],
   "source": [
    "fn multiply_power_less_than_29(input_num_as_digits: Vec<u16>, multiplicative_power: u32) -> Vec<u16> {\n",
    "    // \n",
    "    let num_digits: usize = ((multiplicative_power as f32)*(2.0_f32).log10()).ceil() as usize;\n",
    "    let n = input_num_as_digits.len();\n",
    "    \n",
    "    let numbers_to_add: Vec<u32> = input_num_as_digits.iter().map(|x| (*x as u32) << multiplicative_power).collect();\n",
    "    \n",
    "    let mut multiplication_as_digits = \n",
    "    \n",
    "}"
   ]
  },
  {
   "cell_type": "code",
   "execution_count": 43,
   "metadata": {},
   "outputs": [
    {
     "name": "stdout",
     "output_type": "stream",
     "text": [
      "2415919104\n",
      "16 4\n",
      "28\n",
      "[1, 0, 7, 3, 7, 4, 1, 8, 2, 4]\n"
     ]
    }
   ],
   "source": [
    "println!(\"{}\", (9_u32) << 28 as u32);\n",
    "println!(\"{} {}\", 500/31, 500 % 31);\n",
    "println!(\"{}\", (32_f32 - 9.0_f32.log10()/ 2.0_f32.log10()).floor() as u32);\n",
    "let digitvec = number_into_vec_of_digits(30);\n",
    "println!(\"{:?}\", digitvec); "
   ]
  },
  {
   "cell_type": "code",
   "execution_count": null,
   "metadata": {},
   "outputs": [],
   "source": []
  }
 ],
 "metadata": {
  "kernelspec": {
   "display_name": "Rust",
   "language": "rust",
   "name": "rust"
  },
  "language_info": {
   "codemirror_mode": "rust",
   "file_extension": ".rs",
   "mimetype": "text/rust",
   "name": "Rust",
   "pygment_lexer": "rust",
   "version": ""
  }
 },
 "nbformat": 4,
 "nbformat_minor": 4
}
