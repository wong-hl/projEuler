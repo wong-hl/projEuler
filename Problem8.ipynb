{
 "cells": [
  {
   "cell_type": "markdown",
   "metadata": {},
   "source": [
    "<h1> Problem 8 - Largest Product in a Series </h1>\n",
    "\n",
    "\n",
    "The four adjacent digits in the 1000-digit number that have the greatest product are $9 \\times 9 \\times 8 \\times 9 = 5832$.\n",
    "\n",
    "\\begin{gather*}\n",
    "73167176531330624919225119674426574742355349194934 \\\\\n",
    "96983520312774506326239578318016984801869478851843 \\\\\n",
    "85861560789112949495459501737958331952853208805511 \\\\\n",
    "12540698747158523863050715693290963295227443043557 \\\\\n",
    "66896648950445244523161731856403098711121722383113 \\\\\n",
    "62229893423380308135336276614282806444486645238749 \\\\\n",
    "30358907296290491560440772390713810515859307960866 \\\\\n",
    "70172427121883998797908792274921901699720888093776 \\\\\n",
    "65727333001053367881220235421809751254540594752243 \\\\\n",
    "52584907711670556013604839586446706324415722155397 \\\\\n",
    "53697817977846174064955149290862569321978468622482 \\\\\n",
    "83972241375657056057490261407972968652414535100474 \\\\\n",
    "82166370484403199890008895243450658541227588666881 \\\\\n",
    "16427171479924442928230863465674813919123162824586 \\\\\n",
    "17866458359124566529476545682848912883142607690042 \\\\\n",
    "24219022671055626321111109370544217506941658960408 \\\\\n",
    "07198403850962455444362981230987879927244284909188 \\\\\n",
    "84580156166097919133875499200524063689912560717606 \\\\ \n",
    "05886116467109405077541002256983155200055935729725 \\\\\n",
    "71636269561882670428252483600823257530420752963450\n",
    "\\end{gather*}\n",
    "\n",
    "Find the thirteen adjacent digits in the 1000-digit number that have the greatest product. What is the value of this product?\n",
    "\n",
    "---\n"
   ]
  },
  {
   "cell_type": "code",
   "execution_count": 2,
   "metadata": {},
   "outputs": [],
   "source": [
    "use std::fs;\n",
    "\n",
    "fn input_digit() -> Vec<u32> {\n",
    "    \n",
    "    // Load txt file containing digits into string\n",
    "    let mut data = fs::read_to_string(\"data/problem8digits.txt\").expect(\"Unable to read file\");\n",
    "    \n",
    "    // If string has \\n, remove it\n",
    "    if data.ends_with(\"\\n\") {data.pop();}\n",
    "    \n",
    "    // Convert string into vector of digits\n",
    "    let out: Vec<u32> = data.chars().flat_map(|ch| ch.to_digit(10)).collect();\n",
    "    \n",
    "    out\n",
    "}\n"
   ]
  },
  {
   "cell_type": "markdown",
   "metadata": {},
   "source": [
    "<h3> Brute Force Method </h3>\n",
    "\n",
    "Loop over the entire array slicing 13 digits at at time. If the sum is greater than the previous max, update.\n"
   ]
  },
  {
   "cell_type": "code",
   "execution_count": 14,
   "metadata": {},
   "outputs": [],
   "source": [
    "fn product_iterator(input_vec: &[u32]) -> u64{\n",
    "    let vector = input_vec.clone();\n",
    "    let mut product: u64 = 1;\n",
    "    for val in vector {\n",
    "        product *= *val as u64;\n",
    "    }\n",
    "    product\n",
    "}"
   ]
  },
  {
   "cell_type": "code",
   "execution_count": 16,
   "metadata": {},
   "outputs": [],
   "source": [
    "fn max_product(num_digits: u32, number_as_vec: Vec<u32>) -> u64 {\n",
    "    let mut max_prod: u64 = 0;\n",
    "    let max_index: usize = number_as_vec.len() - num_digits as usize;\n",
    "    \n",
    "    for i in 0..max_index {\n",
    "        let subset = &number_as_vec[i..(i + num_digits as usize)];\n",
    "        let prod = product_iterator(subset);\n",
    "        if prod > max_prod {\n",
    "            max_prod = prod;\n",
    "        }\n",
    "    }\n",
    "    max_prod\n",
    "}"
   ]
  },
  {
   "cell_type": "code",
   "execution_count": 24,
   "metadata": {},
   "outputs": [
    {
     "name": "stdout",
     "output_type": "stream",
     "text": [
      "Max product of the 13 adjacent digits is 23514624000\n"
     ]
    }
   ],
   "source": [
    "let a = input_digit();\n",
    "let numdigits = 13;\n",
    "let sol = max_product(numdigits, a);\n",
    "println!(\"Max product of the {} adjacent digits is {}\", numdigits, sol);"
   ]
  }
 ],
 "metadata": {
  "kernelspec": {
   "display_name": "Rust",
   "language": "rust",
   "name": "rust"
  },
  "language_info": {
   "codemirror_mode": "rust",
   "file_extension": ".rs",
   "mimetype": "text/rust",
   "name": "Rust",
   "pygment_lexer": "rust",
   "version": ""
  }
 },
 "nbformat": 4,
 "nbformat_minor": 4
}
