{
 "cells": [
  {
   "cell_type": "markdown",
   "metadata": {},
   "source": [
    "<h1> Problem 75 - Singular Integer Right Triangles </h1> \n",
    "\n",
    "It turns out that 12 cm is the smallest length of wire that can be bent to form an integer sided right angle triangle in exactly one way, but there are many more examples.\n",
    "\\begin{align*}\n",
    "    (3,4,5) & = 12 \\\\\n",
    "    (6,8,10) & = 24 \\\\\n",
    "    (5,12,13) & = 30 \\\\\n",
    "    (9,12,15) & = 36 \\\\\n",
    "    (8,15,17) & = 40 \\\\\n",
    "    (12,16,20) & = 48 \n",
    "\\end{align*}\n",
    "In contrast, some lengths of wire, like 20 cm, can't be bent to form an integer sided right angle triangle, and other lenths allow more than one solution to be found; for example, using 120 cm it is possible to form exactly three different integer sided right angle triangles. \n",
    "\\begin{equation*}\n",
    "    (30,40,50) = (20,48,52) = (24,45,51) = 120\n",
    "\\end{equation*}\n",
    "Given that $L$ is the length of the wire, for how many values of $L \\leq 1500000$ can exactly one integer sided right angle triangle be formed. \n",
    "\n",
    "---\n"
   ]
  },
  {
   "cell_type": "markdown",
   "metadata": {},
   "source": [
    "Properties to exploit:\n",
    "1. A property of the sum of pythagorean triplets is that it will always be even. This automatically eliminates half of all possible values. \n",
    "2. From one primitive pythagorean triplet, I can find all sums that are a multiple of it. If a number is a multiple of more than one sum, then it will have more than one solution. For example, $120 = 30 \\times 4 = 12 \\times 10 = 40 \\times 3$. Therefore, from the first $x$ number of primitives, I can eliminate most sums.\n",
    "3. I can terminate when every even number less than $1500000$ can be expressed as a multiple of my primitives. I don't think I need to go all the way to $1500000$. \n",
    "\n",
    "The real question is, is this equivalent to just finding all the primitives? I think if I solve for all the pythogorean triplets up to, \n",
    "\\begin{equation*}\n",
    "    w = 2m(m+n)\n",
    "\\end{equation*}\n",
    "where $w$ is the perimeter, it should be fine. \n",
    "\n",
    "[Euclid's formula to generate Pythagorean Triplets](https://en.wikipedia.org/wiki/Pythagorean_triple#Generating_a_triple), states that, for an aribitrary pair of integers, $m$ and $n$, with $m>n>0$, then \n",
    "\\begin{equation*}\n",
    "    x = m^2 - n^2 \\qquad y = 2mn \\qquad z = m^2 + n^2\n",
    "\\end{equation*}\n",
    "where $m$ and $n$ are coprime (i.e. $gcd(m,n) = 1$) integers, and $m$ and $n$ are of opposite parity (i.e. if $m$ is even, then $n$ is odd, and vice versa). \n",
    "\n",
    "[All pairs of coprime intergers](https://en.wikipedia.org/wiki/Coprime_integers#Generating_all_coprime_pairs), $m$ and $n$ with $m>n$ are known to be given by, \n",
    "\\begin{align}\n",
    "    (2m - n ,m) & \\\\\n",
    "    (2m + n ,m) & \\\\\n",
    "    (m + 2n, n)\n",
    "\\end{align}\n",
    "where each equation represents one branch of a [ternary tree](https://en.wikipedia.org/wiki/Ternary_tree). Since pythagorean triplets require either odd-even pairs or even-odd pairs, then the starting point for each branch will be $(2,1)$.\n",
    "\n"
   ]
  },
  {
   "cell_type": "code",
   "execution_count": null,
   "metadata": {},
   "outputs": [],
   "source": []
  },
  {
   "cell_type": "code",
   "execution_count": null,
   "metadata": {},
   "outputs": [],
   "source": []
  },
  {
   "cell_type": "code",
   "execution_count": null,
   "metadata": {},
   "outputs": [],
   "source": []
  }
 ],
 "metadata": {
  "kernelspec": {
   "display_name": "Rust",
   "language": "rust",
   "name": "rust"
  },
  "language_info": {
   "codemirror_mode": "rust",
   "file_extension": ".rs",
   "mimetype": "text/rust",
   "name": "Rust",
   "pygment_lexer": "rust",
   "version": ""
  }
 },
 "nbformat": 4,
 "nbformat_minor": 4
}
