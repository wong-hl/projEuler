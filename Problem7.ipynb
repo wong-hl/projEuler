{
 "cells": [
  {
   "cell_type": "markdown",
   "metadata": {},
   "source": [
    "<h1> Problem 7 - 10 001st Prime Number </h1>\n",
    "\n",
    "By listing the first six prime numbers: $2$, $3$, $5$, $7$, $11$ and $13$. The sixth prime is $13$.\n",
    "\n",
    "What is the 10001st prime number?\n",
    "\n",
    "---\n"
   ]
  },
  {
   "cell_type": "markdown",
   "metadata": {},
   "source": [
    "The Sieve of Eratosthenes allows me to find all the prime numbers up to a certain number. However, I don't know how many prime numbers there will be up to that number. \n",
    "\n",
    "According to [wikipedia](https://en.wikipedia.org/wiki/Prime-counting_function), Gauss and Legendre conjectured that the number of primes less than or equal to $x$ is given by, \n",
    "\\begin{equation}\n",
    "    \\pi(x) \\approx \\frac{x}{\\ln{x}}\n",
    "\\end{equation}\n",
    "where $\\pi(x)$ is approximately the number of primes less than or equal to $x$. This was proved to be true by other mathematicians.\n",
    "\n",
    "Using this, I can approximate how large a number is required to find the 10001st prime, \n",
    "\\begin{equation*}\n",
    "    \\pi(.12 \\times 10^6) \\approx \\frac{.12 \\times 10^6}{\\ln{(.12 \\times 10^6)}} \\approx 10261\n",
    "\\end{equation*}"
   ]
  },
  {
   "cell_type": "code",
   "execution_count": 2,
   "metadata": {
    "ExecuteTime": {
     "end_time": "2021-09-06T14:54:47.131064345+00:00",
     "start_time": "2021-09-06T14:54:46.924Z"
    }
   },
   "outputs": [],
   "source": [
    "fn seive(n: usize) -> Vec<u8> {\n",
    "    // Initialise aray of boolean values from 2 to n (shifted in implementation)\n",
    "    // i.e. index 0 = 2, index 1 = 3, ... etc\n",
    "    let mut out = vec![1u8; (n-2) as usize];\n",
    "    \n",
    "    // Max iteration number = sqrt(n)\n",
    "    let n_sqrt: usize = ((n as f64).sqrt() + 1.0) as usize;\n",
    "    \n",
    "    // For i = 2, ..., sqrt(n)\n",
    "    for i in 2..n_sqrt {\n",
    "        // if that index is true\n",
    "        if out[i-2] == 1u8 {\n",
    "            // Iterate over j = i^2, i^2 + i, ..., n\n",
    "            let mut k: usize = 0;\n",
    "            let mut j: usize = i*i + k*i; \n",
    "            while j < n {\n",
    "                out[j-2] = 0u8;\n",
    "                k += 1;\n",
    "                j = i*i + k*i;\n",
    "            }\n",
    "        }\n",
    "    }\n",
    "    out\n",
    "}"
   ]
  },
  {
   "cell_type": "code",
   "execution_count": 3,
   "metadata": {
    "ExecuteTime": {
     "end_time": "2021-09-08T19:01:44.424490913+00:00",
     "start_time": "2021-09-08T19:01:44.217Z"
    }
   },
   "outputs": [],
   "source": [
    "fn seive_improved(n: usize) -> Vec<u8> {\n",
    "    // Initialise aray of boolean values from 2 to n (shifted in implementation)\n",
    "    // i.e. index 0 = 2, index 1 = 3, ... etc\n",
    "    let mut out = vec![1u8; n-2];\n",
    "    \n",
    "    // Max iteration number = sqrt(n)\n",
    "    let n_sqrt: usize = ((n as f64).sqrt() + 1.0) as usize;\n",
    "    \n",
    "    // For i = 2, ..., sqrt(n)\n",
    "    for i in 2..n_sqrt {\n",
    "        // if that index is true\n",
    "        if let Some(1u8) = out.get(i-2) {\n",
    "            // Iterate over j = i^2, i^2 + i, ..., n\n",
    "            let max_k = (n - i*i - 1)/i; \n",
    "            (0..=max_k).for_each(|k| out[i*i + k*i - 2] = 0u8);\n",
    "        }\n",
    "    }\n",
    "    out\n",
    "}"
   ]
  },
  {
   "cell_type": "code",
   "execution_count": 4,
   "metadata": {
    "ExecuteTime": {
     "end_time": "2021-09-06T14:54:47.550508985+00:00",
     "start_time": "2021-09-06T14:54:46.929Z"
    }
   },
   "outputs": [],
   "source": [
    "fn find_nth_prime(n: u32, initial_guess: u32) -> Option<u32> {\n",
    "    \n",
    "    let seive_output: Vec<u32> = seive_improved(initial_guess as usize).iter().map(|&x| x as u32).collect();\n",
    "    \n",
    "    let num_primes: u32 = seive_output.iter().sum();\n",
    "//     println!(\"{}\", num_primes);\n",
    "    \n",
    "    let diff: u32 = num_primes - n;\n",
    "//     println!(\"{}\", diff);\n",
    "    \n",
    "    let mut count_primes: u32 = 0;\n",
    "    \n",
    "    for i in (0..(initial_guess-2)).rev() {\n",
    "//         println!(\"{}\", i);\n",
    "        if seive_output.get(i as usize).unwrap() == &1u32 {\n",
    "            if diff == count_primes {\n",
    "                return Some(i + 2);\n",
    "            }\n",
    "            count_primes += 1;\n",
    "        }\n",
    "    }\n",
    "    None\n",
    "}"
   ]
  },
  {
   "cell_type": "code",
   "execution_count": 5,
   "metadata": {
    "ExecuteTime": {
     "end_time": "2021-09-06T14:54:48.888894270+00:00",
     "start_time": "2021-09-06T14:54:46.932Z"
    }
   },
   "outputs": [
    {
     "name": "stdout",
     "output_type": "stream",
     "text": [
      "The 10001st prime is 104743\n"
     ]
    }
   ],
   "source": [
    "let soln: u32 = find_nth_prime(10001, 120000).unwrap();\n",
    "println!(\"The 10001st prime is {}\", soln);"
   ]
  },
  {
   "cell_type": "markdown",
   "metadata": {},
   "source": [
    "\n",
    "---\n",
    "\n",
    "<h1> Problem 10 - Summation of Primes </h1>\n",
    "\n",
    "The sum of primes below 10 is $2+3+5+7 = 17$\n",
    "\n",
    "Find the sum of all primes below 2 million. \n",
    "\n",
    "\n",
    "\n",
    "<h3> The Method </h3>\n",
    "\n",
    "If I was in Python, I'd use numpy to get the index of where a prime exists (`True`) then sum that array. Or I could dot product it with an array of 1s. \n",
    "I don't know how I could do this in Rust, but I know Rust is very efficient for functional programming methods.\n",
    "\n",
    "*What information do I need?*\n",
    " Numbers that are prime \n",
    "\n",
    "*What information do I have?*\n",
    " From the seive of eratosthenes, I have a boolean vector (in this implementation they are ints of 0 and 1) that tells me whether that $index + 2$ is prime. \n",
    "\n",
    "*Therefore?* I can use `iter().enumerate()` it gives me the index (which I can use to find the actual number) then multiply it by the value at that location. If the value at that location is 0, then it is not prime and it is not added to the sum. If the value at that location is 1, then it is prime and it is added to the sum. \n",
    "\\begin{equation}\n",
    "    \\sum_{i=0}^{n-2} ix\n",
    "\\end{equation}\n",
    "where $n$ is the value we are summing up to, $i$ is the index of the array and $x$ is $1$ or $0$ to indicate if number is prime. \n",
    "\n",
    "Actually, [stack overflow](https://stackoverflow.com/questions/30422848/how-do-i-compute-the-dot-product-of-two-rust-arrays-slices-vectors) show that there is a way in Rust to use map to find the dot product of two arrays "
   ]
  },
  {
   "cell_type": "code",
   "execution_count": 6,
   "metadata": {
    "ExecuteTime": {
     "end_time": "2021-09-06T14:54:49.128532207+00:00",
     "start_time": "2021-09-06T14:54:46.935Z"
    }
   },
   "outputs": [],
   "source": [
    "fn sum_primes(n: u32) -> u64{\n",
    "    // Find all primes up to n using the seive of eratosthenes\n",
    "    let seive_output: Vec<u64> = seive(n as usize).iter().map(|&x| x as u64).collect();\n",
    "    // Initialise output sum as 0 \n",
    "    let mut out_sum: u64 = 0; \n",
    "    \n",
    "    // for_each as we want the side effects (idiomatic way of writing map)\n",
    "    // In this case, the side effects is the adding to the output sum \n",
    "    seive_output.iter().enumerate().for_each(|(i, x)| {out_sum += (i as u64 + 2)*(*x)});\n",
    "    out_sum\n",
    "}"
   ]
  },
  {
   "cell_type": "code",
   "execution_count": 7,
   "metadata": {
    "ExecuteTime": {
     "end_time": "2021-09-06T14:54:49.754225173+00:00",
     "start_time": "2021-09-06T14:54:46.938Z"
    }
   },
   "outputs": [
    {
     "name": "stdout",
     "output_type": "stream",
     "text": [
      "The sum of the first 2 million primes is 142913828922\n"
     ]
    }
   ],
   "source": [
    "let soln: u64 = sum_primes(2000000);\n",
    "println!(\"The sum of the first 2 million primes is {}\", soln);"
   ]
  },
  {
   "cell_type": "markdown",
   "metadata": {},
   "source": [
    "\n",
    "---\n"
   ]
  },
  {
   "cell_type": "code",
   "execution_count": 13,
   "metadata": {
    "ExecuteTime": {
     "end_time": "2021-09-08T19:05:59.502051754+00:00",
     "start_time": "2021-09-08T19:05:59.042Z"
    }
   },
   "outputs": [
    {
     "name": "stdout",
     "output_type": "stream",
     "text": [
      "[2, 3, 5, 7, 11, 13, 17, 19, 23, 29, 31, 37, 41, 43, 47, 53, 59, 61, 67, 71, 73, 79, 83, 89, 97, 101, 103, 107, 109, 113, 127, 131, 137, 139, 149, 151, 157, 163, 167, 173, 179, 181, 191, 193, 197, 199, 211, 223, 227, 229, 233, 239, 241, 251, 257, 263, 269, 271, 277, 281, 283, 293, 307, 311, 313, 317, 331, 337, 347, 349, 353, 359, 367, 373, 379, 383, 389, 397, 401, 409, 419, 421, 431, 433, 439, 443, 449, 457, 461, 463, 467, 479, 487, 491, 499, 503, 509, 521, 523, 541, 547, 557, 563, 569, 571, 577, 587, 593, 599, 601, 607, 613, 617, 619, 631, 641, 643, 647, 653, 659, 661, 673, 677, 683, 691, 701, 709, 719, 727, 733, 739, 743, 751, 757, 761, 769, 773, 787, 797, 809, 811, 821, 823, 827, 829, 839, 853, 857, 859, 863, 877, 881, 883, 887, 907, 911, 919, 929, 937, 941, 947, 953, 967, 971, 977, 983, 991, 997, 1009, 1013, 1019, 1021, 1031, 1033, 1039, 1049, 1051, 1061, 1063, 1069, 1087, 1091, 1093, 1097, 1103, 1109, 1117, 1123, 1129, 1151, 1153, 1163, 1171, 1181, 1187, 1193, 1201, 1213, 1217, 1223, 1229, 1231, 1237, 1249, 1259, 1277, 1279, 1283, 1289, 1291, 1297, 1301, 1303, 1307, 1319, 1321, 1327, 1361, 1367, 1373, 1381, 1399, 1409, 1423, 1427, 1429, 1433, 1439, 1447, 1451, 1453, 1459, 1471, 1481, 1483, 1487, 1489, 1493, 1499, 1511, 1523, 1531, 1543, 1549, 1553, 1559, 1567, 1571, 1579, 1583, 1597, 1601, 1607, 1609, 1613, 1619, 1621, 1627, 1637, 1657, 1663, 1667, 1669, 1693, 1697, 1699, 1709, 1721, 1723, 1733, 1741, 1747, 1753, 1759, 1777, 1783, 1787, 1789, 1801, 1811, 1823, 1831, 1847, 1861, 1867, 1871, 1873, 1877, 1879, 1889, 1901, 1907, 1913, 1931, 1933, 1949, 1951, 1973, 1979, 1987, 1993, 1997, 1999, 2003, 2011, 2017, 2027, 2029, 2039, 2053, 2063, 2069, 2081, 2083, 2087, 2089, 2099, 2111, 2113, 2129, 2131, 2137, 2141, 2143, 2153, 2161, 2179, 2203, 2207, 2213, 2221, 2237, 2239, 2243, 2251, 2267, 2269, 2273, 2281, 2287, 2293, 2297, 2309, 2311, 2333, 2339, 2341, 2347, 2351, 2357, 2371, 2377, 2381, 2383, 2389, 2393, 2399, 2411, 2417, 2423, 2437, 2441, 2447, 2459, 2467, 2473, 2477, 2503, 2521, 2531, 2539, 2543, 2549, 2551, 2557, 2579, 2591, 2593, 2609, 2617, 2621, 2633, 2647, 2657, 2659, 2663, 2671, 2677, 2683, 2687, 2689, 2693, 2699, 2707, 2711, 2713, 2719, 2729, 2731, 2741, 2749, 2753, 2767, 2777, 2789, 2791, 2797, 2801, 2803, 2819, 2833, 2837, 2843, 2851, 2857, 2861, 2879, 2887, 2897, 2903, 2909, 2917, 2927, 2939, 2953, 2957, 2963, 2969, 2971, 2999, 3001, 3011, 3019, 3023, 3037, 3041, 3049, 3061, 3067, 3079, 3083, 3089, 3109, 3119, 3121, 3137, 3163, 3167, 3169, 3181, 3187, 3191, 3203, 3209, 3217, 3221, 3229, 3251, 3253, 3257, 3259, 3271, 3299, 3301, 3307, 3313, 3319, 3323, 3329, 3331, 3343, 3347, 3359, 3361, 3371, 3373, 3389, 3391, 3407, 3413, 3433, 3449, 3457, 3461, 3463, 3467, 3469, 3491, 3499, 3511, 3517, 3527, 3529, 3533, 3539, 3541, 3547, 3557, 3559, 3571, 3581, 3583, 3593, 3607, 3613, 3617, 3623, 3631, 3637, 3643, 3659, 3671, 3673, 3677, 3691, 3697, 3701, 3709, 3719, 3727, 3733, 3739, 3761, 3767, 3769, 3779, 3793, 3797, 3803, 3821, 3823, 3833, 3847, 3851, 3853, 3863, 3877, 3881, 3889, 3907, 3911, 3917, 3919, 3923, 3929, 3931, 3943, 3947, 3967, 3989, 4001, 4003, 4007, 4013, 4019, 4021, 4027, 4049, 4051, 4057, 4073, 4079, 4091, 4093, 4099, 4111, 4127, 4129, 4133, 4139, 4153, 4157, 4159, 4177, 4201, 4211, 4217, 4219, 4229, 4231, 4241, 4243, 4253, 4259, 4261, 4271, 4273, 4283, 4289, 4297, 4327, 4337, 4339, 4349, 4357, 4363, 4373, 4391, 4397, 4409, 4421, 4423, 4441, 4447, 4451, 4457, 4463, 4481, 4483, 4493, 4507, 4513, 4517, 4519, 4523, 4547, 4549, 4561, 4567, 4583, 4591, 4597, 4603, 4621, 4637, 4639, 4643, 4649, 4651, 4657, 4663, 4673, 4679, 4691, 4703, 4721, 4723, 4729, 4733, 4751, 4759, 4783, 4787, 4789, 4793, 4799, 4801, 4813, 4817, 4831, 4861, 4871, 4877, 4889, 4903, 4909, 4919, 4931, 4933, 4937, 4943, 4951, 4957, 4967, 4969, 4973, 4987, 4993, 4999]\n"
     ]
    }
   ],
   "source": [
    "let seive_output = seive_improved(5001 as usize).iter()\n",
    "                                                .enumerate()\n",
    "                                                .filter(|(counter, &x)| &x == &1u8)\n",
    "                                                .map(|(counter, _)| counter + 2 ).collect::<Vec<usize>>();\n",
    "println!(\"{:?}\", seive_output);"
   ]
  },
  {
   "cell_type": "code",
   "execution_count": 15,
   "metadata": {
    "ExecuteTime": {
     "end_time": "2021-09-08T19:08:45.538226396+00:00",
     "start_time": "2021-09-08T19:08:45.242Z"
    }
   },
   "outputs": [
    {
     "name": "stdout",
     "output_type": "stream",
     "text": [
      "17806309\n"
     ]
    }
   ],
   "source": [
    "println!(\"{}\", 4999*4999 + 283*283*283 + 67*67*67*67 - 50*1000000);"
   ]
  }
 ],
 "metadata": {
  "kernelspec": {
   "display_name": "Rust",
   "language": "rust",
   "name": "rust"
  },
  "language_info": {
   "codemirror_mode": "rust",
   "file_extension": ".rs",
   "mimetype": "text/rust",
   "name": "Rust",
   "pygment_lexer": "rust",
   "version": ""
  }
 },
 "nbformat": 4,
 "nbformat_minor": 4
}
