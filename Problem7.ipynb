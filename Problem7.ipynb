{
 "cells": [
  {
   "cell_type": "markdown",
   "metadata": {},
   "source": [
    "<h1> Problem 7 - 10 001st Prime Number </h1>\n",
    "\n",
    "By listing the first six prime numbers: $2$, $3$, $5$, $7$, $11$ and $13$. The sixth prime is $13$.\n",
    "\n",
    "What is the 10001st prime number?\n",
    "\n",
    "---\n"
   ]
  },
  {
   "cell_type": "markdown",
   "metadata": {},
   "source": [
    "The Sieve of Eratosthenes allows me to find all the prime numbers up to a certain number. However, I don't know how many prime numbers there will be up to that number. \n",
    "\n",
    "According to [wikipedia](https://en.wikipedia.org/wiki/Prime-counting_function), Gauss and Legendre conjectured that the number of primes less than or equal to $x$ is given by, \n",
    "\\begin{equation}\n",
    "    \\pi(x) \\approx \\frac{x}{\\ln{x}}\n",
    "\\end{equation}\n",
    "where $\\pi(x)$ is approximately the number of primes less than or equal to $x$. This was proved to be true by other mathematicians.\n",
    "\n",
    "Using this, I can approximate how large a number is required to find the 10001st prime, \n",
    "\\begin{equation*}\n",
    "    \\pi(.12 \\times 10^6) \\approx \\frac{.12 \\times 10^6}{\\ln{(.12 \\times 10^6)}} \\approx 10261\n",
    "\\end{equation*}"
   ]
  },
  {
   "cell_type": "code",
   "execution_count": 2,
   "metadata": {},
   "outputs": [],
   "source": [
    "fn seive(n: usize) -> Vec<u8> {\n",
    "    // Initialise aray of boolean values from 2 to n (shifted in implementation)\n",
    "    // i.e. index 0 = 2, index 1 = 3, ... etc\n",
    "    let mut out = vec![1u8; (n-2) as usize];\n",
    "    \n",
    "    // Max iteration number = sqrt(n)\n",
    "    let n_sqrt: usize = ((n as f64).sqrt() + 1.0) as usize;\n",
    "    \n",
    "    // For i = 2, ..., sqrt(n)\n",
    "    for i in 2..n_sqrt {\n",
    "        // if that index is true\n",
    "        if out[i-2] == 1u8 {\n",
    "            // Iterate over j = i^2, i^2 + i, ..., n\n",
    "            let mut k: usize = 0;\n",
    "            let mut j: usize = i*i + k*i; \n",
    "            while j < n {\n",
    "                out[j-2] = 0u8;\n",
    "                k += 1;\n",
    "                j = i*i + k*i;\n",
    "            }\n",
    "        }\n",
    "    }\n",
    "    out\n",
    "}\n"
   ]
  },
  {
   "cell_type": "code",
   "execution_count": 3,
   "metadata": {},
   "outputs": [],
   "source": [
    "fn find_nth_prime(n: u32, initial_guess: u32) -> Option<u32> {\n",
    "    let seive_output: Vec<u32> = seive(initial_guess as usize).iter().map(|&x| x as u32).collect();\n",
    "    let num_primes: u32 = seive_output.iter().sum();\n",
    "//     println!(\"{}\", num_primes);\n",
    "    let diff: u32 = num_primes - n;\n",
    "//     println!(\"{}\", diff);\n",
    "    let mut count_primes: u32 = 0;\n",
    "    for i in (0..(initial_guess-2)).rev() {\n",
    "//         println!(\"{}\", i);\n",
    "        if seive_output.get(i as usize).unwrap() == &1u32 {\n",
    "            if diff == count_primes {\n",
    "                return Some(i + 2);\n",
    "            }\n",
    "            count_primes += 1;\n",
    "        }\n",
    "    }\n",
    "    None\n",
    "}"
   ]
  },
  {
   "cell_type": "code",
   "execution_count": 4,
   "metadata": {},
   "outputs": [
    {
     "name": "stdout",
     "output_type": "stream",
     "text": [
      "The 10001st prime is 104743\n"
     ]
    }
   ],
   "source": [
    "let soln: u32 = find_nth_prime(10001, 120000).unwrap();\n",
    "println!(\"The 10001st prime is {}\", soln);"
   ]
  }
 ],
 "metadata": {
  "kernelspec": {
   "display_name": "Rust",
   "language": "rust",
   "name": "rust"
  },
  "language_info": {
   "codemirror_mode": "rust",
   "file_extension": ".rs",
   "mimetype": "text/rust",
   "name": "Rust",
   "pygment_lexer": "rust",
   "version": ""
  }
 },
 "nbformat": 4,
 "nbformat_minor": 4
}
