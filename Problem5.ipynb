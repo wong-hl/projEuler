{
 "cells": [
  {
   "cell_type": "markdown",
   "metadata": {},
   "source": [
    "<h1> Problem 5 - Smallest Multiple </h1>\n",
    "\n",
    "$2520$ is the smallest number that can be divided by each of the numbers from $1$ to $10$ without any remainder.\n",
    "\n",
    "What is the smallest positive number that can be _evenly divided_ by all numbers from $1$ to $20$."
   ]
  },
  {
   "cell_type": "markdown",
   "metadata": {},
   "source": [
    "Can I use the idea of the seive but backwards somehow?\n",
    "\n",
    "I know the largest multiple will be $20!$\n",
    "\n",
    "From the numbers in [1,20] what numbers are common multiples?\n",
    "\n",
    "For those in common with,\n",
    "- $2$: $2, 4, 6, 8, 10, 12, 14, 16, 18, 20$\n",
    "- $3$: $3, 6, 9, 12, 15, 18$\n",
    "- $5$: $5, 10, 15, 20$\n",
    "- $7$: $7, 14$\n",
    "- $11$: $11$\n",
    "- $13$: $13$\n",
    "- $17$: $17$\n",
    "- $19$: $19$"
   ]
  },
  {
   "cell_type": "code",
   "execution_count": 2,
   "metadata": {},
   "outputs": [
    {
     "name": "stdout",
     "output_type": "stream",
     "text": [
      "2520\n"
     ]
    }
   ],
   "source": [
    "let test: usize = 8*9*5*7;\n",
    "println!(\"{}\", test);"
   ]
  },
  {
   "cell_type": "code",
   "execution_count": 3,
   "metadata": {},
   "outputs": [],
   "source": [
    "fn check(in_num: usize, lb: usize, ub: usize) -> bool{\n",
    "    for i in lb..ub {\n",
    "        if in_num % i != 0 {\n",
    "            println!(\"The number {} is not divisible by {}\", in_num, i);\n",
    "            return false\n",
    "        }\n",
    "    }\n",
    "    true\n",
    "}"
   ]
  },
  {
   "cell_type": "code",
   "execution_count": 4,
   "metadata": {},
   "outputs": [
    {
     "name": "stdout",
     "output_type": "stream",
     "text": [
      "232792560 true\n"
     ]
    }
   ],
   "source": [
    "// let soln: usize = 17*13*11*14*15*18*19*8;\n",
    "let soln: usize = 8*2*9*5*7*11*13*17*19;\n",
    "let validate = check(soln, 1, 20);\n",
    "println!(\"{} {}\", soln, validate);"
   ]
  },
  {
   "cell_type": "markdown",
   "metadata": {},
   "source": [
    "Solved by systematically checking \n",
    "\n",
    "**But what was the logic?**\n",
    "\n",
    "Let's use 2520 as an example. It need to be divisible by, $1,2,3,4,5,6,7,8,9,10$. Amongst these, the primes are $2,3,5,7$. Therefore, at the minimum, the number needs to be $2\\times 3 \\times 5 \\times 7 = 210$. I also know that my number needs to be somehow divisible by $4,6,8,9$ as well. I can therefore, start making a smart guesses. "
   ]
  },
  {
   "cell_type": "markdown",
   "metadata": {},
   "source": [
    "Let's start with the smallest possible number "
   ]
  },
  {
   "cell_type": "code",
   "execution_count": 5,
   "metadata": {},
   "outputs": [
    {
     "name": "stdout",
     "output_type": "stream",
     "text": [
      "The number 210 is not divisible by 4\n"
     ]
    }
   ],
   "source": [
    "let sol: usize = 2*3*5*7;\n",
    "let valid = check(sol, 1, 10);\n",
    "// println!(\"{} {}\", sol, valid);"
   ]
  },
  {
   "cell_type": "markdown",
   "metadata": {},
   "source": [
    "Since, I know it is not divisble by $4$, the simples thing to do is to change $2$ into $4$"
   ]
  },
  {
   "cell_type": "code",
   "execution_count": 6,
   "metadata": {},
   "outputs": [
    {
     "name": "stdout",
     "output_type": "stream",
     "text": [
      "The number 420 is not divisible by 8\n"
     ]
    }
   ],
   "source": [
    "let sol: usize = 4*3*5*7;\n",
    "let valid = check(sol, 1, 10);\n",
    "// println!(\"{} {}\", sol, valid);"
   ]
  },
  {
   "cell_type": "markdown",
   "metadata": {},
   "source": [
    "But now, I need it to be divisible by 8, so I do the same change $4 \\rightarrow 8$"
   ]
  },
  {
   "cell_type": "code",
   "execution_count": 7,
   "metadata": {},
   "outputs": [
    {
     "name": "stdout",
     "output_type": "stream",
     "text": [
      "The number 840 is not divisible by 9\n"
     ]
    }
   ],
   "source": [
    "let sol: usize = 8*3*5*7;\n",
    "let valid = check(sol, 1, 10);\n",
    "// println!(\"{} {}\", sol, valid);"
   ]
  },
  {
   "cell_type": "markdown",
   "metadata": {},
   "source": [
    "Using the same logic, $3 \\rightarrow 9$."
   ]
  },
  {
   "cell_type": "code",
   "execution_count": 8,
   "metadata": {},
   "outputs": [
    {
     "name": "stdout",
     "output_type": "stream",
     "text": [
      "2520 true\n"
     ]
    }
   ],
   "source": [
    "let sol: usize = 8*9*5*7;\n",
    "let valid = check(sol, 1, 10);\n",
    "println!(\"{} {}\", sol, valid);"
   ]
  }
 ],
 "metadata": {
  "kernelspec": {
   "display_name": "Rust",
   "language": "rust",
   "name": "rust"
  },
  "language_info": {
   "codemirror_mode": "rust",
   "file_extension": ".rs",
   "mimetype": "text/rust",
   "name": "Rust",
   "pygment_lexer": "rust",
   "version": ""
  }
 },
 "nbformat": 4,
 "nbformat_minor": 4
}
