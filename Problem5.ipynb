{
 "cells": [
  {
   "cell_type": "markdown",
   "metadata": {},
   "source": [
    "<h1> Problem 5 - Smallest Multiple </h1>\n",
    "\n",
    "$2520$ is the smallest number that can be divided by each of the numbers from $1$ to $10$ without any remainder.\n",
    "\n",
    "What is the smallest positive number that can be _evenly divided_ by all numbers from $1$ to $20$."
   ]
  },
  {
   "cell_type": "markdown",
   "metadata": {},
   "source": [
    "Can I use the idea of the seive but backwards somehow?\n",
    "\n",
    "I know the largest multiple will be $20!$\n",
    "\n",
    "From the numbers in [1,20] what numbers are common multiples?\n",
    "\n",
    "For those in common with,\n",
    "- $2$: $2, 4, 6, 8, 10, 12, 14, 16, 18, 20$\n",
    "- $3$: $3, 6, 9, 12, 15, 18$\n",
    "- $5$: $5, 10, 15, 20$\n",
    "- $7$: $7, 14$\n",
    "- $11$: $11$\n",
    "- $13$: $13$\n",
    "- $17$: $17$\n",
    "- $19$: $19$"
   ]
  },
  {
   "cell_type": "code",
   "execution_count": 3,
   "metadata": {},
   "outputs": [
    {
     "name": "stdout",
     "output_type": "stream",
     "text": [
      "2520\n"
     ]
    }
   ],
   "source": [
    "let test: usize = 8*9*5*7;\n",
    "println!(\"{}\", test);"
   ]
  },
  {
   "cell_type": "code",
   "execution_count": 9,
   "metadata": {},
   "outputs": [],
   "source": [
    "fn check(in_num: usize, lb: usize, ub: usize) -> bool{\n",
    "    for i in lb..ub {\n",
    "        if in_num % i != 0 {\n",
    "            println!(\"{} {}\", in_num, i);\n",
    "            return false\n",
    "        }\n",
    "    }\n",
    "    true\n",
    "}"
   ]
  },
  {
   "cell_type": "code",
   "execution_count": 19,
   "metadata": {},
   "outputs": [
    {
     "name": "stdout",
     "output_type": "stream",
     "text": [
      "9699690 4\n",
      "9699690 false\n"
     ]
    }
   ],
   "source": [
    "// let soln: usize = 17*13*11*14*15*18*19*8;\n",
    "let soln: usize = 2*3*5*7*11*13*17*19;\n",
    "let test = check(soln, 1, 20);\n",
    "println!(\"{} {}\", soln,test);"
   ]
  },
  {
   "cell_type": "code",
   "execution_count": null,
   "metadata": {},
   "outputs": [],
   "source": []
  }
 ],
 "metadata": {
  "kernelspec": {
   "display_name": "Rust",
   "language": "rust",
   "name": "rust"
  },
  "language_info": {
   "codemirror_mode": "rust",
   "file_extension": ".rs",
   "mimetype": "text/rust",
   "name": "Rust",
   "pygment_lexer": "rust",
   "version": ""
  }
 },
 "nbformat": 4,
 "nbformat_minor": 4
}
