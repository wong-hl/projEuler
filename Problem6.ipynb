{
 "cells": [
  {
   "cell_type": "markdown",
   "metadata": {},
   "source": [
    "<h1> Problem 6 - Sum Square Difference </h1>\n",
    "\n",
    "The sum of sqaures of the first ten natural numbers is, \n",
    "$$\n",
    "    1^2 + 2^2 + \\ldots + 10^2 = 385\n",
    "$$\n",
    "The square of the sum of the first ten natural numbers is, \n",
    "$$\n",
    "    (1 + 2 + \\ldots + 10)^2 = 55^2 = 3025\n",
    "$$\n",
    "Hence, the difference between the sume of the square and the square of the sums of the first ten natural numbers is $3025 - 385 = 2640$.\n",
    "\n",
    "Find the difference between the sum of squares and the square of the sum for the first 100 natural numbers. \n",
    "\n",
    "---\n"
   ]
  },
  {
   "cell_type": "markdown",
   "metadata": {},
   "source": [
    "The sum of the first n square numbers, [wikipedia](https://en.wikipedia.org/wiki/Square_number), is given by,\n",
    "\\begin{equation}\n",
    "    \\sum_{n=1}^N n^2 = 1^2 + 2^2 + \\ldots + N^2 = \\frac{1}{6}(N(N+1)(2N+1))\n",
    "    \\label{eq: square sum}\n",
    "\\end{equation}\n",
    "The sum of an arithmetic series, [wikipedia](https://en.wikipedia.org/wiki/Arithmetic_progression) is given by,\n",
    "\\begin{equation}\n",
    "    S_n = \\frac{n}{2}(2 a_1 + (n-1)d)\n",
    "    \\label{eq: sum square}\n",
    "\\end{equation}\n",
    "where $a_1$ is the first term in the series and $d$ is the difference between the terms in the series.\n",
    "\n",
    "By substituiting, $a_1 = 1$ and $d=1$ for our current series, the relation simplifies to, \n",
    "\\begin{equation}\n",
    "    S_n = \\frac{n(n+1)}{2}\n",
    "\\end{equation}\n",
    "Since we want the difference, we can take Eqn \\ref{eq: sum square} - \\ref{eq: square sum}, to obtain, \n",
    "\\begin{align*}\n",
    "    x =& (\\frac{n(n+1)}{2})^2 - \\frac{1}{6}(n(n+1)(2n+1)) \\\\\n",
    "    = & \\frac{n(n+1)}{12}(3n(n+1)-2(2n+1)) \\\\\n",
    "    = & \\frac{n(n+1)(n-1)(3n+2)}{12}  \\\\\n",
    "    = & \\frac{n(n^2-1)(3n+2)}{12} \n",
    "\\end{align*}\n"
   ]
  },
  {
   "cell_type": "code",
   "execution_count": 4,
   "metadata": {},
   "outputs": [
    {
     "name": "stdout",
     "output_type": "stream",
     "text": [
      "The sum sqare difference for the first 100 natural numbers is 25164150\n"
     ]
    }
   ],
   "source": [
    "let n: f64 = 100.0;\n",
    "let sol = (n*(n*n -1.0)*(3.0*n + 2.0))*(1.0/12.0);\n",
    "println!(\"The sum sqare difference for the first {} natural numbers is {}\", n as u32, sol);"
   ]
  }
 ],
 "metadata": {
  "kernelspec": {
   "display_name": "Rust",
   "language": "rust",
   "name": "rust"
  },
  "language_info": {
   "codemirror_mode": "rust",
   "file_extension": ".rs",
   "mimetype": "text/rust",
   "name": "Rust",
   "pygment_lexer": "rust",
   "version": ""
  }
 },
 "nbformat": 4,
 "nbformat_minor": 4
}
