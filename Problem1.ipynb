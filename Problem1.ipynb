{
 "cells": [
  {
   "cell_type": "markdown",
   "metadata": {},
   "source": [
    "<h1>Problem 1 - Multiples of 3 and 5</h1>\n",
    "\n",
    "If we list all the natural numbers below 10 that are multiples of 3 or 5, we get, 3, 5, 6, and 9.\n",
    "\n",
    "The sum of these multiples is 23. \n",
    "\n",
    "Find the *sum* of all multiples of 3 or 5 below 1000.\n",
    "\n",
    "---\n"
   ]
  },
  {
   "cell_type": "markdown",
   "metadata": {},
   "source": [
    "I know the equation to efficiently sum 1 to 100, is given by, \n",
    "$$\n",
    "    \\sum_{i=1}^{100}i = (1 + 99) \\times 50\n",
    "$$\n",
    "therefore, I shall use this idea"
   ]
  },
  {
   "cell_type": "markdown",
   "metadata": {},
   "source": [
    "Note: `i32` or `u32` should be instead of `usize` is Rust conventions are to be followed"
   ]
  },
  {
   "cell_type": "code",
   "execution_count": 2,
   "metadata": {},
   "outputs": [],
   "source": [
    "fn sum_multiples(multiple: usize, mut upperbound: usize) -> usize {\n",
    "    // Natural to input such that the boundary is inclusive but the problem doesn't\n",
    "    // want the boundary \n",
    "    upperbound -= 1; \n",
    "    \n",
    "    // Integer division to find the number of pairs\n",
    "    let num_multiples: usize = upperbound/multiple;\n",
    "    \n",
    "    // Finds the arithmetic remainder\n",
    "    let is_even: usize = num_multiples % 2;\n",
    "//     println!(\"{}\", is_even);\n",
    "    \n",
    "    if is_even == 0{\n",
    "        // The number of pairs multiplied by the multiple is the largest multiple\n",
    "        let largest_multiple: usize = num_multiples*multiple;\n",
    "\n",
    "        // This is the sum of the largest and smallest value in the series to sum\n",
    "        let interior: usize = multiple + largest_multiple; \n",
    "        \n",
    "        return interior*(num_multiples/2);\n",
    "    } else{\n",
    "        // Instead of finding the middle, shift max by 1 \n",
    "        let largest_multiple: usize = (num_multiples-1)*multiple;\n",
    "        \n",
    "        let interior: usize = multiple + largest_multiple; \n",
    "        \n",
    "        return interior*(num_multiples/2) + num_multiples*multiple; \n",
    "    }\n",
    "}"
   ]
  },
  {
   "cell_type": "code",
   "execution_count": 3,
   "metadata": {},
   "outputs": [
    {
     "name": "stdout",
     "output_type": "stream",
     "text": [
      "99500\n",
      "166833\n"
     ]
    }
   ],
   "source": [
    "// Verification that my function is behaving accordingly \n",
    "// Smallest multiple of 5 = 5, largest multiple of 5 = 995\n",
    "let interior_five: usize = 5 + 990;\n",
    "let num_multiples_five: usize = 999/5;\n",
    "let sum_five: usize = interior_five*(num_multiples_five/2) + 995;\n",
    "let interior_three: usize = 3 + 996;\n",
    "let num_multiples_three: usize = 999/3;\n",
    "let sum_three: usize = interior_three*(num_multiples_three/2) + 999;\n",
    "println!(\"{}\", sum_five);\n",
    "println!(\"{}\", sum_three);"
   ]
  },
  {
   "cell_type": "code",
   "execution_count": 4,
   "metadata": {},
   "outputs": [
    {
     "name": "stdout",
     "output_type": "stream",
     "text": [
      "Sum of Multiples of 5 = 99500\n",
      "Sum of Multiples of 3 = 166833\n"
     ]
    }
   ],
   "source": [
    "let sum_fives = sum_multiples(5, 1000);\n",
    "let sum_threes = sum_multiples(3, 1000);\n",
    "println!(\"Sum of Multiples of 5 = {}\", sum_fives);\n",
    "println!(\"Sum of Multiples of 3 = {}\", sum_threes);"
   ]
  },
  {
   "cell_type": "markdown",
   "metadata": {},
   "source": [
    "Now, I know the sum of all my 3 and 5 multiples, I just need to remove the overlaps.\n",
    "\n",
    "Why remove overlaps? Well, I've summed _all_ the multiples of 3 and _all_ the multiples of 5. This means that I've double counted numbers that are a multiple of 3 and 5. \n",
    "\n",
    "The lowest common multiple of 3 and 5 is 15. Therefore, I just need to find the sum multiples for 15 and remove one set of them."
   ]
  },
  {
   "cell_type": "code",
   "execution_count": 5,
   "metadata": {},
   "outputs": [
    {
     "name": "stdout",
     "output_type": "stream",
     "text": [
      "Sum of Multiples of 15 = 33165\n"
     ]
    }
   ],
   "source": [
    "let sum_fifteen = sum_multiples(15, 1000);\n",
    "println!(\"Sum of Multiples of 15 = {}\", sum_fifteen);"
   ]
  },
  {
   "cell_type": "code",
   "execution_count": 6,
   "metadata": {},
   "outputs": [
    {
     "name": "stdout",
     "output_type": "stream",
     "text": [
      "Final Solution = 233168\n"
     ]
    }
   ],
   "source": [
    "let soln = sum_fives + sum_threes - sum_fifteen;\n",
    "println!(\"Final Solution = {}\", soln);"
   ]
  }
 ],
 "metadata": {
  "kernelspec": {
   "display_name": "Rust",
   "language": "rust",
   "name": "rust"
  },
  "language_info": {
   "codemirror_mode": "rust",
   "file_extension": ".rs",
   "mimetype": "text/rust",
   "name": "Rust",
   "pygment_lexer": "rust",
   "version": ""
  }
 },
 "nbformat": 4,
 "nbformat_minor": 4
}
