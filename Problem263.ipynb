{
 "cells": [
  {
   "cell_type": "markdown",
   "metadata": {},
   "source": [
    "<h1> Problem 263 - An Engineers' Dream Come True </h1>\n",
    "\n",
    "Consider the number $6$. The divisors of $6$ are: $1$, $2$, $3$ and $6$.\n",
    "\n",
    "Every number from $1$ up to and including $6$ can be written as a sum of distinct divisors of 6, \n",
    "\\begin{gather*}\n",
    "    1 = 1 \\qquad 2 = 2 \\qquad 3 = 1+ 2 \\\\\n",
    "    4 = 1 + 3 \\qquad 5 = 2+3 \\qquad 6 = 6\n",
    "\\end{gather*}\n",
    "\n",
    "A practical number, $n$, is defined as one if every number from $1$ up to and including $n$ can be expressed as a sum of distinct divisors of $n$.\n",
    "\n",
    "A sexy pair is defined as, a pair of consecutive prime numbers with a difference of six. \n",
    "\n",
    "A triple pair is defined as, three consecutive sexy prime pairs. Such that, the second member of each pair is the first memeber of the next pair. \n",
    "\n",
    "If the number $n$ fulfills, \n",
    "- $(n-9, n-3)$, $(n-3, n+3)$, $(n+3, n+9)$ to form a triple pair *and*\n",
    "- $n-8$, $n-4$, $n$, $n-8$, $n-8$"
   ]
  },
  {
   "cell_type": "code",
   "execution_count": null,
   "metadata": {},
   "outputs": [],
   "source": []
  },
  {
   "cell_type": "code",
   "execution_count": null,
   "metadata": {},
   "outputs": [],
   "source": []
  },
  {
   "cell_type": "code",
   "execution_count": null,
   "metadata": {},
   "outputs": [],
   "source": []
  },
  {
   "cell_type": "code",
   "execution_count": null,
   "metadata": {},
   "outputs": [],
   "source": []
  }
 ],
 "metadata": {
  "kernelspec": {
   "display_name": "Rust",
   "language": "rust",
   "name": "rust"
  },
  "language_info": {
   "codemirror_mode": "rust",
   "file_extension": ".rs",
   "mimetype": "text/rust",
   "name": "Rust",
   "pygment_lexer": "rust",
   "version": ""
  }
 },
 "nbformat": 4,
 "nbformat_minor": 4
}
