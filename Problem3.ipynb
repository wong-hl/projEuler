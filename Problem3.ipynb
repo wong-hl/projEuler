{
 "cells": [
  {
   "cell_type": "markdown",
   "metadata": {},
   "source": [
    "<h1> Problem 3 - Largest Prime Factor </h1>\n",
    "\n",
    "The prime factors of $13195$ are $5$, $7$, $13$, and $29$. \n",
    "\n",
    "What is the largest prime factor of the number $600851475143$?"
   ]
  },
  {
   "cell_type": "markdown",
   "metadata": {},
   "source": [
    "<h2> Factorisation </h2>\n",
    "\n",
    "The first part of the solution will use Fermat's Factorisation Method. For details, refer to [wikipedia Fermat's Factorisation Method](https://en.wikipedia.org/wiki/Fermat's_factorization_method). \n",
    "\n",
    "Based on the representation of an odd integer as a difference of two squares,\n",
    "$$\n",
    "    N = a^2 - b^2 = (a+b) (a-b)\n",
    "$$\n",
    "If neither $a$ nor $b$ is equal to $1$, then it is a proper factorisation of N"
   ]
  },
  {
   "cell_type": "code",
   "execution_count": 2,
   "metadata": {},
   "outputs": [],
   "source": [
    "fn gcd(mut a: usize, mut b: usize) -> usize{\n",
    "    let mut remainder;\n",
    "    while b!= 0 {\n",
    "        remainder = a % b;\n",
    "        a = b;\n",
    "        b = remainder;\n",
    "    };\n",
    "    a\n",
    "}"
   ]
  },
  {
   "cell_type": "code",
   "execution_count": 3,
   "metadata": {},
   "outputs": [],
   "source": [
    "// I don't know how to declare 10^-9 in const for Rust \n",
    "const EPSILON: f64 = 0.000001;\n",
    "\n",
    "/// Function to test if input is square\n",
    "fn is_square(n: f64) -> bool{\n",
    "    //  Get square root of term\n",
    "    let n_sqrt = n.sqrt();\n",
    "    //  Get whole number portion of squareroot\n",
    "    let whole = n_sqrt as usize;\n",
    "    let whole = whole as f64;\n",
    "    \n",
    "    if n_sqrt < whole + EPSILON && n_sqrt > whole - EPSILON{\n",
    "        return true;\n",
    "    };\n",
    "    false\n",
    "}\n",
    "\n",
    "/// Naive Fermat factorisation method \n",
    "fn naive(n: usize) -> (usize, usize) {\n",
    "    let n_f = n as f64;\n",
    "    let mut a = n_f.sqrt().ceil();\n",
    "    let mut b2 = a*a - n_f;\n",
    "    \n",
    "    while ! is_square(b2){\n",
    "        a += 1.0;\n",
    "        b2 = a*a - n_f\n",
    "    };\n",
    "    \n",
    "//     println!(\"{}\", b2);\n",
    "    \n",
    "    let out: (usize, usize) = ((a-b2.sqrt()) as usize, (a + b2.sqrt()) as usize);\n",
    "    out\n",
    "}"
   ]
  },
  {
   "cell_type": "markdown",
   "metadata": {},
   "source": [
    "<!-- This method is great! But it doesn't find the prime factors, just the factorisation of the number -->"
   ]
  },
  {
   "cell_type": "markdown",
   "metadata": {},
   "source": [
    "<h2> Find Prime Numbers </h2>\n",
    "\n",
    "The second part of this solution uses the Seive of Eratosthenes [wikipedia Sieve of Eratosthenes](https://en.wikipedia.org/wiki/Sieve_of_Eratosthenes). It is an ancient method to find all of the prime numbers up to $n$.\n",
    "\n",
    "It has a time complexity of $\\mathcal{O}(n \\log{\\log{n}})$.\n",
    "\n",
    "Annoyingly, I can't find a function that is equivalent to `np.argwhere(x==True)` to get the indices of array with `true`. Therefore, I've created a function to do this for me. \n",
    "\n",
    "N.B.: This Seive method is such that only the final output array can be used to determine which numbers are prime. Therefore, it can't be determined within the loop (of the seive) which numbers will be prime"
   ]
  },
  {
   "cell_type": "code",
   "execution_count": 4,
   "metadata": {},
   "outputs": [],
   "source": [
    "// Interestingly, the rust lang book says that i32 should be default but here the RustFmt, keeps recommending\n",
    "// that I use usize instead so I'll use that :) \n",
    "\n",
    "fn seive(n: usize) -> Vec<bool> {\n",
    "    // Initialise aray of boolean values from 2 to n (shifted in implementation)\n",
    "    // i.e. index 0 = 2, index 1 = 3, ... etc\n",
    "    let mut out = vec![true; (n-2) as usize];\n",
    "    \n",
    "    // Max iteration number = sqrt(n)\n",
    "    let n_sqrt: usize = ((n as f64).sqrt() + 1.0) as usize;\n",
    "//     println!(\"{}\", n_sqrt);\n",
    "    \n",
    "    // For i = 2, ..., sqrt(n)\n",
    "    for i in 2..n_sqrt {\n",
    "        // if that index is true\n",
    "        if out[i-2] == true {\n",
    "            // Iterate over j = i^2, i^2 + i, ..., n\n",
    "            let mut k: usize = 0;\n",
    "            let mut j: usize = i*i + k*i; \n",
    "//             println!(\"{}\", n);\n",
    "            while j < n {\n",
    "                out[j-2] = false;\n",
    "//                 println!(\"{}, {}\", k, j);\n",
    "                k += 1;\n",
    "                j = i*i + k*i;\n",
    "            }\n",
    "        }\n",
    "    }\n",
    "    out\n",
    "}\n",
    "\n",
    "\n",
    "use std::iter\n",
    "\n",
    "fn get_prime_numbers(input: Vec<bool>) -> Vec<usize> {\n",
    "    let mut prime_numbers: Vec<usize> = Vec::new();\n",
    "    let num: usize = input.len();\n",
    "    \n",
    "    // Iterate over the entire array (output of seive)\n",
    "    for i in 0..num {\n",
    "        // If it is true => prime number\n",
    "        if input[i] == true {\n",
    "            // Add the prime number to the output vector\n",
    "            // The indices are offset by 2\n",
    "             prime_numbers.push(i+2);\n",
    "        }\n",
    "    }\n",
    "    prime_numbers\n",
    "}\n",
    "\n",
    "fn get_largest_prime_factor(number: usize, primes: Vec<usize>) -> usize {\n",
    "    // Get the total length of the vector of primes \n",
    "    // This is the total number of primes for the largest multiple\n",
    "    let n: usize = primes.len();\n",
    "    \n",
    "    // Initialise output\n",
    "    let mut out: usize = 0;\n",
    "    \n",
    "    // Iterate starting from the back to get largest multiple\n",
    "    for i in (0..n).rev() {\n",
    "        // If the number we desire can be divided nicely by the prime number, \n",
    "        // Deem it to be the largest prime factor and return (exit function)\n",
    "        if number % primes[i] == 0 {\n",
    "            return primes[i];\n",
    "        }\n",
    "    }\n",
    "    out\n",
    "}"
   ]
  },
  {
   "cell_type": "markdown",
   "metadata": {},
   "source": [
    "<h2> How does this method work? </h2>\n",
    "\n",
    "1. Take the number and split it into its two largest multiples, $(a-b)(a+b)$. This uses the Fermat Factorisation Method \n",
    "2. Using the larger of the two multiples, $a+b$, find all of the prime numbers up to $a+b$. As I am unable to find an in-built method within Rust to get the indices of the vector that are true, `get_prime_numbers` is a function that does that. \n",
    "3. The largest prime factor is found by, starting with the largest prime number, divide the desired number by the prime. The first number that is able to divide the desired number without any remainder is the largest prime factor.\n",
    "\n",
    "**Why bother finding the two largest multiples?**\n",
    "\n",
    "I don't know if it works out to be computationally cheaper. But, intuitively, it makes sense to first make the desired number smaller, then find all the primes up to that number. \n",
    "\n",
    "**Why the largest of the two multiples?**\n",
    "\n",
    "That's to be safe. It's possible that the largest prime factor will lie in within $[a-b, a+b]$."
   ]
  },
  {
   "cell_type": "code",
   "execution_count": 5,
   "metadata": {},
   "outputs": [
    {
     "name": "stdout",
     "output_type": "stream",
     "text": [
      "The largest prime factor is 6857\n"
     ]
    }
   ],
   "source": [
    "// let desired_number: usize = 13195;\n",
    "let desired_number: usize = 600851475143;\n",
    "\n",
    "// By definition, naive returns a-b, a+b\n",
    "// Therefore, x2 is always larger\n",
    "let (x1, x2) = naive(desired_number);\n",
    "\n",
    "// Using the larger of the two multiples, find all the primes of it\n",
    "let seive_output: Vec<bool> = seive(x2);\n",
    "// println!(\"{:?}\", seive_output);\n",
    "let prime_nums: Vec<usize> = get_prime_numbers(seive_output);\n",
    "// println!(\"{:?}\", prime_nums);\n",
    "\n",
    "// Get the largest prime factor\n",
    "let num: usize = get_largest_prime_factor(desired_number, prime_nums);\n",
    "println!(\"The largest prime factor is {}\", num);"
   ]
  }
 ],
 "metadata": {
  "kernelspec": {
   "display_name": "Rust",
   "language": "rust",
   "name": "rust"
  },
  "language_info": {
   "codemirror_mode": "rust",
   "file_extension": ".rs",
   "mimetype": "text/rust",
   "name": "Rust",
   "pygment_lexer": "rust",
   "version": ""
  }
 },
 "nbformat": 4,
 "nbformat_minor": 4
}
