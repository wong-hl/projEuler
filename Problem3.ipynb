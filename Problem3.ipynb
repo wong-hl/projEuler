{
 "cells": [
  {
   "cell_type": "markdown",
   "metadata": {},
   "source": [
    "<h1> Problem 3 - Largest Prime Factor </h1>\n",
    "\n",
    "The prime factors of $13195$ are $5$, $7$, $13$, and $29$. \n",
    "\n",
    "What is the largest prime factor of the number $600851475143$?"
   ]
  },
  {
   "cell_type": "markdown",
   "metadata": {},
   "source": [
    "This solution will use Fermat's Factorisation Method. For details, refer to [wikipedia Fermat's Factorisation Method](https://en.wikipedia.org/wiki/Fermat's_factorization_method). \n",
    "\n",
    "Based on the representation of an odd integer as a difference of two squares,\n",
    "$$\n",
    "    N = a^2 - b^2 = (a+b) (a-b)\n",
    "$$\n",
    "If neither $a$ nor $b$ is equal to $1$, then it is a proper factorisation of N"
   ]
  },
  {
   "cell_type": "code",
   "execution_count": 2,
   "metadata": {},
   "outputs": [],
   "source": [
    "fn gcd(mut a: usize, mut b: usize) -> usize{\n",
    "    let mut remainder;\n",
    "    while b!= 0 {\n",
    "        remainder = a % b;\n",
    "        a = b;\n",
    "        b = remainder;\n",
    "    };\n",
    "    a\n",
    "}"
   ]
  },
  {
   "cell_type": "code",
   "execution_count": 4,
   "metadata": {},
   "outputs": [],
   "source": [
    "// I don't know how to declare 10^-9 in const for Rust \n",
    "const EPSILON: f64 = 0.000001;\n",
    "\n",
    "// Test if input is square\n",
    "fn is_square(n: f64) -> bool{\n",
    "    //  Get square root of term\n",
    "    let n_sqrt = n.sqrt();\n",
    "    //  Get whole number portion of squareroot\n",
    "    let whole = n_sqrt as usize;\n",
    "    let whole = n_sqrt as f64;\n",
    "    \n",
    "    if n_sqrt < whole + EPSILON && n_sqrt > whole - EPSILON{\n",
    "        return true;\n",
    "    };\n",
    "    false\n",
    "}\n",
    "\n",
    "fn naive(n: usize) -> (usize, usize) {\n",
    "    let n_f= n as f64;\n",
    "    let mut a = n_f.sqrt().ceil();\n",
    "    let mut b2 = a*a - n_f;\n",
    "    \n",
    "    while ! is_square(b2){\n",
    "        a += 1.0;\n",
    "        b2 = a*a - n_f\n",
    "    };\n",
    "    \n",
    "    let out: (usize, usize) = ((a-b2.sqrt()) as usize, (a + b2.sqrt()) as usize);\n",
    "    out\n",
    "}"
   ]
  },
  {
   "cell_type": "code",
   "execution_count": 10,
   "metadata": {},
   "outputs": [
    {
     "name": "stdout",
     "output_type": "stream",
     "text": [
      "109 120\n"
     ]
    },
    {
     "data": {
      "text/plain": [
       "()"
      ]
     },
     "execution_count": 10,
     "metadata": {},
     "output_type": "execute_result"
    }
   ],
   "source": [
    "let (x1, x2) = naive(13195);\n",
    "println!(\"{} {}\", x1, x2)"
   ]
  }
 ],
 "metadata": {
  "kernelspec": {
   "display_name": "Rust",
   "language": "rust",
   "name": "rust"
  },
  "language_info": {
   "codemirror_mode": "rust",
   "file_extension": ".rs",
   "mimetype": "text/rust",
   "name": "Rust",
   "pygment_lexer": "rust",
   "version": ""
  }
 },
 "nbformat": 4,
 "nbformat_minor": 4
}
