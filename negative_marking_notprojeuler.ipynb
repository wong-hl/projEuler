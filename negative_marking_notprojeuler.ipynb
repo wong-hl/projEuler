{
 "cells": [
  {
   "cell_type": "markdown",
   "metadata": {},
   "source": [
    "# Negative Marking"
   ]
  },
  {
   "cell_type": "markdown",
   "metadata": {},
   "source": [
    "\n",
    "---\n",
    "\n",
    "Short fun script to figure out how what mark guessing would give."
   ]
  },
  {
   "cell_type": "markdown",
   "metadata": {},
   "source": [
    "## Use random number generator crate "
   ]
  },
  {
   "cell_type": "code",
   "execution_count": 2,
   "metadata": {
    "ExecuteTime": {
     "end_time": "2021-09-01T10:50:22.026300566+00:00",
     "start_time": "2021-09-01T10:50:17.548Z"
    }
   },
   "outputs": [],
   "source": [
    "extern crate rand;\n",
    "use rand::distributions::{Distribution, Uniform};\n",
    "use rand::{thread_rng,Rng};\n",
    "use rand::seq::SliceRandom;"
   ]
  },
  {
   "cell_type": "markdown",
   "metadata": {},
   "source": [
    "## Generate a set of random responses"
   ]
  },
  {
   "cell_type": "code",
   "execution_count": 17,
   "metadata": {
    "ExecuteTime": {
     "end_time": "2021-09-01T11:04:06.315500031+00:00",
     "start_time": "2021-09-01T11:04:06.098Z"
    }
   },
   "outputs": [],
   "source": [
    "fn generate_random_answers(num_questions: usize, num_options: u8) -> Vec<u8> {\n",
    "    // Initialise uniform distribution between 1 and 4\n",
    "    let between = Uniform::new(1_u8, 1 + num_options);\n",
    "    \n",
    "    // Generate 30 \"answers\"\n",
    "    thread_rng().sample_iter(&between).take(num_questions).collect::<Vec<u8>>()\n",
    "}"
   ]
  },
  {
   "cell_type": "code",
   "execution_count": 4,
   "metadata": {
    "ExecuteTime": {
     "end_time": "2021-09-01T10:50:23.708310196+00:00",
     "start_time": "2021-09-01T10:50:17.555Z"
    }
   },
   "outputs": [
    {
     "name": "stdout",
     "output_type": "stream",
     "text": [
      "[4, 4, 4, 1, 3, 1, 4, 4, 1, 3, 4, 4, 4, 3, 1, 4, 3, 4, 2, 4, 1, 3, 2, 1, 4, 2, 1, 3, 4, 4]\n"
     ]
    }
   ],
   "source": [
    "let a = generate_random_answers(30, 4);\n",
    "println!(\"{:?}\", a);"
   ]
  },
  {
   "cell_type": "markdown",
   "metadata": {},
   "source": [
    "## Allocate marks"
   ]
  },
  {
   "cell_type": "code",
   "execution_count": 5,
   "metadata": {
    "ExecuteTime": {
     "end_time": "2021-09-01T10:50:23.952296097+00:00",
     "start_time": "2021-09-01T10:50:17.558Z"
    }
   },
   "outputs": [],
   "source": [
    "fn allocate_marks(num_one_mark: usize, num_two_mark: usize) -> Vec<u8> {\n",
    "    let mut marks = vec![1_u8; num_one_mark];\n",
    "    let twos = vec![2_u8; num_two_mark];\n",
    "    \n",
    "    marks.extend(twos);\n",
    "    \n",
    "    let mut rng = thread_rng();\n",
    "    marks.shuffle(&mut rng);\n",
    "    \n",
    "    marks\n",
    "}"
   ]
  },
  {
   "cell_type": "code",
   "execution_count": 6,
   "metadata": {
    "ExecuteTime": {
     "end_time": "2021-09-01T10:50:24.635669558+00:00",
     "start_time": "2021-09-01T10:50:17.560Z"
    }
   },
   "outputs": [
    {
     "name": "stdout",
     "output_type": "stream",
     "text": [
      "[2, 1, 1, 1, 2, 2, 1, 1, 1, 1, 2, 2, 1, 1, 1, 1, 1, 2, 2, 1, 2, 1, 1, 1, 1, 1, 2, 2, 1, 1]\n"
     ]
    }
   ],
   "source": [
    "let b = allocate_marks(20, 10);\n",
    "println!(\"{:?}\", b);"
   ]
  },
  {
   "cell_type": "markdown",
   "metadata": {},
   "source": [
    "## Create a scenario"
   ]
  },
  {
   "cell_type": "code",
   "execution_count": 72,
   "metadata": {
    "ExecuteTime": {
     "end_time": "2021-09-01T11:36:13.571461749+00:00",
     "start_time": "2021-09-01T11:36:13.187Z"
    }
   },
   "outputs": [],
   "source": [
    "fn scenario(num_questions: usize, num_options: u8, num_one_mark: usize, \n",
    "            num_two_mark: usize, num_times: usize, penalty: f64) -> f64 \n",
    "{\n",
    "    // Ensure penality is positive\n",
    "    let updated_penalty;\n",
    "    \n",
    "    if penalty < 0.0 {\n",
    "        updated_penalty = -1.0*penalty\n",
    "    } else {\n",
    "        updated_penalty = penalty\n",
    "    }\n",
    "    \n",
    "    // Randomly allocate correct answers and marks\n",
    "    let correct_answers = generate_random_answers(num_questions, num_options);\n",
    "    let mark_allocation = allocate_marks(num_one_mark, num_two_mark);\n",
    "    \n",
    "    // Combine answers and marks for easy comparison at next step\n",
    "    let answer_and_marks = correct_answers.iter().zip(mark_allocation.iter());\n",
    "    \n",
    "    // If correct answer, allocate mark. Else, implement penalty\n",
    "    let total_scores: f64 = (0..num_times).fold(0_f64, |scores_sum, _| \n",
    "        scores_sum + answer_and_marks.clone()\n",
    "                                      .zip(generate_random_answers(num_questions, num_options).iter())\n",
    "                                      .fold(0_f64, |test_sum, values| \n",
    "                                          if values.0.0 == values.1 {\n",
    "                                              test_sum + *values.0.1 as f64\n",
    "                                          } else {\n",
    "                                              test_sum - updated_penalty\n",
    "                                          })\n",
    "    );\n",
    "    \n",
    "    total_scores/(num_times as f64)\n",
    "}"
   ]
  },
  {
   "cell_type": "code",
   "execution_count": 71,
   "metadata": {
    "ExecuteTime": {
     "end_time": "2021-09-01T11:36:03.441308986+00:00",
     "start_time": "2021-09-01T11:36:02.696Z"
    }
   },
   "outputs": [
    {
     "name": "stdout",
     "output_type": "stream",
     "text": [
      "-1.24887\n"
     ]
    }
   ],
   "source": [
    "let num_questions = 30;\n",
    "let num_options = 4;\n",
    "let num_one_mark = 20;\n",
    "let num_two_mark = 10;\n",
    "let num_times = 1000000;\n",
    "let penalty = 0.5;\n",
    "let test = scenario(num_questions, num_options, num_one_mark, num_two_mark, num_times, penalty);\n",
    "println!(\"{:?}\", test);\n",
    "\n"
   ]
  }
 ],
 "metadata": {
  "kernelspec": {
   "display_name": "Rust",
   "language": "rust",
   "name": "rust"
  },
  "language_info": {
   "codemirror_mode": "rust",
   "file_extension": ".rs",
   "mimetype": "text/rust",
   "name": "Rust",
   "pygment_lexer": "rust",
   "version": ""
  }
 },
 "nbformat": 4,
 "nbformat_minor": 4
}
