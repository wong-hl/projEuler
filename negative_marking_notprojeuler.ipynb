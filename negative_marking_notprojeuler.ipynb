{
 "cells": [
  {
   "cell_type": "markdown",
   "metadata": {},
   "source": [
    "# Guessing with Negative Marking"
   ]
  },
  {
   "cell_type": "markdown",
   "metadata": {},
   "source": [
    "\n",
    "---\n"
   ]
  },
  {
   "cell_type": "markdown",
   "metadata": {},
   "source": [
    "## Use random number generator crate "
   ]
  },
  {
   "cell_type": "code",
   "execution_count": 2,
   "metadata": {
    "ExecuteTime": {
     "end_time": "2021-09-01T12:30:36.462540142+00:00",
     "start_time": "2021-09-01T12:30:31.219Z"
    }
   },
   "outputs": [],
   "source": [
    "extern crate rand;\n",
    "use rand::distributions::{Distribution, Uniform};\n",
    "use rand::{thread_rng,Rng};\n",
    "use rand::seq::SliceRandom;"
   ]
  },
  {
   "cell_type": "markdown",
   "metadata": {},
   "source": [
    "## Generate a set of random responses"
   ]
  },
  {
   "cell_type": "code",
   "execution_count": 3,
   "metadata": {
    "ExecuteTime": {
     "end_time": "2021-09-01T12:30:36.709708647+00:00",
     "start_time": "2021-09-01T12:30:31.223Z"
    }
   },
   "outputs": [],
   "source": [
    "fn generate_random_answers(num_questions: usize, num_options: u8, can_skip: bool) -> Vec<u8> {\n",
    "    let between;\n",
    "    \n",
    "    if can_skip {\n",
    "        // Initialise uniform distribution between 0 and 4\n",
    "        between = Uniform::new(0_u8, 1 + num_options);\n",
    "    } else {\n",
    "        // Initialise uniform distribution between 1 and 4\n",
    "        between = Uniform::new(1_u8, 1 + num_options);\n",
    "    }\n",
    "    \n",
    "    // Generate 30 \"answers\"\n",
    "    thread_rng().sample_iter(&between).take(num_questions).collect::<Vec<u8>>()\n",
    "}"
   ]
  },
  {
   "cell_type": "code",
   "execution_count": 4,
   "metadata": {
    "ExecuteTime": {
     "end_time": "2021-09-01T12:30:38.241537679+00:00",
     "start_time": "2021-09-01T12:30:31.224Z"
    }
   },
   "outputs": [
    {
     "name": "stdout",
     "output_type": "stream",
     "text": [
      "[4, 2, 3, 2, 3, 4, 1, 3, 3, 1, 3, 3, 2, 2, 2, 2, 3, 4, 2, 3, 4, 3, 1, 1, 3, 3, 2, 1, 2, 4]\n"
     ]
    }
   ],
   "source": [
    "let a = generate_random_answers(30, 4, false);\n",
    "println!(\"{:?}\", a);"
   ]
  },
  {
   "cell_type": "markdown",
   "metadata": {},
   "source": [
    "## Allocate marks"
   ]
  },
  {
   "cell_type": "code",
   "execution_count": 5,
   "metadata": {
    "ExecuteTime": {
     "end_time": "2021-09-01T12:30:38.483269549+00:00",
     "start_time": "2021-09-01T12:30:31.227Z"
    }
   },
   "outputs": [],
   "source": [
    "fn allocate_marks(num_one_mark: usize, num_two_mark: usize) -> Vec<u8> {\n",
    "    let mut marks = vec![1_u8; num_one_mark];\n",
    "    let twos = vec![2_u8; num_two_mark];\n",
    "    \n",
    "    marks.extend(twos);\n",
    "    \n",
    "    let mut rng = thread_rng();\n",
    "    marks.shuffle(&mut rng);\n",
    "    \n",
    "    marks\n",
    "}"
   ]
  },
  {
   "cell_type": "code",
   "execution_count": 6,
   "metadata": {
    "ExecuteTime": {
     "end_time": "2021-09-01T12:30:39.206256811+00:00",
     "start_time": "2021-09-01T12:30:31.228Z"
    }
   },
   "outputs": [
    {
     "name": "stdout",
     "output_type": "stream",
     "text": [
      "[1, 2, 2, 2, 2, 2, 2, 1, 1, 1, 1, 1, 1, 2, 1, 1, 2, 1, 1, 1, 1, 2, 1, 1, 1, 1, 2, 1, 1, 1]\n"
     ]
    }
   ],
   "source": [
    "let b = allocate_marks(20, 10);\n",
    "println!(\"{:?}\", b);"
   ]
  },
  {
   "cell_type": "markdown",
   "metadata": {},
   "source": [
    "## Create a scenario"
   ]
  },
  {
   "cell_type": "code",
   "execution_count": 7,
   "metadata": {
    "ExecuteTime": {
     "end_time": "2021-09-01T12:30:39.481907666+00:00",
     "start_time": "2021-09-01T12:30:31.231Z"
    }
   },
   "outputs": [],
   "source": [
    "fn scenario(num_questions: usize, num_options: u8, num_one_mark: usize, \n",
    "            num_two_mark: usize, num_times: usize, penalty: f64, \n",
    "            enable_skip: bool) -> f64 \n",
    "{\n",
    "    // Ensure penality is positive\n",
    "    let updated_penalty;\n",
    "    \n",
    "    if penalty < 0.0 {\n",
    "        updated_penalty = -1.0*penalty\n",
    "    } else {\n",
    "        updated_penalty = penalty\n",
    "    }\n",
    "    \n",
    "    // Randomly allocate correct answers and marks\n",
    "    let correct_answers = generate_random_answers(num_questions, num_options, false);\n",
    "    let mark_allocation = allocate_marks(num_one_mark, num_two_mark);\n",
    "    \n",
    "    // Combine answers and marks for easy comparison at next step\n",
    "    let answer_and_marks = correct_answers.iter().zip(mark_allocation.iter());\n",
    "    \n",
    "    // If correct answer, allocate mark. Else, implement penalty\n",
    "    let total_scores: f64 = (0..num_times).fold(0.0_f64, |scores_sum, _| \n",
    "        match answer_and_marks.clone().zip(generate_random_answers(num_questions, num_options, enable_skip)\n",
    "                                          .iter())\n",
    "                                      .fold(0.0_f64, |test_sum, values| \n",
    "                                          if values.0.0 == values.1 {\n",
    "                                              test_sum + *values.0.1 as f64\n",
    "                                          } else if values.1 == &0_u8 {\n",
    "                                              test_sum \n",
    "                                          }\n",
    "                                          else {\n",
    "                                              test_sum - updated_penalty\n",
    "                                          })\n",
    "        {\n",
    "            score if score >= 0.0_f64 => scores_sum + score,\n",
    "            _ => scores_sum,\n",
    "        }\n",
    "        );\n",
    "    \n",
    "    total_scores/(num_times as f64)\n",
    "}"
   ]
  },
  {
   "cell_type": "markdown",
   "metadata": {},
   "source": [
    "## Analysis"
   ]
  },
  {
   "cell_type": "code",
   "execution_count": 8,
   "metadata": {
    "ExecuteTime": {
     "end_time": "2021-09-01T12:30:40.154814907+00:00",
     "start_time": "2021-09-01T12:30:31.234Z"
    }
   },
   "outputs": [],
   "source": [
    "let num_questions: usize = 30;\n",
    "let num_options: u8 = 4;\n",
    "let num_one_mark: usize = 20;\n",
    "let num_two_mark: usize = 10;\n",
    "let num_times: usize = 10000000;"
   ]
  },
  {
   "cell_type": "markdown",
   "metadata": {},
   "source": [
    "### Simplest case\n",
    "\n",
    "The simplest case would be without there being negative marking and skipping of questions. \n",
    "The expected mean score would be, \n",
    "$$\n",
    "    E(simplest) = \\frac{1}{numoptions}*totalscore\n",
    "$$\n",
    "where $numoptions$ is the total number of options available and $totalscore$ is highest possible attainable score.\n",
    "\n",
    "With the experimental setup, this would be $10$."
   ]
  },
  {
   "cell_type": "code",
   "execution_count": 9,
   "metadata": {
    "ExecuteTime": {
     "end_time": "2021-09-01T12:30:43.870238013+00:00",
     "start_time": "2021-09-01T12:30:31.237Z"
    }
   },
   "outputs": [
    {
     "name": "stdout",
     "output_type": "stream",
     "text": [
      "No negative marking, no skipping (mean): 10.0006142\n"
     ]
    }
   ],
   "source": [
    "let penalty: f64 = 0.0;\n",
    "let enable_skip = false;\n",
    "\n",
    "let simplest_case = scenario(num_questions, num_options, num_one_mark, \n",
    "                                num_two_mark, num_times, penalty, enable_skip);\n",
    "println!(\"No negative marking, no skipping (mean): {}\", simplest_case);"
   ]
  },
  {
   "cell_type": "markdown",
   "metadata": {},
   "source": [
    "### No negative marking - with skipping\n",
    "\n",
    "Since skipping will mean no marks are awarded, the expected mean will be lower. \n",
    "How much lower depends on the probability of skipping a question. \n",
    "\n",
    "Here, it is assumed that there is a uniform distribution between entering one of the 4 options and skipping. \n",
    "Therefore, there is a $20\\%$ chance of getting the correct answer. Hence, an expected score of $8$."
   ]
  },
  {
   "cell_type": "code",
   "execution_count": 10,
   "metadata": {
    "ExecuteTime": {
     "end_time": "2021-09-01T12:30:47.472253388+00:00",
     "start_time": "2021-09-01T12:30:31.239Z"
    }
   },
   "outputs": [
    {
     "name": "stdout",
     "output_type": "stream",
     "text": [
      "No negative marking (mean): 7.9983804\n"
     ]
    }
   ],
   "source": [
    "let penalty: f64 = 0.0;\n",
    "let enable_skip = true;\n",
    "\n",
    "let no_neg_w_skip = scenario(num_questions, num_options, num_one_mark, \n",
    "                                num_two_mark, num_times, penalty, enable_skip);\n",
    "println!(\"No negative marking (mean): {}\", no_neg_w_skip);"
   ]
  },
  {
   "cell_type": "markdown",
   "metadata": {},
   "source": [
    "### Penalty of 0.25 "
   ]
  },
  {
   "cell_type": "code",
   "execution_count": 11,
   "metadata": {
    "ExecuteTime": {
     "end_time": "2021-09-01T12:30:54.476742368+00:00",
     "start_time": "2021-09-01T12:30:31.241Z"
    }
   },
   "outputs": [
    {
     "name": "stdout",
     "output_type": "stream",
     "text": [
      "Negative marking of 0.5 no skip (mean): 4.594486\n",
      "Negative marking of 0.5 with skip (mean): 3.752348875\n"
     ]
    }
   ],
   "source": [
    "let penalty: f64 = 0.25;\n",
    "let enable_skip = false;\n",
    "\n",
    "let neg_quart_no_skip = scenario(num_questions, num_options, num_one_mark, \n",
    "                                num_two_mark, num_times, penalty, enable_skip);\n",
    "let enable_skip = true;\n",
    "let neg_quart_w_skip = scenario(num_questions, num_options, num_one_mark, \n",
    "                                num_two_mark, num_times, penalty, enable_skip);\n",
    "println!(\"Negative marking of 0.5 no skip (mean): {}\", neg_quart_no_skip);\n",
    "println!(\"Negative marking of 0.5 with skip (mean): {}\", neg_quart_w_skip);"
   ]
  },
  {
   "cell_type": "markdown",
   "metadata": {},
   "source": [
    "### Penalty of 0.5 - no skipping"
   ]
  },
  {
   "cell_type": "code",
   "execution_count": 12,
   "metadata": {
    "ExecuteTime": {
     "end_time": "2021-09-01T12:30:58.175875119+00:00",
     "start_time": "2021-09-01T12:30:31.244Z"
    }
   },
   "outputs": [
    {
     "name": "stdout",
     "output_type": "stream",
     "text": [
      "Negative marking of 0.5 no skip (mean): 1.2560947\n"
     ]
    }
   ],
   "source": [
    "let penalty: f64 = 0.5;\n",
    "let enable_skip = false;\n",
    "\n",
    "let neg_half_no_skip = scenario(num_questions, num_options, num_one_mark, \n",
    "                                num_two_mark, num_times, penalty, enable_skip);\n",
    "println!(\"Negative marking of 0.5 no skip (mean): {}\", neg_half_no_skip);"
   ]
  },
  {
   "cell_type": "markdown",
   "metadata": {},
   "source": [
    "### Penalty of 0.5 - with skipping"
   ]
  },
  {
   "cell_type": "code",
   "execution_count": 13,
   "metadata": {
    "ExecuteTime": {
     "end_time": "2021-09-01T12:31:02.239221803+00:00",
     "start_time": "2021-09-01T12:30:31.246Z"
    }
   },
   "outputs": [
    {
     "name": "stdout",
     "output_type": "stream",
     "text": [
      "Negative marking of 0.5 with skip (mean): 1.17329865\n"
     ]
    }
   ],
   "source": [
    "let penalty: f64 = 0.5;\n",
    "let enable_skip = true;\n",
    "\n",
    "let neg_half_w_skip = scenario(num_questions, num_options, num_one_mark, \n",
    "                                num_two_mark, num_times, penalty, enable_skip);\n",
    "println!(\"Negative marking of 0.5 with skip (mean): {}\", neg_half_w_skip);"
   ]
  },
  {
   "cell_type": "markdown",
   "metadata": {},
   "source": [
    "### Penalty of 0.75 "
   ]
  },
  {
   "cell_type": "code",
   "execution_count": 15,
   "metadata": {
    "ExecuteTime": {
     "end_time": "2021-09-01T12:31:11.335373558+00:00",
     "start_time": "2021-09-01T12:30:39.567Z"
    }
   },
   "outputs": [
    {
     "name": "stdout",
     "output_type": "stream",
     "text": [
      "Negative marking of 0.75 no skip (mean): 0.242034025\n",
      "Negative marking of 0.75 with skip (mean): 0.29118515\n"
     ]
    }
   ],
   "source": [
    "let penalty: f64 = 0.75;\n",
    "let enable_skip = false;\n",
    "\n",
    "let neg_threequart_no_skip = scenario(num_questions, num_options, num_one_mark, \n",
    "                                num_two_mark, num_times, penalty, enable_skip);\n",
    "let enable_skip = true;\n",
    "let neg_threequart_w_skip = scenario(num_questions, num_options, num_one_mark, \n",
    "                                num_two_mark, num_times, penalty, enable_skip);\n",
    "println!(\"Negative marking of 0.75 no skip (mean): {}\", neg_threequart_no_skip);\n",
    "println!(\"Negative marking of 0.75 with skip (mean): {}\", neg_threequart_w_skip);"
   ]
  }
 ],
 "metadata": {
  "kernelspec": {
   "display_name": "Rust",
   "language": "rust",
   "name": "rust"
  },
  "language_info": {
   "codemirror_mode": "rust",
   "file_extension": ".rs",
   "mimetype": "text/rust",
   "name": "Rust",
   "pygment_lexer": "rust",
   "version": ""
  }
 },
 "nbformat": 4,
 "nbformat_minor": 4
}
