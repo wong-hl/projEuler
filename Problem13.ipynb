{
 "cells": [
  {
   "cell_type": "markdown",
   "metadata": {},
   "source": [
    "# Large Sum "
   ]
  },
  {
   "cell_type": "markdown",
   "metadata": {},
   "source": [
    "Work out the first ten digits of the sum of the following one-hundred 50-digit numbers.\n",
    "\n",
    "---\n"
   ]
  },
  {
   "cell_type": "markdown",
   "metadata": {},
   "source": [
    "## Theory"
   ]
  },
  {
   "cell_type": "markdown",
   "metadata": {},
   "source": [
    "## Implementation"
   ]
  },
  {
   "cell_type": "code",
   "execution_count": 2,
   "metadata": {
    "ExecuteTime": {
     "end_time": "2021-09-04T11:19:18.876493702+00:00",
     "start_time": "2021-09-04T11:19:18.673Z"
    }
   },
   "outputs": [],
   "source": [
    "fn num_additional_digits(num_lines: usize) -> usize {\n",
    "    (num_lines as f64).log10().ceil() as usize\n",
    "}"
   ]
  },
  {
   "cell_type": "code",
   "execution_count": 3,
   "metadata": {
    "ExecuteTime": {
     "end_time": "2021-09-04T11:19:19.084340688+00:00",
     "start_time": "2021-09-04T11:19:18.677Z"
    }
   },
   "outputs": [],
   "source": [
    "use std::fs::File;\n",
    "use std::io::{BufReader, Error};\n",
    "use std::io::prelude::*;\n",
    "\n",
    "use std::collections::HashMap;\n",
    "\n",
    "fn load_numbers(file_name: &String, num_lines: usize, num_digits:usize) -> Result<HashMap<usize, Vec<u8>>,Error > {\n",
    "    \n",
    "    // Open file\n",
    "    let file = File::open(file_name)?;\n",
    "    // Create buffer reader and content storage\n",
    "    let mut buf_reader = BufReader::new(file);\n",
    "    let mut contents = String::new();\n",
    "    // Read file contents into string\n",
    "    buf_reader.read_to_string(&mut contents)?;\n",
    "    \n",
    "    // Initialise vector to store output\n",
    "    let mut output: HashMap<usize,Vec<u8>> = HashMap::with_capacity(num_digits);\n",
    "    \n",
    "    for key_val in 0..num_digits {\n",
    "        output.insert(key_val, Vec::with_capacity(num_lines));\n",
    "    }\n",
    "    \n",
    "    // Put data by position\n",
    "    contents.lines().for_each(\n",
    "        |line| line.char_indices().filter(|(index, ch)| index<&num_digits)\n",
    "                .for_each(|ch| output.get_mut(&ch.0).unwrap().push(ch.1.to_digit(10).unwrap() as u8))\n",
    "    );\n",
    "    \n",
    "    Ok(output)\n",
    "}"
   ]
  },
  {
   "cell_type": "code",
   "execution_count": 4,
   "metadata": {
    "ExecuteTime": {
     "end_time": "2021-09-04T11:19:19.084574915+00:00",
     "start_time": "2021-09-04T11:19:18.679Z"
    }
   },
   "outputs": [],
   "source": [
    "// let test_val = load_numbers(String::from(\"p13_nums.txt\"), 100, 13);\n",
    "// println!(\"{:?}\", &test_val.unwrap());"
   ]
  },
  {
   "cell_type": "code",
   "execution_count": 5,
   "metadata": {
    "ExecuteTime": {
     "end_time": "2021-09-04T11:19:19.302072957+00:00",
     "start_time": "2021-09-04T11:19:18.682Z"
    }
   },
   "outputs": [],
   "source": [
    "fn sum_columns_right_to_left(place_sums: &Vec<u16>, total_num_digits: usize) -> Vec<u8> {\n",
    "    \n",
    "    let mut digits_reversed: Vec<u8> = Vec::with_capacity(total_num_digits);\n",
    "    \n",
    "    let mut carry_over: u16 = 0;\n",
    "    \n",
    "    for curr_place_sum in place_sums.iter().rev() {\n",
    "        let local_sum = curr_place_sum + carry_over;\n",
    "        let digit = local_sum % 10;\n",
    "        carry_over = local_sum / 10;\n",
    "        digits_reversed.push(digit as u8);\n",
    "    }\n",
    "    \n",
    "    while carry_over > 0 {\n",
    "        let digit = carry_over % 10;\n",
    "        digits_reversed.push(digit as u8);\n",
    "        carry_over /= 10;\n",
    "    }\n",
    "    \n",
    "    digits_reversed.reverse();\n",
    "    \n",
    "    digits_reversed\n",
    "}"
   ]
  },
  {
   "cell_type": "code",
   "execution_count": 6,
   "metadata": {
    "ExecuteTime": {
     "end_time": "2021-09-04T11:19:19.539706975+00:00",
     "start_time": "2021-09-04T11:19:18.684Z"
    }
   },
   "outputs": [],
   "source": [
    "fn sum_large_numbers(file_name: &String, first_x_digits: usize, num_lines: usize) -> Result<Vec<u8>, Error> {\n",
    "    \n",
    "    let num_power_10 = num_additional_digits(num_lines);\n",
    "    \n",
    "    let num_digits = num_power_10 + first_x_digits;\n",
    "    \n",
    "    let input_data = load_numbers(file_name, num_lines, num_digits)?;\n",
    "    \n",
    "    let place_sums = (0..num_digits).map(|index| input_data.get(&index)\n",
    "                                                            .unwrap()\n",
    "                                                            .iter()\n",
    "                                                            .fold(0_u16, \n",
    "                                                                |local_sum, val| \n",
    "                                                                local_sum + *val as u16))\n",
    "                                        .collect::<Vec<u16>>();\n",
    "    \n",
    "    let total_sum = sum_columns_right_to_left(&place_sums, num_digits + num_power_10);\n",
    "    \n",
    "    Ok(total_sum)\n",
    "}"
   ]
  },
  {
   "cell_type": "code",
   "execution_count": 7,
   "metadata": {
    "ExecuteTime": {
     "end_time": "2021-09-04T11:19:19.783803952+00:00",
     "start_time": "2021-09-04T11:19:18.687Z"
    }
   },
   "outputs": [],
   "source": [
    "fn convert_digit_array_to_string(digit_array: &Vec<u8>, first_n_digits: usize) -> String {\n",
    "    digit_array[0..first_n_digits].iter().map(|digit| digit.to_string()).collect::<String>()\n",
    "}"
   ]
  },
  {
   "cell_type": "markdown",
   "metadata": {},
   "source": [
    "## Execution"
   ]
  },
  {
   "cell_type": "code",
   "execution_count": 8,
   "metadata": {
    "ExecuteTime": {
     "end_time": "2021-09-04T11:19:21.061953608+00:00",
     "start_time": "2021-09-04T11:19:18.690Z"
    }
   },
   "outputs": [],
   "source": [
    "let first_x_digits: usize = 10;\n",
    "let num_numbers: usize = 100;\n",
    "let input_filename: String = String::from(\"p13_nums.txt\"); "
   ]
  },
  {
   "cell_type": "code",
   "execution_count": 14,
   "metadata": {
    "ExecuteTime": {
     "end_time": "2021-09-04T11:19:46.888019129+00:00",
     "start_time": "2021-09-04T11:19:46.293Z"
    },
    "scrolled": true
   },
   "outputs": [
    {
     "name": "stdout",
     "output_type": "stream",
     "text": [
      "Array of digits [5, 5, 3, 7, 3, 7, 6, 2, 3, 0, 3, 8, 6, 0]\n",
      "First 10 digits of the sum of 100 50-digit numbers = \"5537376230\"\n"
     ]
    }
   ],
   "source": [
    "let digit_array = sum_large_numbers(&input_filename, first_x_digits, num_numbers)?;\n",
    "println!(\"Array of digits {:?}\", digit_array);\n",
    "let soln = convert_digit_array_to_string(&digit_array, first_x_digits);\n",
    "println!(\"First {} digits of the sum of {} 50-digit numbers = {:?}\", first_x_digits, num_numbers, soln);"
   ]
  }
 ],
 "metadata": {
  "kernelspec": {
   "display_name": "Rust",
   "language": "rust",
   "name": "rust"
  },
  "language_info": {
   "codemirror_mode": "rust",
   "file_extension": ".rs",
   "mimetype": "text/rust",
   "name": "Rust",
   "pygment_lexer": "rust",
   "version": ""
  }
 },
 "nbformat": 4,
 "nbformat_minor": 4
}
