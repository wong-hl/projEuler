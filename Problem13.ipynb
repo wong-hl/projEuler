{
 "cells": [
  {
   "cell_type": "markdown",
   "metadata": {},
   "source": [
    "# Large Sum "
   ]
  },
  {
   "cell_type": "markdown",
   "metadata": {},
   "source": [
    "Work out the first ten digits of the sum of the following one-hundred 50-digit numbers.\n",
    "\n",
    "---\n"
   ]
  },
  {
   "cell_type": "code",
   "execution_count": 2,
   "metadata": {
    "ExecuteTime": {
     "end_time": "2021-09-03T21:59:35.114474884+00:00",
     "start_time": "2021-09-03T21:59:34.895Z"
    }
   },
   "outputs": [],
   "source": [
    "fn num_additional_digits(num_lines: usize) -> usize {\n",
    "    (num_lines as f64).log10().ceil() as usize\n",
    "}"
   ]
  },
  {
   "cell_type": "code",
   "execution_count": 3,
   "metadata": {
    "ExecuteTime": {
     "end_time": "2021-09-03T21:59:35.352774172+00:00",
     "start_time": "2021-09-03T21:59:34.899Z"
    }
   },
   "outputs": [],
   "source": [
    "use std::fs::File;\n",
    "use std::io::{BufReader, Error};\n",
    "use std::io::prelude::*;\n",
    "\n",
    "use std::collections::HashMap;\n",
    "\n",
    "fn load_numbers(file_name: String, num_lines: usize, num_digits:usize) -> Result<HashMap<usize, Vec<u8>>,Error > {\n",
    "    \n",
    "    // Open file\n",
    "    let file = File::open(file_name)?;\n",
    "    // Create buffer reader and content storage\n",
    "    let mut buf_reader = BufReader::new(file);\n",
    "    let mut contents = String::new();\n",
    "    // Read file contents into string\n",
    "    buf_reader.read_to_string(&mut contents)?;\n",
    "    \n",
    "//     let num_digits = num_additional_digits(num_lines) + first_x_digits;\n",
    "    \n",
    "    // Initialise vector to store output\n",
    "    let mut output: HashMap<usize,Vec<u8>> = HashMap::with_capacity(num_digits);\n",
    "    \n",
    "    for key_val in 0..num_digits {\n",
    "        output.insert(key_val, Vec::with_capacity(num_lines));\n",
    "    }\n",
    "    \n",
    "    // Convert each character in each line to digits\n",
    "//     contents.lines().for_each(\n",
    "//         |line| \n",
    "//         output.push(\n",
    "//             line.chars()\n",
    "//                 .map(|ch| ch.to_digit(10).unwrap() as u8)\n",
    "//                 .collect::<Vec<u8>>())\n",
    "//     );\n",
    "    contents.lines().for_each(\n",
    "        |line| line.char_indices().filter(|(index, ch)| index<&num_digits)\n",
    "                .for_each(|ch| output.get_mut(&ch.0).unwrap().push(ch.1.to_digit(10).unwrap() as u8))\n",
    "    );\n",
    "    \n",
    "    Ok(output)\n",
    "}"
   ]
  },
  {
   "cell_type": "code",
   "execution_count": 4,
   "metadata": {
    "ExecuteTime": {
     "end_time": "2021-09-03T21:59:37.136626124+00:00",
     "start_time": "2021-09-03T21:59:34.902Z"
    }
   },
   "outputs": [
    {
     "name": "stdout",
     "output_type": "stream",
     "text": [
      "{6: [8, 3, 8, 1, 8, 7, 7, 2, 4, 8, 5, 5, 6, 6, 9, 6, 0, 8, 7, 5, 7, 7, 0, 6, 2, 2, 4, 8, 8, 8, 3, 2, 9, 8, 0, 5, 8, 0, 3, 5, 0, 8, 1, 8, 8, 6, 8, 9, 9, 8, 5, 2, 4, 1, 6, 0, 0, 4, 5, 5, 1, 5, 0, 8, 3, 7, 3, 8, 0, 9, 6, 4, 8, 7, 6, 2, 1, 4, 0, 1, 7, 9, 2, 4, 9, 8, 3, 7, 6, 1, 2, 1, 2, 8, 7, 0, 4, 3, 0, 3], 0: [3, 4, 7, 9, 2, 8, 2, 4, 4, 7, 6, 6, 9, 5, 8, 3, 8, 7, 5, 5, 3, 4, 1, 8, 5, 6, 1, 5, 1, 8, 7, 1, 4, 8, 5, 6, 4, 6, 3, 9, 8, 2, 3, 2, 9, 3, 2, 1, 6, 6, 9, 7, 3, 2, 2, 1, 3, 3, 4, 2, 4, 6, 2, 8, 1, 8, 9, 4, 5, 3, 7, 6, 3, 9, 7, 7, 9, 8, 1, 7, 6, 6, 6, 8, 6, 6, 1, 9, 7, 1, 4, 4, 4, 8, 8, 2, 7, 7, 2, 5], 9: [3, 7, 9, 6, 0, 9, 1, 1, 3, 0, 4, 6, 1, 2, 8, 7, 0, 0, 7, 0, 2, 7, 0, 1, 5, 4, 8, 2, 2, 9, 5, 0, 2, 5, 9, 7, 0, 6, 1, 6, 7, 7, 4, 0, 9, 7, 7, 3, 9, 7, 0, 3, 3, 7, 7, 5, 8, 2, 6, 8, 2, 9, 7, 2, 0, 6, 4, 8, 4, 3, 6, 5, 0, 3, 0, 2, 1, 8, 2, 7, 7, 8, 9, 8, 0, 8, 1, 4, 2, 1, 1, 0, 8, 7, 7, 5, 0, 3, 8, 2], 5: [2, 9, 9, 2, 5, 6, 8, 2, 4, 4, 4, 3, 8, 5, 1, 6, 5, 8, 0, 6, 2, 5, 7, 6, 3, 2, 4, 6, 3, 2, 8, 3, 0, 9, 4, 9, 6, 6, 0, 7, 8, 6, 2, 4, 2, 0, 0, 6, 2, 1, 2, 3, 2, 9, 8, 7, 2, 5, 9, 1, 1, 9, 7, 0, 7, 1, 3, 2, 6, 1, 1, 8, 1, 6, 4, 8, 6, 6, 8, 6, 0, 8, 8, 9, 3, 9, 9, 3, 1, 7, 9, 9, 1, 8, 5, 8, 5, 8, 6, 5], 7: [7, 7, 6, 3, 8, 0, 9, 8, 5, 6, 7, 2, 7, 5, 9, 4, 6, 8, 0, 4, 2, 6, 6, 0, 5, 1, 4, 7, 4, 7, 3, 0, 8, 7, 6, 0, 4, 7, 5, 9, 2, 0, 8, 6, 8, 5, 1, 6, 9, 6, 5, 7, 2, 3, 0, 1, 3, 3, 3, 2, 6, 7, 6, 8, 9, 4, 1, 0, 3, 5, 4, 2, 5, 1, 0, 2, 7, 6, 2, 2, 3, 1, 6, 4, 6, 2, 9, 7, 7, 3, 3, 1, 8, 0, 0, 2, 2, 8, 3, 4], 3: [0, 7, 2, 4, 6, 6, 1, 7, 5, 8, 7, 0, 7, 0, 8, 9, 1, 9, 7, 8, 2, 7, 2, 4, 3, 6, 3, 3, 3, 8, 8, 2, 0, 8, 5, 9, 5, 7, 2, 5, 0, 6, 7, 7, 3, 1, 5, 8, 8, 2, 4, 8, 7, 0, 9, 9, 9, 2, 5, 4, 9, 6, 8, 8, 0, 5, 2, 4, 2, 3, 0, 7, 2, 1, 6, 4, 4, 8, 4, 2, 8, 2, 6, 8, 2, 1, 3, 0, 3, 6, 8, 8, 0, 3, 1, 1, 5, 0, 4, 0], 8: [5, 6, 1, 3, 2, 6, 8, 9, 7, 1, 1, 4, 7, 3, 3, 3, 0, 7, 5, 1, 5, 1, 9, 4, 4, 6, 3, 5, 8, 5, 7, 1, 1, 5, 8, 6, 7, 3, 3, 7, 5, 2, 5, 9, 1, 5, 1, 9, 4, 9, 3, 1, 5, 2, 2, 4, 7, 8, 0, 1, 2, 1, 7, 2, 7, 7, 0, 1, 5, 7, 9, 7, 7, 4, 8, 5, 9, 1, 5, 4, 5, 9, 2, 0, 4, 6, 3, 2, 0, 7, 1, 5, 8, 6, 7, 0, 5, 4, 9, 2], 2: [1, 3, 3, 9, 0, 2, 1, 2, 4, 3, 1, 9, 5, 2, 1, 3, 5, 6, 3, 2, 1, 8, 4, 1, 9, 4, 7, 0, 3, 3, 1, 7, 4, 0, 9, 7, 0, 3, 8, 9, 9, 2, 2, 0, 4, 4, 0, 4, 7, 7, 5, 0, 7, 7, 7, 4, 2, 8, 9, 7, 6, 4, 1, 1, 3, 9, 6, 8, 1, 2, 5, 1, 9, 5, 2, 8, 1, 7, 8, 3, 1, 6, 6, 7, 0, 9, 7, 8, 6, 3, 7, 8, 5, 2, 6, 9, 1, 1, 8, 5], 4: [7, 6, 4, 2, 7, 1, 2, 4, 1, 6, 6, 6, 5, 3, 1, 8, 5, 3, 0, 2, 3, 6, 3, 2, 4, 7, 2, 7, 6, 6, 2, 6, 3, 6, 9, 3, 2, 8, 9, 3, 2, 7, 0, 4, 0, 3, 3, 7, 3, 0, 8, 5, 4, 1, 8, 5, 8, 9, 7, 6, 8, 7, 9, 8, 6, 9, 3, 6, 1, 8, 6, 7, 4, 8, 7, 1, 2, 3, 8, 9, 4, 7, 1, 6, 4, 3, 0, 9, 9, 8, 9, 9, 3, 4, 6, 8, 8, 7, 9, 3], 1: [7, 6, 4, 1, 3, 9, 8, 4, 7, 0, 2, 4, 2, 8, 0, 5, 6, 1, 4, 3, 6, 5, 7, 1, 1, 2, 5, 5, 8, 0, 8, 6, 8, 7, 9, 9, 1, 5, 5, 4, 8, 5, 6, 4, 1, 4, 3, 1, 3, 7, 5, 6, 7, 3, 9, 8, 8, 4, 0, 9, 1, 2, 3, 6, 1, 2, 7, 2, 5, 2, 5, 2, 2, 9, 3, 6, 7, 7, 0, 1, 2, 6, 0, 5, 6, 4, 6, 4, 8, 5, 0, 4, 1, 1, 2, 2, 7, 2, 0, 3]}\n"
     ]
    }
   ],
   "source": [
    "let test_val = load_numbers(String::from(\"p13_nums.txt\"), 100, 13);\n",
    "println!(\"{:?}\", &test_val.unwrap());"
   ]
  },
  {
   "cell_type": "code",
   "execution_count": 8,
   "metadata": {
    "ExecuteTime": {
     "end_time": "2021-09-03T22:01:59.366031107+00:00",
     "start_time": "2021-09-03T22:01:58.966Z"
    }
   },
   "outputs": [],
   "source": [
    "fn sum_large_numbers(file_name: String, first_x_digits: usize, num_lines: usize) -> Result<Vec<u8>, Error> {\n",
    "    \n",
    "    let num_digits = num_additional_digits(num_lines) + first_x_digits;\n",
    "    \n",
    "    let input_data = load_numbers(file_name, num_lines, num_digits)?;\n",
    "    \n",
    "    let mut total_sum: Vec<u8> = Vec::with_capacity(num_digits); \n",
    "    \n",
    "    let place_sums = (0..num_digits).map(|index| input_data.get(&index)\n",
    "                                                            .unwrap()\n",
    "                                                            .iter()\n",
    "                                                            .fold(0_u16, \n",
    "                                                                |local_sum, val| \n",
    "                                                                local_sum + *val as u16))\n",
    "                                        .collect::<Vec<u16>>();\n",
    "    \n",
    "    println!(\"{:?}\", place_sums);\n",
    "\n",
    "\n",
    "    Ok(total_sum)\n",
    "}"
   ]
  },
  {
   "cell_type": "code",
   "execution_count": 9,
   "metadata": {
    "ExecuteTime": {
     "end_time": "2021-09-03T22:02:00.965220401+00:00",
     "start_time": "2021-09-03T22:02:00.162Z"
    },
    "scrolled": true
   },
   "outputs": [
    {
     "name": "stdout",
     "output_type": "stream",
     "text": [
      "[506, 428, 443, 452, 503, 480, 474, 441, 446, 432, 422, 440]\n",
      "Ok(0)\n"
     ]
    }
   ],
   "source": [
    "let soln = sum_large_numbers(String::from(\"p13_nums.txt\"), 10, 100);\n",
    "println!(\"{:?}\", soln);"
   ]
  }
 ],
 "metadata": {
  "kernelspec": {
   "display_name": "Rust",
   "language": "rust",
   "name": "rust"
  },
  "language_info": {
   "codemirror_mode": "rust",
   "file_extension": ".rs",
   "mimetype": "text/rust",
   "name": "Rust",
   "pygment_lexer": "rust",
   "version": ""
  }
 },
 "nbformat": 4,
 "nbformat_minor": 4
}
